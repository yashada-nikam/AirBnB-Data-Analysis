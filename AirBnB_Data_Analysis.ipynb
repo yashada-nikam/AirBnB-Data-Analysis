{
  "nbformat": 4,
  "nbformat_minor": 0,
  "metadata": {
    "colab": {
      "provenance": []
    },
    "kernelspec": {
      "name": "python3",
      "display_name": "Python 3"
    },
    "language_info": {
      "name": "python"
    }
  },
  "cells": [
    {
      "cell_type": "markdown",
      "source": [
        "About the dataset - [Kaggle](https://www.kaggle.com/datasets/airbnb/seattle)\n",
        "\n",
        "**Context**\n",
        "\n",
        "Since 2008, guests and hosts have used Airbnb to travel in a more unique, personalized way. As part of the Airbnb Inside initiative, this dataset describes the listing activity of homestays in Seattle, WA.\n",
        "\n",
        "**Content**\n",
        "\n",
        "The following Airbnb activity is included in this Seattle dataset:\n",
        "\n",
        "Listings, including full descriptions and average review score\n",
        "Reviews, including unique id for each reviewer and detailed comments\n",
        "Calendar, including listing id and the price and availability for that day"
      ],
      "metadata": {
        "id": "2FhuHqTPE4TE"
      }
    },
    {
      "cell_type": "code",
      "source": [],
      "metadata": {
        "id": "37uHjDntE31b"
      },
      "execution_count": null,
      "outputs": []
    },
    {
      "cell_type": "markdown",
      "source": [
        "#### Data Cleaning using Python"
      ],
      "metadata": {
        "id": "z7EwvNkXEU-c"
      }
    },
    {
      "cell_type": "code",
      "source": [],
      "metadata": {
        "id": "mAMyKDXiEUmH"
      },
      "execution_count": null,
      "outputs": []
    },
    {
      "cell_type": "code",
      "execution_count": null,
      "metadata": {
        "id": "HcfCMHW97H4F"
      },
      "outputs": [],
      "source": [
        "import pandas as pd"
      ]
    },
    {
      "cell_type": "code",
      "source": [
        "# Store CSV to DataFrame\n",
        "listing_host_csv = \"/content/drive/MyDrive/DS Portfolio/Projects and Case Studies/AirBnB/listings.csv\"\n",
        "listing_host_df = pd.read_csv(listing_host_csv,encoding=\"utf8\")"
      ],
      "metadata": {
        "id": "FeotOWhy7Oa1"
      },
      "execution_count": null,
      "outputs": []
    },
    {
      "cell_type": "code",
      "source": [
        "# change column \"name\" to something that SQL doesn't already recognize\n",
        "listing_host_df.rename(index=str,columns={\"name\":\"listing_name\"},inplace=True)\n",
        "listing_host_df.head()"
      ],
      "metadata": {
        "colab": {
          "base_uri": "https://localhost:8080/",
          "height": 664
        },
        "id": "Hvl8k7Y57Ocb",
        "outputId": "2d14a09b-c512-4e19-aaf5-ba302f101336"
      },
      "execution_count": null,
      "outputs": [
        {
          "output_type": "execute_result",
          "data": {
            "text/plain": [
              "        id                           listing_url       scrape_id last_scraped  \\\n",
              "0   241032   https://www.airbnb.com/rooms/241032  20160104002432   2016-01-04   \n",
              "1   953595   https://www.airbnb.com/rooms/953595  20160104002432   2016-01-04   \n",
              "2  3308979  https://www.airbnb.com/rooms/3308979  20160104002432   2016-01-04   \n",
              "3  7421966  https://www.airbnb.com/rooms/7421966  20160104002432   2016-01-04   \n",
              "4   278830   https://www.airbnb.com/rooms/278830  20160104002432   2016-01-04   \n",
              "\n",
              "                          listing_name  \\\n",
              "0         Stylish Queen Anne Apartment   \n",
              "1   Bright & Airy Queen Anne Apartment   \n",
              "2  New Modern House-Amazing water view   \n",
              "3                   Queen Anne Chateau   \n",
              "4       Charming craftsman 3 bdm house   \n",
              "\n",
              "                                             summary  \\\n",
              "0                                                NaN   \n",
              "1  Chemically sensitive? We've removed the irrita...   \n",
              "2  New modern house built in 2013.  Spectacular s...   \n",
              "3  A charming apartment that sits atop Queen Anne...   \n",
              "4  Cozy family craftman house in beautiful neighb...   \n",
              "\n",
              "                                               space  \\\n",
              "0  Make your self at home in this charming one-be...   \n",
              "1  Beautiful, hypoallergenic apartment in an extr...   \n",
              "2  Our house is modern, light and fresh with a wa...   \n",
              "3                                                NaN   \n",
              "4  Cozy family craftman house in beautiful neighb...   \n",
              "\n",
              "                                         description experiences_offered  \\\n",
              "0  Make your self at home in this charming one-be...                none   \n",
              "1  Chemically sensitive? We've removed the irrita...                none   \n",
              "2  New modern house built in 2013.  Spectacular s...                none   \n",
              "3  A charming apartment that sits atop Queen Anne...                none   \n",
              "4  Cozy family craftman house in beautiful neighb...                none   \n",
              "\n",
              "                               neighborhood_overview  ... review_scores_value  \\\n",
              "0                                                NaN  ...                10.0   \n",
              "1  Queen Anne is a wonderful, truly functional vi...  ...                10.0   \n",
              "2  Upper Queen Anne is a charming neighborhood fu...  ...                10.0   \n",
              "3                                                NaN  ...                 NaN   \n",
              "4  We are in the beautiful neighborhood of Queen ...  ...                 9.0   \n",
              "\n",
              "  requires_license license jurisdiction_names instant_bookable  \\\n",
              "0                f     NaN         WASHINGTON                f   \n",
              "1                f     NaN         WASHINGTON                f   \n",
              "2                f     NaN         WASHINGTON                f   \n",
              "3                f     NaN         WASHINGTON                f   \n",
              "4                f     NaN         WASHINGTON                f   \n",
              "\n",
              "  cancellation_policy  require_guest_profile_picture  \\\n",
              "0            moderate                              f   \n",
              "1              strict                              t   \n",
              "2              strict                              f   \n",
              "3            flexible                              f   \n",
              "4              strict                              f   \n",
              "\n",
              "  require_guest_phone_verification calculated_host_listings_count  \\\n",
              "0                                f                              2   \n",
              "1                                t                              6   \n",
              "2                                f                              2   \n",
              "3                                f                              1   \n",
              "4                                f                              1   \n",
              "\n",
              "  reviews_per_month  \n",
              "0              4.07  \n",
              "1              1.48  \n",
              "2              1.15  \n",
              "3               NaN  \n",
              "4              0.89  \n",
              "\n",
              "[5 rows x 92 columns]"
            ],
            "text/html": [
              "\n",
              "  <div id=\"df-db46e341-f5e7-4c4d-a788-4615f3b79a55\">\n",
              "    <div class=\"colab-df-container\">\n",
              "      <div>\n",
              "<style scoped>\n",
              "    .dataframe tbody tr th:only-of-type {\n",
              "        vertical-align: middle;\n",
              "    }\n",
              "\n",
              "    .dataframe tbody tr th {\n",
              "        vertical-align: top;\n",
              "    }\n",
              "\n",
              "    .dataframe thead th {\n",
              "        text-align: right;\n",
              "    }\n",
              "</style>\n",
              "<table border=\"1\" class=\"dataframe\">\n",
              "  <thead>\n",
              "    <tr style=\"text-align: right;\">\n",
              "      <th></th>\n",
              "      <th>id</th>\n",
              "      <th>listing_url</th>\n",
              "      <th>scrape_id</th>\n",
              "      <th>last_scraped</th>\n",
              "      <th>listing_name</th>\n",
              "      <th>summary</th>\n",
              "      <th>space</th>\n",
              "      <th>description</th>\n",
              "      <th>experiences_offered</th>\n",
              "      <th>neighborhood_overview</th>\n",
              "      <th>...</th>\n",
              "      <th>review_scores_value</th>\n",
              "      <th>requires_license</th>\n",
              "      <th>license</th>\n",
              "      <th>jurisdiction_names</th>\n",
              "      <th>instant_bookable</th>\n",
              "      <th>cancellation_policy</th>\n",
              "      <th>require_guest_profile_picture</th>\n",
              "      <th>require_guest_phone_verification</th>\n",
              "      <th>calculated_host_listings_count</th>\n",
              "      <th>reviews_per_month</th>\n",
              "    </tr>\n",
              "  </thead>\n",
              "  <tbody>\n",
              "    <tr>\n",
              "      <th>0</th>\n",
              "      <td>241032</td>\n",
              "      <td>https://www.airbnb.com/rooms/241032</td>\n",
              "      <td>20160104002432</td>\n",
              "      <td>2016-01-04</td>\n",
              "      <td>Stylish Queen Anne Apartment</td>\n",
              "      <td>NaN</td>\n",
              "      <td>Make your self at home in this charming one-be...</td>\n",
              "      <td>Make your self at home in this charming one-be...</td>\n",
              "      <td>none</td>\n",
              "      <td>NaN</td>\n",
              "      <td>...</td>\n",
              "      <td>10.0</td>\n",
              "      <td>f</td>\n",
              "      <td>NaN</td>\n",
              "      <td>WASHINGTON</td>\n",
              "      <td>f</td>\n",
              "      <td>moderate</td>\n",
              "      <td>f</td>\n",
              "      <td>f</td>\n",
              "      <td>2</td>\n",
              "      <td>4.07</td>\n",
              "    </tr>\n",
              "    <tr>\n",
              "      <th>1</th>\n",
              "      <td>953595</td>\n",
              "      <td>https://www.airbnb.com/rooms/953595</td>\n",
              "      <td>20160104002432</td>\n",
              "      <td>2016-01-04</td>\n",
              "      <td>Bright &amp; Airy Queen Anne Apartment</td>\n",
              "      <td>Chemically sensitive? We've removed the irrita...</td>\n",
              "      <td>Beautiful, hypoallergenic apartment in an extr...</td>\n",
              "      <td>Chemically sensitive? We've removed the irrita...</td>\n",
              "      <td>none</td>\n",
              "      <td>Queen Anne is a wonderful, truly functional vi...</td>\n",
              "      <td>...</td>\n",
              "      <td>10.0</td>\n",
              "      <td>f</td>\n",
              "      <td>NaN</td>\n",
              "      <td>WASHINGTON</td>\n",
              "      <td>f</td>\n",
              "      <td>strict</td>\n",
              "      <td>t</td>\n",
              "      <td>t</td>\n",
              "      <td>6</td>\n",
              "      <td>1.48</td>\n",
              "    </tr>\n",
              "    <tr>\n",
              "      <th>2</th>\n",
              "      <td>3308979</td>\n",
              "      <td>https://www.airbnb.com/rooms/3308979</td>\n",
              "      <td>20160104002432</td>\n",
              "      <td>2016-01-04</td>\n",
              "      <td>New Modern House-Amazing water view</td>\n",
              "      <td>New modern house built in 2013.  Spectacular s...</td>\n",
              "      <td>Our house is modern, light and fresh with a wa...</td>\n",
              "      <td>New modern house built in 2013.  Spectacular s...</td>\n",
              "      <td>none</td>\n",
              "      <td>Upper Queen Anne is a charming neighborhood fu...</td>\n",
              "      <td>...</td>\n",
              "      <td>10.0</td>\n",
              "      <td>f</td>\n",
              "      <td>NaN</td>\n",
              "      <td>WASHINGTON</td>\n",
              "      <td>f</td>\n",
              "      <td>strict</td>\n",
              "      <td>f</td>\n",
              "      <td>f</td>\n",
              "      <td>2</td>\n",
              "      <td>1.15</td>\n",
              "    </tr>\n",
              "    <tr>\n",
              "      <th>3</th>\n",
              "      <td>7421966</td>\n",
              "      <td>https://www.airbnb.com/rooms/7421966</td>\n",
              "      <td>20160104002432</td>\n",
              "      <td>2016-01-04</td>\n",
              "      <td>Queen Anne Chateau</td>\n",
              "      <td>A charming apartment that sits atop Queen Anne...</td>\n",
              "      <td>NaN</td>\n",
              "      <td>A charming apartment that sits atop Queen Anne...</td>\n",
              "      <td>none</td>\n",
              "      <td>NaN</td>\n",
              "      <td>...</td>\n",
              "      <td>NaN</td>\n",
              "      <td>f</td>\n",
              "      <td>NaN</td>\n",
              "      <td>WASHINGTON</td>\n",
              "      <td>f</td>\n",
              "      <td>flexible</td>\n",
              "      <td>f</td>\n",
              "      <td>f</td>\n",
              "      <td>1</td>\n",
              "      <td>NaN</td>\n",
              "    </tr>\n",
              "    <tr>\n",
              "      <th>4</th>\n",
              "      <td>278830</td>\n",
              "      <td>https://www.airbnb.com/rooms/278830</td>\n",
              "      <td>20160104002432</td>\n",
              "      <td>2016-01-04</td>\n",
              "      <td>Charming craftsman 3 bdm house</td>\n",
              "      <td>Cozy family craftman house in beautiful neighb...</td>\n",
              "      <td>Cozy family craftman house in beautiful neighb...</td>\n",
              "      <td>Cozy family craftman house in beautiful neighb...</td>\n",
              "      <td>none</td>\n",
              "      <td>We are in the beautiful neighborhood of Queen ...</td>\n",
              "      <td>...</td>\n",
              "      <td>9.0</td>\n",
              "      <td>f</td>\n",
              "      <td>NaN</td>\n",
              "      <td>WASHINGTON</td>\n",
              "      <td>f</td>\n",
              "      <td>strict</td>\n",
              "      <td>f</td>\n",
              "      <td>f</td>\n",
              "      <td>1</td>\n",
              "      <td>0.89</td>\n",
              "    </tr>\n",
              "  </tbody>\n",
              "</table>\n",
              "<p>5 rows × 92 columns</p>\n",
              "</div>\n",
              "      <button class=\"colab-df-convert\" onclick=\"convertToInteractive('df-db46e341-f5e7-4c4d-a788-4615f3b79a55')\"\n",
              "              title=\"Convert this dataframe to an interactive table.\"\n",
              "              style=\"display:none;\">\n",
              "        \n",
              "  <svg xmlns=\"http://www.w3.org/2000/svg\" height=\"24px\"viewBox=\"0 0 24 24\"\n",
              "       width=\"24px\">\n",
              "    <path d=\"M0 0h24v24H0V0z\" fill=\"none\"/>\n",
              "    <path d=\"M18.56 5.44l.94 2.06.94-2.06 2.06-.94-2.06-.94-.94-2.06-.94 2.06-2.06.94zm-11 1L8.5 8.5l.94-2.06 2.06-.94-2.06-.94L8.5 2.5l-.94 2.06-2.06.94zm10 10l.94 2.06.94-2.06 2.06-.94-2.06-.94-.94-2.06-.94 2.06-2.06.94z\"/><path d=\"M17.41 7.96l-1.37-1.37c-.4-.4-.92-.59-1.43-.59-.52 0-1.04.2-1.43.59L10.3 9.45l-7.72 7.72c-.78.78-.78 2.05 0 2.83L4 21.41c.39.39.9.59 1.41.59.51 0 1.02-.2 1.41-.59l7.78-7.78 2.81-2.81c.8-.78.8-2.07 0-2.86zM5.41 20L4 18.59l7.72-7.72 1.47 1.35L5.41 20z\"/>\n",
              "  </svg>\n",
              "      </button>\n",
              "      \n",
              "  <style>\n",
              "    .colab-df-container {\n",
              "      display:flex;\n",
              "      flex-wrap:wrap;\n",
              "      gap: 12px;\n",
              "    }\n",
              "\n",
              "    .colab-df-convert {\n",
              "      background-color: #E8F0FE;\n",
              "      border: none;\n",
              "      border-radius: 50%;\n",
              "      cursor: pointer;\n",
              "      display: none;\n",
              "      fill: #1967D2;\n",
              "      height: 32px;\n",
              "      padding: 0 0 0 0;\n",
              "      width: 32px;\n",
              "    }\n",
              "\n",
              "    .colab-df-convert:hover {\n",
              "      background-color: #E2EBFA;\n",
              "      box-shadow: 0px 1px 2px rgba(60, 64, 67, 0.3), 0px 1px 3px 1px rgba(60, 64, 67, 0.15);\n",
              "      fill: #174EA6;\n",
              "    }\n",
              "\n",
              "    [theme=dark] .colab-df-convert {\n",
              "      background-color: #3B4455;\n",
              "      fill: #D2E3FC;\n",
              "    }\n",
              "\n",
              "    [theme=dark] .colab-df-convert:hover {\n",
              "      background-color: #434B5C;\n",
              "      box-shadow: 0px 1px 3px 1px rgba(0, 0, 0, 0.15);\n",
              "      filter: drop-shadow(0px 1px 2px rgba(0, 0, 0, 0.3));\n",
              "      fill: #FFFFFF;\n",
              "    }\n",
              "  </style>\n",
              "\n",
              "      <script>\n",
              "        const buttonEl =\n",
              "          document.querySelector('#df-db46e341-f5e7-4c4d-a788-4615f3b79a55 button.colab-df-convert');\n",
              "        buttonEl.style.display =\n",
              "          google.colab.kernel.accessAllowed ? 'block' : 'none';\n",
              "\n",
              "        async function convertToInteractive(key) {\n",
              "          const element = document.querySelector('#df-db46e341-f5e7-4c4d-a788-4615f3b79a55');\n",
              "          const dataTable =\n",
              "            await google.colab.kernel.invokeFunction('convertToInteractive',\n",
              "                                                     [key], {});\n",
              "          if (!dataTable) return;\n",
              "\n",
              "          const docLinkHtml = 'Like what you see? Visit the ' +\n",
              "            '<a target=\"_blank\" href=https://colab.research.google.com/notebooks/data_table.ipynb>data table notebook</a>'\n",
              "            + ' to learn more about interactive tables.';\n",
              "          element.innerHTML = '';\n",
              "          dataTable['output_type'] = 'display_data';\n",
              "          await google.colab.output.renderOutput(dataTable, element);\n",
              "          const docLink = document.createElement('div');\n",
              "          docLink.innerHTML = docLinkHtml;\n",
              "          element.appendChild(docLink);\n",
              "        }\n",
              "      </script>\n",
              "    </div>\n",
              "  </div>\n",
              "  "
            ]
          },
          "metadata": {},
          "execution_count": 3
        }
      ]
    },
    {
      "cell_type": "code",
      "source": [
        "# Create new data with select columns for the AirBnB listings\n",
        "listing_df = listing_host_df[[\"id\",\"listing_name\",\"street\",\"neighbourhood_cleansed\",\"neighbourhood_group_cleansed\",\"city\",\"state\",\"zipcode\",\"latitude\",\"longitude\",\"is_location_exact\",\"property_type\",\"room_type\",\"accommodates\",\"bathrooms\",\"bedrooms\",\"beds\",\"bed_type\",\"square_feet\",\"price\",\"weekly_price\",\"monthly_price\",\"security_deposit\",\"cleaning_fee\",\"guests_included\",\"extra_people\",\"minimum_nights\",\"maximum_nights\",\"has_availability\",\"availability_30\",\"availability_60\",\"availability_90\",\"availability_365\",\"number_of_reviews\",\"first_review\",\"last_review\",\"review_scores_rating\",\"review_scores_accuracy\",\"review_scores_cleanliness\",\"review_scores_checkin\",\"review_scores_communication\",\"review_scores_location\",\"review_scores_value\",\"requires_license\",\"instant_bookable\",\"cancellation_policy\",\"require_guest_profile_picture\",\"require_guest_phone_verification\",\"reviews_per_month\",\"host_id\"]].copy()"
      ],
      "metadata": {
        "id": "CE77dLd67Ofx"
      },
      "execution_count": null,
      "outputs": []
    },
    {
      "cell_type": "code",
      "source": [
        "# convert dates to datetime\n",
        "listing_df[\"first_review\"]=pd.to_datetime(listing_df[\"first_review\"])\n",
        "listing_df[\"last_review\"]=pd.to_datetime(listing_df[\"last_review\"])"
      ],
      "metadata": {
        "id": "H_SLZG4t7Ohb"
      },
      "execution_count": null,
      "outputs": []
    },
    {
      "cell_type": "code",
      "source": [
        "# convert boolean columns to boolean\n",
        "listing_df[\"is_location_exact\"].replace([\"t\",\"f\"],[True,False],inplace=True)\n",
        "listing_df[\"has_availability\"].replace([\"t\",\"f\"],[True,False],inplace=True)\n",
        "listing_df[\"requires_license\"].replace([\"t\",\"f\"],[True,False],inplace=True)\n",
        "listing_df[\"instant_bookable\"].replace([\"t\",\"f\"],[True,False],inplace=True)\n",
        "listing_df[\"require_guest_profile_picture\"].replace([\"t\",\"f\"],[True,False],inplace=True)\n",
        "listing_df[\"require_guest_phone_verification\"].replace([\"t\",\"f\"],[True,False],inplace=True)"
      ],
      "metadata": {
        "id": "5Rndr8vD7OlD"
      },
      "execution_count": null,
      "outputs": []
    },
    {
      "cell_type": "code",
      "source": [
        "# convert all the currency columns to numeric values instead of strings\n",
        "# define the currency columns\n",
        "currency_cols=[\"price\",\"weekly_price\",\"monthly_price\",\"security_deposit\",\"cleaning_fee\",\"extra_people\"]\n",
        "# remove dollar sign and commas\n",
        "listing_df[currency_cols]=listing_df[currency_cols].replace({'\\$': '', ',': ''}, regex=True)\n",
        "# changing the leftover value (minus currency sign and commas) to a number\n",
        "listing_df[\"price\"] = pd.to_numeric(listing_df[\"price\"])\n",
        "listing_df[\"weekly_price\"] = pd.to_numeric(listing_df[\"weekly_price\"])\n",
        "listing_df[\"monthly_price\"] = pd.to_numeric(listing_df[\"monthly_price\"])\n",
        "listing_df[\"security_deposit\"] = pd.to_numeric(listing_df[\"security_deposit\"])\n",
        "listing_df[\"cleaning_fee\"] = pd.to_numeric(listing_df[\"cleaning_fee\"])\n",
        "listing_df[\"extra_people\"] = pd.to_numeric(listing_df[\"extra_people\"])\n",
        "listing_df"
      ],
      "metadata": {
        "colab": {
          "base_uri": "https://localhost:8080/",
          "height": 1000
        },
        "id": "mzIrvFUI7Omr",
        "outputId": "9ff8135e-70b3-4c46-ea2a-1d1538108576"
      },
      "execution_count": null,
      "outputs": [
        {
          "output_type": "execute_result",
          "data": {
            "text/plain": [
              "            id                         listing_name  \\\n",
              "0       241032         Stylish Queen Anne Apartment   \n",
              "1       953595   Bright & Airy Queen Anne Apartment   \n",
              "2      3308979  New Modern House-Amazing water view   \n",
              "3      7421966                   Queen Anne Chateau   \n",
              "4       278830       Charming craftsman 3 bdm house   \n",
              "...        ...                                  ...   \n",
              "3813   8101950   3BR Mountain View House in Seattle   \n",
              "3814   8902327    Portage Bay View!-One Bedroom Apt   \n",
              "3815  10267360    Private apartment view of Lake WA   \n",
              "3816   9604740    Amazing View with Modern Comfort!   \n",
              "3817  10208623            Large Lakefront Apartment   \n",
              "\n",
              "                                                 street  \\\n",
              "0         Gilman Dr W, Seattle, WA 98119, United States   \n",
              "1     7th Avenue West, Seattle, WA 98119, United States   \n",
              "2     West Lee Street, Seattle, WA 98119, United States   \n",
              "3     8th Avenue West, Seattle, WA 98119, United States   \n",
              "4          14th Ave W, Seattle, WA 98119, United States   \n",
              "...                                                 ...   \n",
              "3813  Northwest 48th Street, Seattle, WA 98107, Unit...   \n",
              "3814  Fuhrman Avenue East, Seattle, WA 98102, United...   \n",
              "3815  South Laurel Street, Seattle, WA 98178, United...   \n",
              "3816  43rd Avenue East, Seattle, WA 98112, United St...   \n",
              "3817  Westlake Avenue North, Seattle, WA 98109, Unit...   \n",
              "\n",
              "     neighbourhood_cleansed neighbourhood_group_cleansed     city state  \\\n",
              "0           West Queen Anne                   Queen Anne  Seattle    WA   \n",
              "1           West Queen Anne                   Queen Anne  Seattle    WA   \n",
              "2           West Queen Anne                   Queen Anne  Seattle    WA   \n",
              "3           West Queen Anne                   Queen Anne  Seattle    WA   \n",
              "4           West Queen Anne                   Queen Anne  Seattle    WA   \n",
              "...                     ...                          ...      ...   ...   \n",
              "3813                Fremont          Other neighborhoods  Seattle    WA   \n",
              "3814            Portage Bay                 Capitol Hill  Seattle    WA   \n",
              "3815          Rainier Beach               Rainier Valley  Seattle    WA   \n",
              "3816           Madison Park                 Capitol Hill  Seattle    WA   \n",
              "3817        East Queen Anne                   Queen Anne  Seattle    WA   \n",
              "\n",
              "     zipcode   latitude   longitude  ...  review_scores_communication  \\\n",
              "0      98119  47.636289 -122.371025  ...                         10.0   \n",
              "1      98119  47.639123 -122.365666  ...                         10.0   \n",
              "2      98119  47.629724 -122.369483  ...                         10.0   \n",
              "3      98119  47.638473 -122.369279  ...                          NaN   \n",
              "4      98119  47.632918 -122.372471  ...                         10.0   \n",
              "...      ...        ...         ...  ...                          ...   \n",
              "3813   98107  47.664295 -122.359170  ...                          8.0   \n",
              "3814   98102  47.649552 -122.318309  ...                         10.0   \n",
              "3815   98178  47.508453 -122.240607  ...                          NaN   \n",
              "3816   98112  47.632335 -122.275530  ...                          NaN   \n",
              "3817   98109  47.641186 -122.342085  ...                          NaN   \n",
              "\n",
              "     review_scores_location review_scores_value  requires_license  \\\n",
              "0                       9.0                10.0             False   \n",
              "1                      10.0                10.0             False   \n",
              "2                      10.0                10.0             False   \n",
              "3                       NaN                 NaN             False   \n",
              "4                       9.0                 9.0             False   \n",
              "...                     ...                 ...               ...   \n",
              "3813                   10.0                 8.0             False   \n",
              "3814                   10.0                10.0             False   \n",
              "3815                    NaN                 NaN             False   \n",
              "3816                    NaN                 NaN             False   \n",
              "3817                    NaN                 NaN             False   \n",
              "\n",
              "      instant_bookable  cancellation_policy  require_guest_profile_picture  \\\n",
              "0                False             moderate                          False   \n",
              "1                False               strict                           True   \n",
              "2                False               strict                          False   \n",
              "3                False             flexible                          False   \n",
              "4                False               strict                          False   \n",
              "...                ...                  ...                            ...   \n",
              "3813             False               strict                          False   \n",
              "3814             False             moderate                          False   \n",
              "3815             False             moderate                          False   \n",
              "3816             False             moderate                          False   \n",
              "3817             False             flexible                          False   \n",
              "\n",
              "     require_guest_phone_verification  reviews_per_month   host_id  \n",
              "0                               False               4.07    956883  \n",
              "1                                True               1.48   5177328  \n",
              "2                               False               1.15  16708587  \n",
              "3                               False                NaN   9851441  \n",
              "4                               False               0.89   1452570  \n",
              "...                               ...                ...       ...  \n",
              "3813                            False               0.30  31148752  \n",
              "3814                            False               2.00  46566046  \n",
              "3815                            False                NaN  52791370  \n",
              "3816                            False                NaN  25522052  \n",
              "3817                            False                NaN  14703116  \n",
              "\n",
              "[3818 rows x 50 columns]"
            ],
            "text/html": [
              "\n",
              "  <div id=\"df-cbca4efa-ff00-4261-b8a6-c516fa0e3865\">\n",
              "    <div class=\"colab-df-container\">\n",
              "      <div>\n",
              "<style scoped>\n",
              "    .dataframe tbody tr th:only-of-type {\n",
              "        vertical-align: middle;\n",
              "    }\n",
              "\n",
              "    .dataframe tbody tr th {\n",
              "        vertical-align: top;\n",
              "    }\n",
              "\n",
              "    .dataframe thead th {\n",
              "        text-align: right;\n",
              "    }\n",
              "</style>\n",
              "<table border=\"1\" class=\"dataframe\">\n",
              "  <thead>\n",
              "    <tr style=\"text-align: right;\">\n",
              "      <th></th>\n",
              "      <th>id</th>\n",
              "      <th>listing_name</th>\n",
              "      <th>street</th>\n",
              "      <th>neighbourhood_cleansed</th>\n",
              "      <th>neighbourhood_group_cleansed</th>\n",
              "      <th>city</th>\n",
              "      <th>state</th>\n",
              "      <th>zipcode</th>\n",
              "      <th>latitude</th>\n",
              "      <th>longitude</th>\n",
              "      <th>...</th>\n",
              "      <th>review_scores_communication</th>\n",
              "      <th>review_scores_location</th>\n",
              "      <th>review_scores_value</th>\n",
              "      <th>requires_license</th>\n",
              "      <th>instant_bookable</th>\n",
              "      <th>cancellation_policy</th>\n",
              "      <th>require_guest_profile_picture</th>\n",
              "      <th>require_guest_phone_verification</th>\n",
              "      <th>reviews_per_month</th>\n",
              "      <th>host_id</th>\n",
              "    </tr>\n",
              "  </thead>\n",
              "  <tbody>\n",
              "    <tr>\n",
              "      <th>0</th>\n",
              "      <td>241032</td>\n",
              "      <td>Stylish Queen Anne Apartment</td>\n",
              "      <td>Gilman Dr W, Seattle, WA 98119, United States</td>\n",
              "      <td>West Queen Anne</td>\n",
              "      <td>Queen Anne</td>\n",
              "      <td>Seattle</td>\n",
              "      <td>WA</td>\n",
              "      <td>98119</td>\n",
              "      <td>47.636289</td>\n",
              "      <td>-122.371025</td>\n",
              "      <td>...</td>\n",
              "      <td>10.0</td>\n",
              "      <td>9.0</td>\n",
              "      <td>10.0</td>\n",
              "      <td>False</td>\n",
              "      <td>False</td>\n",
              "      <td>moderate</td>\n",
              "      <td>False</td>\n",
              "      <td>False</td>\n",
              "      <td>4.07</td>\n",
              "      <td>956883</td>\n",
              "    </tr>\n",
              "    <tr>\n",
              "      <th>1</th>\n",
              "      <td>953595</td>\n",
              "      <td>Bright &amp; Airy Queen Anne Apartment</td>\n",
              "      <td>7th Avenue West, Seattle, WA 98119, United States</td>\n",
              "      <td>West Queen Anne</td>\n",
              "      <td>Queen Anne</td>\n",
              "      <td>Seattle</td>\n",
              "      <td>WA</td>\n",
              "      <td>98119</td>\n",
              "      <td>47.639123</td>\n",
              "      <td>-122.365666</td>\n",
              "      <td>...</td>\n",
              "      <td>10.0</td>\n",
              "      <td>10.0</td>\n",
              "      <td>10.0</td>\n",
              "      <td>False</td>\n",
              "      <td>False</td>\n",
              "      <td>strict</td>\n",
              "      <td>True</td>\n",
              "      <td>True</td>\n",
              "      <td>1.48</td>\n",
              "      <td>5177328</td>\n",
              "    </tr>\n",
              "    <tr>\n",
              "      <th>2</th>\n",
              "      <td>3308979</td>\n",
              "      <td>New Modern House-Amazing water view</td>\n",
              "      <td>West Lee Street, Seattle, WA 98119, United States</td>\n",
              "      <td>West Queen Anne</td>\n",
              "      <td>Queen Anne</td>\n",
              "      <td>Seattle</td>\n",
              "      <td>WA</td>\n",
              "      <td>98119</td>\n",
              "      <td>47.629724</td>\n",
              "      <td>-122.369483</td>\n",
              "      <td>...</td>\n",
              "      <td>10.0</td>\n",
              "      <td>10.0</td>\n",
              "      <td>10.0</td>\n",
              "      <td>False</td>\n",
              "      <td>False</td>\n",
              "      <td>strict</td>\n",
              "      <td>False</td>\n",
              "      <td>False</td>\n",
              "      <td>1.15</td>\n",
              "      <td>16708587</td>\n",
              "    </tr>\n",
              "    <tr>\n",
              "      <th>3</th>\n",
              "      <td>7421966</td>\n",
              "      <td>Queen Anne Chateau</td>\n",
              "      <td>8th Avenue West, Seattle, WA 98119, United States</td>\n",
              "      <td>West Queen Anne</td>\n",
              "      <td>Queen Anne</td>\n",
              "      <td>Seattle</td>\n",
              "      <td>WA</td>\n",
              "      <td>98119</td>\n",
              "      <td>47.638473</td>\n",
              "      <td>-122.369279</td>\n",
              "      <td>...</td>\n",
              "      <td>NaN</td>\n",
              "      <td>NaN</td>\n",
              "      <td>NaN</td>\n",
              "      <td>False</td>\n",
              "      <td>False</td>\n",
              "      <td>flexible</td>\n",
              "      <td>False</td>\n",
              "      <td>False</td>\n",
              "      <td>NaN</td>\n",
              "      <td>9851441</td>\n",
              "    </tr>\n",
              "    <tr>\n",
              "      <th>4</th>\n",
              "      <td>278830</td>\n",
              "      <td>Charming craftsman 3 bdm house</td>\n",
              "      <td>14th Ave W, Seattle, WA 98119, United States</td>\n",
              "      <td>West Queen Anne</td>\n",
              "      <td>Queen Anne</td>\n",
              "      <td>Seattle</td>\n",
              "      <td>WA</td>\n",
              "      <td>98119</td>\n",
              "      <td>47.632918</td>\n",
              "      <td>-122.372471</td>\n",
              "      <td>...</td>\n",
              "      <td>10.0</td>\n",
              "      <td>9.0</td>\n",
              "      <td>9.0</td>\n",
              "      <td>False</td>\n",
              "      <td>False</td>\n",
              "      <td>strict</td>\n",
              "      <td>False</td>\n",
              "      <td>False</td>\n",
              "      <td>0.89</td>\n",
              "      <td>1452570</td>\n",
              "    </tr>\n",
              "    <tr>\n",
              "      <th>...</th>\n",
              "      <td>...</td>\n",
              "      <td>...</td>\n",
              "      <td>...</td>\n",
              "      <td>...</td>\n",
              "      <td>...</td>\n",
              "      <td>...</td>\n",
              "      <td>...</td>\n",
              "      <td>...</td>\n",
              "      <td>...</td>\n",
              "      <td>...</td>\n",
              "      <td>...</td>\n",
              "      <td>...</td>\n",
              "      <td>...</td>\n",
              "      <td>...</td>\n",
              "      <td>...</td>\n",
              "      <td>...</td>\n",
              "      <td>...</td>\n",
              "      <td>...</td>\n",
              "      <td>...</td>\n",
              "      <td>...</td>\n",
              "      <td>...</td>\n",
              "    </tr>\n",
              "    <tr>\n",
              "      <th>3813</th>\n",
              "      <td>8101950</td>\n",
              "      <td>3BR Mountain View House in Seattle</td>\n",
              "      <td>Northwest 48th Street, Seattle, WA 98107, Unit...</td>\n",
              "      <td>Fremont</td>\n",
              "      <td>Other neighborhoods</td>\n",
              "      <td>Seattle</td>\n",
              "      <td>WA</td>\n",
              "      <td>98107</td>\n",
              "      <td>47.664295</td>\n",
              "      <td>-122.359170</td>\n",
              "      <td>...</td>\n",
              "      <td>8.0</td>\n",
              "      <td>10.0</td>\n",
              "      <td>8.0</td>\n",
              "      <td>False</td>\n",
              "      <td>False</td>\n",
              "      <td>strict</td>\n",
              "      <td>False</td>\n",
              "      <td>False</td>\n",
              "      <td>0.30</td>\n",
              "      <td>31148752</td>\n",
              "    </tr>\n",
              "    <tr>\n",
              "      <th>3814</th>\n",
              "      <td>8902327</td>\n",
              "      <td>Portage Bay View!-One Bedroom Apt</td>\n",
              "      <td>Fuhrman Avenue East, Seattle, WA 98102, United...</td>\n",
              "      <td>Portage Bay</td>\n",
              "      <td>Capitol Hill</td>\n",
              "      <td>Seattle</td>\n",
              "      <td>WA</td>\n",
              "      <td>98102</td>\n",
              "      <td>47.649552</td>\n",
              "      <td>-122.318309</td>\n",
              "      <td>...</td>\n",
              "      <td>10.0</td>\n",
              "      <td>10.0</td>\n",
              "      <td>10.0</td>\n",
              "      <td>False</td>\n",
              "      <td>False</td>\n",
              "      <td>moderate</td>\n",
              "      <td>False</td>\n",
              "      <td>False</td>\n",
              "      <td>2.00</td>\n",
              "      <td>46566046</td>\n",
              "    </tr>\n",
              "    <tr>\n",
              "      <th>3815</th>\n",
              "      <td>10267360</td>\n",
              "      <td>Private apartment view of Lake WA</td>\n",
              "      <td>South Laurel Street, Seattle, WA 98178, United...</td>\n",
              "      <td>Rainier Beach</td>\n",
              "      <td>Rainier Valley</td>\n",
              "      <td>Seattle</td>\n",
              "      <td>WA</td>\n",
              "      <td>98178</td>\n",
              "      <td>47.508453</td>\n",
              "      <td>-122.240607</td>\n",
              "      <td>...</td>\n",
              "      <td>NaN</td>\n",
              "      <td>NaN</td>\n",
              "      <td>NaN</td>\n",
              "      <td>False</td>\n",
              "      <td>False</td>\n",
              "      <td>moderate</td>\n",
              "      <td>False</td>\n",
              "      <td>False</td>\n",
              "      <td>NaN</td>\n",
              "      <td>52791370</td>\n",
              "    </tr>\n",
              "    <tr>\n",
              "      <th>3816</th>\n",
              "      <td>9604740</td>\n",
              "      <td>Amazing View with Modern Comfort!</td>\n",
              "      <td>43rd Avenue East, Seattle, WA 98112, United St...</td>\n",
              "      <td>Madison Park</td>\n",
              "      <td>Capitol Hill</td>\n",
              "      <td>Seattle</td>\n",
              "      <td>WA</td>\n",
              "      <td>98112</td>\n",
              "      <td>47.632335</td>\n",
              "      <td>-122.275530</td>\n",
              "      <td>...</td>\n",
              "      <td>NaN</td>\n",
              "      <td>NaN</td>\n",
              "      <td>NaN</td>\n",
              "      <td>False</td>\n",
              "      <td>False</td>\n",
              "      <td>moderate</td>\n",
              "      <td>False</td>\n",
              "      <td>False</td>\n",
              "      <td>NaN</td>\n",
              "      <td>25522052</td>\n",
              "    </tr>\n",
              "    <tr>\n",
              "      <th>3817</th>\n",
              "      <td>10208623</td>\n",
              "      <td>Large Lakefront Apartment</td>\n",
              "      <td>Westlake Avenue North, Seattle, WA 98109, Unit...</td>\n",
              "      <td>East Queen Anne</td>\n",
              "      <td>Queen Anne</td>\n",
              "      <td>Seattle</td>\n",
              "      <td>WA</td>\n",
              "      <td>98109</td>\n",
              "      <td>47.641186</td>\n",
              "      <td>-122.342085</td>\n",
              "      <td>...</td>\n",
              "      <td>NaN</td>\n",
              "      <td>NaN</td>\n",
              "      <td>NaN</td>\n",
              "      <td>False</td>\n",
              "      <td>False</td>\n",
              "      <td>flexible</td>\n",
              "      <td>False</td>\n",
              "      <td>False</td>\n",
              "      <td>NaN</td>\n",
              "      <td>14703116</td>\n",
              "    </tr>\n",
              "  </tbody>\n",
              "</table>\n",
              "<p>3818 rows × 50 columns</p>\n",
              "</div>\n",
              "      <button class=\"colab-df-convert\" onclick=\"convertToInteractive('df-cbca4efa-ff00-4261-b8a6-c516fa0e3865')\"\n",
              "              title=\"Convert this dataframe to an interactive table.\"\n",
              "              style=\"display:none;\">\n",
              "        \n",
              "  <svg xmlns=\"http://www.w3.org/2000/svg\" height=\"24px\"viewBox=\"0 0 24 24\"\n",
              "       width=\"24px\">\n",
              "    <path d=\"M0 0h24v24H0V0z\" fill=\"none\"/>\n",
              "    <path d=\"M18.56 5.44l.94 2.06.94-2.06 2.06-.94-2.06-.94-.94-2.06-.94 2.06-2.06.94zm-11 1L8.5 8.5l.94-2.06 2.06-.94-2.06-.94L8.5 2.5l-.94 2.06-2.06.94zm10 10l.94 2.06.94-2.06 2.06-.94-2.06-.94-.94-2.06-.94 2.06-2.06.94z\"/><path d=\"M17.41 7.96l-1.37-1.37c-.4-.4-.92-.59-1.43-.59-.52 0-1.04.2-1.43.59L10.3 9.45l-7.72 7.72c-.78.78-.78 2.05 0 2.83L4 21.41c.39.39.9.59 1.41.59.51 0 1.02-.2 1.41-.59l7.78-7.78 2.81-2.81c.8-.78.8-2.07 0-2.86zM5.41 20L4 18.59l7.72-7.72 1.47 1.35L5.41 20z\"/>\n",
              "  </svg>\n",
              "      </button>\n",
              "      \n",
              "  <style>\n",
              "    .colab-df-container {\n",
              "      display:flex;\n",
              "      flex-wrap:wrap;\n",
              "      gap: 12px;\n",
              "    }\n",
              "\n",
              "    .colab-df-convert {\n",
              "      background-color: #E8F0FE;\n",
              "      border: none;\n",
              "      border-radius: 50%;\n",
              "      cursor: pointer;\n",
              "      display: none;\n",
              "      fill: #1967D2;\n",
              "      height: 32px;\n",
              "      padding: 0 0 0 0;\n",
              "      width: 32px;\n",
              "    }\n",
              "\n",
              "    .colab-df-convert:hover {\n",
              "      background-color: #E2EBFA;\n",
              "      box-shadow: 0px 1px 2px rgba(60, 64, 67, 0.3), 0px 1px 3px 1px rgba(60, 64, 67, 0.15);\n",
              "      fill: #174EA6;\n",
              "    }\n",
              "\n",
              "    [theme=dark] .colab-df-convert {\n",
              "      background-color: #3B4455;\n",
              "      fill: #D2E3FC;\n",
              "    }\n",
              "\n",
              "    [theme=dark] .colab-df-convert:hover {\n",
              "      background-color: #434B5C;\n",
              "      box-shadow: 0px 1px 3px 1px rgba(0, 0, 0, 0.15);\n",
              "      filter: drop-shadow(0px 1px 2px rgba(0, 0, 0, 0.3));\n",
              "      fill: #FFFFFF;\n",
              "    }\n",
              "  </style>\n",
              "\n",
              "      <script>\n",
              "        const buttonEl =\n",
              "          document.querySelector('#df-cbca4efa-ff00-4261-b8a6-c516fa0e3865 button.colab-df-convert');\n",
              "        buttonEl.style.display =\n",
              "          google.colab.kernel.accessAllowed ? 'block' : 'none';\n",
              "\n",
              "        async function convertToInteractive(key) {\n",
              "          const element = document.querySelector('#df-cbca4efa-ff00-4261-b8a6-c516fa0e3865');\n",
              "          const dataTable =\n",
              "            await google.colab.kernel.invokeFunction('convertToInteractive',\n",
              "                                                     [key], {});\n",
              "          if (!dataTable) return;\n",
              "\n",
              "          const docLinkHtml = 'Like what you see? Visit the ' +\n",
              "            '<a target=\"_blank\" href=https://colab.research.google.com/notebooks/data_table.ipynb>data table notebook</a>'\n",
              "            + ' to learn more about interactive tables.';\n",
              "          element.innerHTML = '';\n",
              "          dataTable['output_type'] = 'display_data';\n",
              "          await google.colab.output.renderOutput(dataTable, element);\n",
              "          const docLink = document.createElement('div');\n",
              "          docLink.innerHTML = docLinkHtml;\n",
              "          element.appendChild(docLink);\n",
              "        }\n",
              "      </script>\n",
              "    </div>\n",
              "  </div>\n",
              "  "
            ]
          },
          "metadata": {},
          "execution_count": 7
        }
      ]
    },
    {
      "cell_type": "code",
      "source": [
        "# Create new data with select columns for the AirBnB hosts\n",
        "host_df = listing_host_df[[\"host_id\",\"host_name\",\"host_since\",\"host_location\",\"host_response_time\",\"host_response_rate\",\"host_acceptance_rate\",\"host_is_superhost\",\"host_neighbourhood\",\"host_listings_count\",\"host_has_profile_pic\",\"host_identity_verified\"]].copy()"
      ],
      "metadata": {
        "id": "7GOFao9m7OqX"
      },
      "execution_count": null,
      "outputs": []
    },
    {
      "cell_type": "code",
      "source": [
        "# delete duplicates\n",
        "host_df.drop_duplicates(keep=\"first\",inplace=True)"
      ],
      "metadata": {
        "id": "3xVlFB5X7OsN"
      },
      "execution_count": null,
      "outputs": []
    },
    {
      "cell_type": "code",
      "source": [
        "# convert dates to datetime format\n",
        "host_df[\"host_since\"]=pd.to_datetime(host_df[\"host_since\"])"
      ],
      "metadata": {
        "id": "8jYmzpNV7Ovz"
      },
      "execution_count": null,
      "outputs": []
    },
    {
      "cell_type": "code",
      "source": [
        "# convert boolean columns to boolean\n",
        "host_df[\"host_is_superhost\"].replace([\"t\",\"f\"],[True,False],inplace=True)\n",
        "host_df[\"host_has_profile_pic\"].replace([\"t\",\"f\"],[True,False],inplace=True)\n",
        "host_df[\"host_identity_verified\"].replace([\"t\",\"f\"],[True,False],inplace=True)"
      ],
      "metadata": {
        "id": "QamtE3Dk7Oxc"
      },
      "execution_count": null,
      "outputs": []
    },
    {
      "cell_type": "code",
      "source": [
        "# converting the percentage columns from strings to percentages\n",
        "# remove the percentage symbols from the columns with percentages\n",
        "host_df[\"host_response_rate\"]=host_df[\"host_response_rate\"].replace({'\\$': '', ',': '', '%':''}, regex=True)\n",
        "host_df[\"host_acceptance_rate\"]=host_df[\"host_acceptance_rate\"].replace({'\\$': '', ',': '', '%':''}, regex=True)\n",
        "# convert the percentage columns to numbers\n",
        "host_df[\"host_response_rate\"] = pd.to_numeric(host_df[\"host_response_rate\"])\n",
        "host_df[\"host_acceptance_rate\"] = pd.to_numeric(host_df[\"host_acceptance_rate\"])\n",
        "host_df"
      ],
      "metadata": {
        "colab": {
          "base_uri": "https://localhost:8080/",
          "height": 800
        },
        "id": "R0I0ioXB7O1c",
        "outputId": "580a4916-d314-400a-a709-4b4b16b7d141"
      },
      "execution_count": null,
      "outputs": [
        {
          "output_type": "execute_result",
          "data": {
            "text/plain": [
              "       host_id host_name host_since                       host_location  \\\n",
              "0       956883     Maija 2011-08-11  Seattle, Washington, United States   \n",
              "1      5177328    Andrea 2013-02-21  Seattle, Washington, United States   \n",
              "2     16708587      Jill 2014-06-12  Seattle, Washington, United States   \n",
              "3      9851441     Emily 2013-11-06  Seattle, Washington, United States   \n",
              "4      1452570     Emily 2011-11-29  Seattle, Washington, United States   \n",
              "...        ...       ...        ...                                 ...   \n",
              "3811  11847918      Ryan 2014-02-01  Seattle, Washington, United States   \n",
              "3814  46566046      Glen 2015-10-14  Seattle, Washington, United States   \n",
              "3815  52791370  Virginia 2015-12-30                                  US   \n",
              "3816  25522052     Karen 2015-01-03   Tacoma, Washington, United States   \n",
              "3817  14703116       Gil 2014-04-25  Seattle, Washington, United States   \n",
              "\n",
              "      host_response_time  host_response_rate  host_acceptance_rate  \\\n",
              "0     within a few hours                96.0                 100.0   \n",
              "1         within an hour                98.0                 100.0   \n",
              "2     within a few hours                67.0                 100.0   \n",
              "3                    NaN                 NaN                   NaN   \n",
              "4         within an hour               100.0                   NaN   \n",
              "...                  ...                 ...                   ...   \n",
              "3811  within a few hours               100.0                 100.0   \n",
              "3814      within an hour               100.0                 100.0   \n",
              "3815                 NaN                 NaN                   NaN   \n",
              "3816      within an hour               100.0                   NaN   \n",
              "3817        within a day               100.0                   NaN   \n",
              "\n",
              "     host_is_superhost host_neighbourhood  host_listings_count  \\\n",
              "0                False         Queen Anne                  3.0   \n",
              "1                 True         Queen Anne                  6.0   \n",
              "2                False         Queen Anne                  2.0   \n",
              "3                False         Queen Anne                  1.0   \n",
              "4                False         Queen Anne                  2.0   \n",
              "...                ...                ...                  ...   \n",
              "3811             False            Fremont                  1.0   \n",
              "3814             False        Portage Bay                  1.0   \n",
              "3815             False                NaN                  1.0   \n",
              "3816             False                NaN                  1.0   \n",
              "3817             False         Queen Anne                  1.0   \n",
              "\n",
              "     host_has_profile_pic host_identity_verified  \n",
              "0                    True                   True  \n",
              "1                    True                   True  \n",
              "2                    True                   True  \n",
              "3                    True                   True  \n",
              "4                    True                   True  \n",
              "...                   ...                    ...  \n",
              "3811                 True                   True  \n",
              "3814                 True                   True  \n",
              "3815                 True                  False  \n",
              "3816                 True                   True  \n",
              "3817                 True                   True  \n",
              "\n",
              "[2751 rows x 12 columns]"
            ],
            "text/html": [
              "\n",
              "  <div id=\"df-17ddf7ea-15a9-4889-95ad-320befa52512\">\n",
              "    <div class=\"colab-df-container\">\n",
              "      <div>\n",
              "<style scoped>\n",
              "    .dataframe tbody tr th:only-of-type {\n",
              "        vertical-align: middle;\n",
              "    }\n",
              "\n",
              "    .dataframe tbody tr th {\n",
              "        vertical-align: top;\n",
              "    }\n",
              "\n",
              "    .dataframe thead th {\n",
              "        text-align: right;\n",
              "    }\n",
              "</style>\n",
              "<table border=\"1\" class=\"dataframe\">\n",
              "  <thead>\n",
              "    <tr style=\"text-align: right;\">\n",
              "      <th></th>\n",
              "      <th>host_id</th>\n",
              "      <th>host_name</th>\n",
              "      <th>host_since</th>\n",
              "      <th>host_location</th>\n",
              "      <th>host_response_time</th>\n",
              "      <th>host_response_rate</th>\n",
              "      <th>host_acceptance_rate</th>\n",
              "      <th>host_is_superhost</th>\n",
              "      <th>host_neighbourhood</th>\n",
              "      <th>host_listings_count</th>\n",
              "      <th>host_has_profile_pic</th>\n",
              "      <th>host_identity_verified</th>\n",
              "    </tr>\n",
              "  </thead>\n",
              "  <tbody>\n",
              "    <tr>\n",
              "      <th>0</th>\n",
              "      <td>956883</td>\n",
              "      <td>Maija</td>\n",
              "      <td>2011-08-11</td>\n",
              "      <td>Seattle, Washington, United States</td>\n",
              "      <td>within a few hours</td>\n",
              "      <td>96.0</td>\n",
              "      <td>100.0</td>\n",
              "      <td>False</td>\n",
              "      <td>Queen Anne</td>\n",
              "      <td>3.0</td>\n",
              "      <td>True</td>\n",
              "      <td>True</td>\n",
              "    </tr>\n",
              "    <tr>\n",
              "      <th>1</th>\n",
              "      <td>5177328</td>\n",
              "      <td>Andrea</td>\n",
              "      <td>2013-02-21</td>\n",
              "      <td>Seattle, Washington, United States</td>\n",
              "      <td>within an hour</td>\n",
              "      <td>98.0</td>\n",
              "      <td>100.0</td>\n",
              "      <td>True</td>\n",
              "      <td>Queen Anne</td>\n",
              "      <td>6.0</td>\n",
              "      <td>True</td>\n",
              "      <td>True</td>\n",
              "    </tr>\n",
              "    <tr>\n",
              "      <th>2</th>\n",
              "      <td>16708587</td>\n",
              "      <td>Jill</td>\n",
              "      <td>2014-06-12</td>\n",
              "      <td>Seattle, Washington, United States</td>\n",
              "      <td>within a few hours</td>\n",
              "      <td>67.0</td>\n",
              "      <td>100.0</td>\n",
              "      <td>False</td>\n",
              "      <td>Queen Anne</td>\n",
              "      <td>2.0</td>\n",
              "      <td>True</td>\n",
              "      <td>True</td>\n",
              "    </tr>\n",
              "    <tr>\n",
              "      <th>3</th>\n",
              "      <td>9851441</td>\n",
              "      <td>Emily</td>\n",
              "      <td>2013-11-06</td>\n",
              "      <td>Seattle, Washington, United States</td>\n",
              "      <td>NaN</td>\n",
              "      <td>NaN</td>\n",
              "      <td>NaN</td>\n",
              "      <td>False</td>\n",
              "      <td>Queen Anne</td>\n",
              "      <td>1.0</td>\n",
              "      <td>True</td>\n",
              "      <td>True</td>\n",
              "    </tr>\n",
              "    <tr>\n",
              "      <th>4</th>\n",
              "      <td>1452570</td>\n",
              "      <td>Emily</td>\n",
              "      <td>2011-11-29</td>\n",
              "      <td>Seattle, Washington, United States</td>\n",
              "      <td>within an hour</td>\n",
              "      <td>100.0</td>\n",
              "      <td>NaN</td>\n",
              "      <td>False</td>\n",
              "      <td>Queen Anne</td>\n",
              "      <td>2.0</td>\n",
              "      <td>True</td>\n",
              "      <td>True</td>\n",
              "    </tr>\n",
              "    <tr>\n",
              "      <th>...</th>\n",
              "      <td>...</td>\n",
              "      <td>...</td>\n",
              "      <td>...</td>\n",
              "      <td>...</td>\n",
              "      <td>...</td>\n",
              "      <td>...</td>\n",
              "      <td>...</td>\n",
              "      <td>...</td>\n",
              "      <td>...</td>\n",
              "      <td>...</td>\n",
              "      <td>...</td>\n",
              "      <td>...</td>\n",
              "    </tr>\n",
              "    <tr>\n",
              "      <th>3811</th>\n",
              "      <td>11847918</td>\n",
              "      <td>Ryan</td>\n",
              "      <td>2014-02-01</td>\n",
              "      <td>Seattle, Washington, United States</td>\n",
              "      <td>within a few hours</td>\n",
              "      <td>100.0</td>\n",
              "      <td>100.0</td>\n",
              "      <td>False</td>\n",
              "      <td>Fremont</td>\n",
              "      <td>1.0</td>\n",
              "      <td>True</td>\n",
              "      <td>True</td>\n",
              "    </tr>\n",
              "    <tr>\n",
              "      <th>3814</th>\n",
              "      <td>46566046</td>\n",
              "      <td>Glen</td>\n",
              "      <td>2015-10-14</td>\n",
              "      <td>Seattle, Washington, United States</td>\n",
              "      <td>within an hour</td>\n",
              "      <td>100.0</td>\n",
              "      <td>100.0</td>\n",
              "      <td>False</td>\n",
              "      <td>Portage Bay</td>\n",
              "      <td>1.0</td>\n",
              "      <td>True</td>\n",
              "      <td>True</td>\n",
              "    </tr>\n",
              "    <tr>\n",
              "      <th>3815</th>\n",
              "      <td>52791370</td>\n",
              "      <td>Virginia</td>\n",
              "      <td>2015-12-30</td>\n",
              "      <td>US</td>\n",
              "      <td>NaN</td>\n",
              "      <td>NaN</td>\n",
              "      <td>NaN</td>\n",
              "      <td>False</td>\n",
              "      <td>NaN</td>\n",
              "      <td>1.0</td>\n",
              "      <td>True</td>\n",
              "      <td>False</td>\n",
              "    </tr>\n",
              "    <tr>\n",
              "      <th>3816</th>\n",
              "      <td>25522052</td>\n",
              "      <td>Karen</td>\n",
              "      <td>2015-01-03</td>\n",
              "      <td>Tacoma, Washington, United States</td>\n",
              "      <td>within an hour</td>\n",
              "      <td>100.0</td>\n",
              "      <td>NaN</td>\n",
              "      <td>False</td>\n",
              "      <td>NaN</td>\n",
              "      <td>1.0</td>\n",
              "      <td>True</td>\n",
              "      <td>True</td>\n",
              "    </tr>\n",
              "    <tr>\n",
              "      <th>3817</th>\n",
              "      <td>14703116</td>\n",
              "      <td>Gil</td>\n",
              "      <td>2014-04-25</td>\n",
              "      <td>Seattle, Washington, United States</td>\n",
              "      <td>within a day</td>\n",
              "      <td>100.0</td>\n",
              "      <td>NaN</td>\n",
              "      <td>False</td>\n",
              "      <td>Queen Anne</td>\n",
              "      <td>1.0</td>\n",
              "      <td>True</td>\n",
              "      <td>True</td>\n",
              "    </tr>\n",
              "  </tbody>\n",
              "</table>\n",
              "<p>2751 rows × 12 columns</p>\n",
              "</div>\n",
              "      <button class=\"colab-df-convert\" onclick=\"convertToInteractive('df-17ddf7ea-15a9-4889-95ad-320befa52512')\"\n",
              "              title=\"Convert this dataframe to an interactive table.\"\n",
              "              style=\"display:none;\">\n",
              "        \n",
              "  <svg xmlns=\"http://www.w3.org/2000/svg\" height=\"24px\"viewBox=\"0 0 24 24\"\n",
              "       width=\"24px\">\n",
              "    <path d=\"M0 0h24v24H0V0z\" fill=\"none\"/>\n",
              "    <path d=\"M18.56 5.44l.94 2.06.94-2.06 2.06-.94-2.06-.94-.94-2.06-.94 2.06-2.06.94zm-11 1L8.5 8.5l.94-2.06 2.06-.94-2.06-.94L8.5 2.5l-.94 2.06-2.06.94zm10 10l.94 2.06.94-2.06 2.06-.94-2.06-.94-.94-2.06-.94 2.06-2.06.94z\"/><path d=\"M17.41 7.96l-1.37-1.37c-.4-.4-.92-.59-1.43-.59-.52 0-1.04.2-1.43.59L10.3 9.45l-7.72 7.72c-.78.78-.78 2.05 0 2.83L4 21.41c.39.39.9.59 1.41.59.51 0 1.02-.2 1.41-.59l7.78-7.78 2.81-2.81c.8-.78.8-2.07 0-2.86zM5.41 20L4 18.59l7.72-7.72 1.47 1.35L5.41 20z\"/>\n",
              "  </svg>\n",
              "      </button>\n",
              "      \n",
              "  <style>\n",
              "    .colab-df-container {\n",
              "      display:flex;\n",
              "      flex-wrap:wrap;\n",
              "      gap: 12px;\n",
              "    }\n",
              "\n",
              "    .colab-df-convert {\n",
              "      background-color: #E8F0FE;\n",
              "      border: none;\n",
              "      border-radius: 50%;\n",
              "      cursor: pointer;\n",
              "      display: none;\n",
              "      fill: #1967D2;\n",
              "      height: 32px;\n",
              "      padding: 0 0 0 0;\n",
              "      width: 32px;\n",
              "    }\n",
              "\n",
              "    .colab-df-convert:hover {\n",
              "      background-color: #E2EBFA;\n",
              "      box-shadow: 0px 1px 2px rgba(60, 64, 67, 0.3), 0px 1px 3px 1px rgba(60, 64, 67, 0.15);\n",
              "      fill: #174EA6;\n",
              "    }\n",
              "\n",
              "    [theme=dark] .colab-df-convert {\n",
              "      background-color: #3B4455;\n",
              "      fill: #D2E3FC;\n",
              "    }\n",
              "\n",
              "    [theme=dark] .colab-df-convert:hover {\n",
              "      background-color: #434B5C;\n",
              "      box-shadow: 0px 1px 3px 1px rgba(0, 0, 0, 0.15);\n",
              "      filter: drop-shadow(0px 1px 2px rgba(0, 0, 0, 0.3));\n",
              "      fill: #FFFFFF;\n",
              "    }\n",
              "  </style>\n",
              "\n",
              "      <script>\n",
              "        const buttonEl =\n",
              "          document.querySelector('#df-17ddf7ea-15a9-4889-95ad-320befa52512 button.colab-df-convert');\n",
              "        buttonEl.style.display =\n",
              "          google.colab.kernel.accessAllowed ? 'block' : 'none';\n",
              "\n",
              "        async function convertToInteractive(key) {\n",
              "          const element = document.querySelector('#df-17ddf7ea-15a9-4889-95ad-320befa52512');\n",
              "          const dataTable =\n",
              "            await google.colab.kernel.invokeFunction('convertToInteractive',\n",
              "                                                     [key], {});\n",
              "          if (!dataTable) return;\n",
              "\n",
              "          const docLinkHtml = 'Like what you see? Visit the ' +\n",
              "            '<a target=\"_blank\" href=https://colab.research.google.com/notebooks/data_table.ipynb>data table notebook</a>'\n",
              "            + ' to learn more about interactive tables.';\n",
              "          element.innerHTML = '';\n",
              "          dataTable['output_type'] = 'display_data';\n",
              "          await google.colab.output.renderOutput(dataTable, element);\n",
              "          const docLink = document.createElement('div');\n",
              "          docLink.innerHTML = docLinkHtml;\n",
              "          element.appendChild(docLink);\n",
              "        }\n",
              "      </script>\n",
              "    </div>\n",
              "  </div>\n",
              "  "
            ]
          },
          "metadata": {},
          "execution_count": 12
        }
      ]
    },
    {
      "cell_type": "code",
      "source": [
        "# Store CSV to DataFrame\n",
        "availability_file = \"/content/drive/MyDrive/DS Portfolio/Projects and Case Studies/AirBnB/calendar.csv\"\n",
        "availability_df = pd.read_csv(availability_file,encoding=\"utf8\")"
      ],
      "metadata": {
        "id": "r1ePr7-L7O3O"
      },
      "execution_count": null,
      "outputs": []
    },
    {
      "cell_type": "code",
      "source": [
        "# change column \"date\" to something that SQL doesn't already recognize\n",
        "availability_df.rename(index=str,columns={\"date\":\"available_date\"},inplace=True)\n",
        "# convert column to datetime\n",
        "availability_df[\"available_date\"]=pd.to_datetime(availability_df[\"available_date\"])"
      ],
      "metadata": {
        "id": "oJem59Td7O6s"
      },
      "execution_count": null,
      "outputs": []
    },
    {
      "cell_type": "code",
      "source": [
        "# convert boolean columns to boolean\n",
        "availability_df[\"available\"].replace([\"t\",\"f\"], [True,False], inplace=True)"
      ],
      "metadata": {
        "id": "_inwQkFJ7O8e"
      },
      "execution_count": null,
      "outputs": []
    },
    {
      "cell_type": "code",
      "source": [
        "# remove dollar sign\n",
        "availability_df[\"price\"] = availability_df[\"price\"].replace({'\\$': '', ',': ''}, regex=True)\n",
        "# convert the price column to numeric values instead of strings\n",
        "availability_df[\"price\"] = pd.to_numeric(availability_df[\"price\"])\n",
        "availability_df.head()"
      ],
      "metadata": {
        "colab": {
          "base_uri": "https://localhost:8080/",
          "height": 206
        },
        "id": "RUxK-yXL7PAX",
        "outputId": "5e5918b1-56d3-4aeb-b0d2-b18155f46c63"
      },
      "execution_count": null,
      "outputs": [
        {
          "output_type": "execute_result",
          "data": {
            "text/plain": [
              "   listing_id available_date  available  price\n",
              "0      241032     2016-01-04       True   85.0\n",
              "1      241032     2016-01-05       True   85.0\n",
              "2      241032     2016-01-06      False    NaN\n",
              "3      241032     2016-01-07      False    NaN\n",
              "4      241032     2016-01-08      False    NaN"
            ],
            "text/html": [
              "\n",
              "  <div id=\"df-74afc45d-2563-4f76-bbe9-dd6f11f65901\">\n",
              "    <div class=\"colab-df-container\">\n",
              "      <div>\n",
              "<style scoped>\n",
              "    .dataframe tbody tr th:only-of-type {\n",
              "        vertical-align: middle;\n",
              "    }\n",
              "\n",
              "    .dataframe tbody tr th {\n",
              "        vertical-align: top;\n",
              "    }\n",
              "\n",
              "    .dataframe thead th {\n",
              "        text-align: right;\n",
              "    }\n",
              "</style>\n",
              "<table border=\"1\" class=\"dataframe\">\n",
              "  <thead>\n",
              "    <tr style=\"text-align: right;\">\n",
              "      <th></th>\n",
              "      <th>listing_id</th>\n",
              "      <th>available_date</th>\n",
              "      <th>available</th>\n",
              "      <th>price</th>\n",
              "    </tr>\n",
              "  </thead>\n",
              "  <tbody>\n",
              "    <tr>\n",
              "      <th>0</th>\n",
              "      <td>241032</td>\n",
              "      <td>2016-01-04</td>\n",
              "      <td>True</td>\n",
              "      <td>85.0</td>\n",
              "    </tr>\n",
              "    <tr>\n",
              "      <th>1</th>\n",
              "      <td>241032</td>\n",
              "      <td>2016-01-05</td>\n",
              "      <td>True</td>\n",
              "      <td>85.0</td>\n",
              "    </tr>\n",
              "    <tr>\n",
              "      <th>2</th>\n",
              "      <td>241032</td>\n",
              "      <td>2016-01-06</td>\n",
              "      <td>False</td>\n",
              "      <td>NaN</td>\n",
              "    </tr>\n",
              "    <tr>\n",
              "      <th>3</th>\n",
              "      <td>241032</td>\n",
              "      <td>2016-01-07</td>\n",
              "      <td>False</td>\n",
              "      <td>NaN</td>\n",
              "    </tr>\n",
              "    <tr>\n",
              "      <th>4</th>\n",
              "      <td>241032</td>\n",
              "      <td>2016-01-08</td>\n",
              "      <td>False</td>\n",
              "      <td>NaN</td>\n",
              "    </tr>\n",
              "  </tbody>\n",
              "</table>\n",
              "</div>\n",
              "      <button class=\"colab-df-convert\" onclick=\"convertToInteractive('df-74afc45d-2563-4f76-bbe9-dd6f11f65901')\"\n",
              "              title=\"Convert this dataframe to an interactive table.\"\n",
              "              style=\"display:none;\">\n",
              "        \n",
              "  <svg xmlns=\"http://www.w3.org/2000/svg\" height=\"24px\"viewBox=\"0 0 24 24\"\n",
              "       width=\"24px\">\n",
              "    <path d=\"M0 0h24v24H0V0z\" fill=\"none\"/>\n",
              "    <path d=\"M18.56 5.44l.94 2.06.94-2.06 2.06-.94-2.06-.94-.94-2.06-.94 2.06-2.06.94zm-11 1L8.5 8.5l.94-2.06 2.06-.94-2.06-.94L8.5 2.5l-.94 2.06-2.06.94zm10 10l.94 2.06.94-2.06 2.06-.94-2.06-.94-.94-2.06-.94 2.06-2.06.94z\"/><path d=\"M17.41 7.96l-1.37-1.37c-.4-.4-.92-.59-1.43-.59-.52 0-1.04.2-1.43.59L10.3 9.45l-7.72 7.72c-.78.78-.78 2.05 0 2.83L4 21.41c.39.39.9.59 1.41.59.51 0 1.02-.2 1.41-.59l7.78-7.78 2.81-2.81c.8-.78.8-2.07 0-2.86zM5.41 20L4 18.59l7.72-7.72 1.47 1.35L5.41 20z\"/>\n",
              "  </svg>\n",
              "      </button>\n",
              "      \n",
              "  <style>\n",
              "    .colab-df-container {\n",
              "      display:flex;\n",
              "      flex-wrap:wrap;\n",
              "      gap: 12px;\n",
              "    }\n",
              "\n",
              "    .colab-df-convert {\n",
              "      background-color: #E8F0FE;\n",
              "      border: none;\n",
              "      border-radius: 50%;\n",
              "      cursor: pointer;\n",
              "      display: none;\n",
              "      fill: #1967D2;\n",
              "      height: 32px;\n",
              "      padding: 0 0 0 0;\n",
              "      width: 32px;\n",
              "    }\n",
              "\n",
              "    .colab-df-convert:hover {\n",
              "      background-color: #E2EBFA;\n",
              "      box-shadow: 0px 1px 2px rgba(60, 64, 67, 0.3), 0px 1px 3px 1px rgba(60, 64, 67, 0.15);\n",
              "      fill: #174EA6;\n",
              "    }\n",
              "\n",
              "    [theme=dark] .colab-df-convert {\n",
              "      background-color: #3B4455;\n",
              "      fill: #D2E3FC;\n",
              "    }\n",
              "\n",
              "    [theme=dark] .colab-df-convert:hover {\n",
              "      background-color: #434B5C;\n",
              "      box-shadow: 0px 1px 3px 1px rgba(0, 0, 0, 0.15);\n",
              "      filter: drop-shadow(0px 1px 2px rgba(0, 0, 0, 0.3));\n",
              "      fill: #FFFFFF;\n",
              "    }\n",
              "  </style>\n",
              "\n",
              "      <script>\n",
              "        const buttonEl =\n",
              "          document.querySelector('#df-74afc45d-2563-4f76-bbe9-dd6f11f65901 button.colab-df-convert');\n",
              "        buttonEl.style.display =\n",
              "          google.colab.kernel.accessAllowed ? 'block' : 'none';\n",
              "\n",
              "        async function convertToInteractive(key) {\n",
              "          const element = document.querySelector('#df-74afc45d-2563-4f76-bbe9-dd6f11f65901');\n",
              "          const dataTable =\n",
              "            await google.colab.kernel.invokeFunction('convertToInteractive',\n",
              "                                                     [key], {});\n",
              "          if (!dataTable) return;\n",
              "\n",
              "          const docLinkHtml = 'Like what you see? Visit the ' +\n",
              "            '<a target=\"_blank\" href=https://colab.research.google.com/notebooks/data_table.ipynb>data table notebook</a>'\n",
              "            + ' to learn more about interactive tables.';\n",
              "          element.innerHTML = '';\n",
              "          dataTable['output_type'] = 'display_data';\n",
              "          await google.colab.output.renderOutput(dataTable, element);\n",
              "          const docLink = document.createElement('div');\n",
              "          docLink.innerHTML = docLinkHtml;\n",
              "          element.appendChild(docLink);\n",
              "        }\n",
              "      </script>\n",
              "    </div>\n",
              "  </div>\n",
              "  "
            ]
          },
          "metadata": {},
          "execution_count": 16
        }
      ]
    },
    {
      "cell_type": "code",
      "source": [
        "# Store CSV to DataFrame\n",
        "reviews_file = \"/content/drive/MyDrive/DS Portfolio/Projects and Case Studies/AirBnB/reviews.csv\"\n",
        "reviews_df = pd.read_csv(reviews_file,encoding=\"utf8\")"
      ],
      "metadata": {
        "id": "k0GBlsbU8NYm"
      },
      "execution_count": null,
      "outputs": []
    },
    {
      "cell_type": "code",
      "source": [
        "# change column \"date/id\" to something that SQL doesn't already recognize\n",
        "reviews_df.rename(index=str,columns={\"date\":\"review_date\"},inplace=True)\n",
        "reviews_df.rename(columns={\"id\":\"review_id\"}, inplace=True)"
      ],
      "metadata": {
        "id": "R2P5H5o08Naa"
      },
      "execution_count": null,
      "outputs": []
    },
    {
      "cell_type": "code",
      "source": [
        "# Create new data with select columns for the AirBnB listings\n",
        "review_df = reviews_df[['review_id', \"listing_id\", \"review_date\", \"reviewer_id\", \"reviewer_name\", \"comments\"]].copy()"
      ],
      "metadata": {
        "id": "tMa6j90o8Nd3"
      },
      "execution_count": null,
      "outputs": []
    },
    {
      "cell_type": "code",
      "source": [
        "# convert dates to datetime\n",
        "review_df[\"review_date\"] = pd.to_datetime(review_df[\"review_date\"])\n",
        "review_df.head()"
      ],
      "metadata": {
        "colab": {
          "base_uri": "https://localhost:8080/",
          "height": 206
        },
        "id": "iJeFPMsd8Nfk",
        "outputId": "e6d79452-8e0b-46a7-c58e-36615fb49ff9"
      },
      "execution_count": null,
      "outputs": [
        {
          "output_type": "execute_result",
          "data": {
            "text/plain": [
              "   review_id  listing_id review_date  reviewer_id reviewer_name  \\\n",
              "0   38917982     7202016  2015-07-19     28943674        Bianca   \n",
              "1   39087409     7202016  2015-07-20     32440555         Frank   \n",
              "2   39820030     7202016  2015-07-26     37722850           Ian   \n",
              "3   40813543     7202016  2015-08-02     33671805        George   \n",
              "4   41986501     7202016  2015-08-10     34959538          Ming   \n",
              "\n",
              "                                            comments  \n",
              "0  Cute and cozy place. Perfect location to every...  \n",
              "1  Kelly has a great room in a very central locat...  \n",
              "2  Very spacious apartment, and in a great neighb...  \n",
              "3  Close to Seattle Center and all it has to offe...  \n",
              "4  Kelly was a great host and very accommodating ...  "
            ],
            "text/html": [
              "\n",
              "  <div id=\"df-b311ff01-8cae-427a-9a93-106ba2255ce6\">\n",
              "    <div class=\"colab-df-container\">\n",
              "      <div>\n",
              "<style scoped>\n",
              "    .dataframe tbody tr th:only-of-type {\n",
              "        vertical-align: middle;\n",
              "    }\n",
              "\n",
              "    .dataframe tbody tr th {\n",
              "        vertical-align: top;\n",
              "    }\n",
              "\n",
              "    .dataframe thead th {\n",
              "        text-align: right;\n",
              "    }\n",
              "</style>\n",
              "<table border=\"1\" class=\"dataframe\">\n",
              "  <thead>\n",
              "    <tr style=\"text-align: right;\">\n",
              "      <th></th>\n",
              "      <th>review_id</th>\n",
              "      <th>listing_id</th>\n",
              "      <th>review_date</th>\n",
              "      <th>reviewer_id</th>\n",
              "      <th>reviewer_name</th>\n",
              "      <th>comments</th>\n",
              "    </tr>\n",
              "  </thead>\n",
              "  <tbody>\n",
              "    <tr>\n",
              "      <th>0</th>\n",
              "      <td>38917982</td>\n",
              "      <td>7202016</td>\n",
              "      <td>2015-07-19</td>\n",
              "      <td>28943674</td>\n",
              "      <td>Bianca</td>\n",
              "      <td>Cute and cozy place. Perfect location to every...</td>\n",
              "    </tr>\n",
              "    <tr>\n",
              "      <th>1</th>\n",
              "      <td>39087409</td>\n",
              "      <td>7202016</td>\n",
              "      <td>2015-07-20</td>\n",
              "      <td>32440555</td>\n",
              "      <td>Frank</td>\n",
              "      <td>Kelly has a great room in a very central locat...</td>\n",
              "    </tr>\n",
              "    <tr>\n",
              "      <th>2</th>\n",
              "      <td>39820030</td>\n",
              "      <td>7202016</td>\n",
              "      <td>2015-07-26</td>\n",
              "      <td>37722850</td>\n",
              "      <td>Ian</td>\n",
              "      <td>Very spacious apartment, and in a great neighb...</td>\n",
              "    </tr>\n",
              "    <tr>\n",
              "      <th>3</th>\n",
              "      <td>40813543</td>\n",
              "      <td>7202016</td>\n",
              "      <td>2015-08-02</td>\n",
              "      <td>33671805</td>\n",
              "      <td>George</td>\n",
              "      <td>Close to Seattle Center and all it has to offe...</td>\n",
              "    </tr>\n",
              "    <tr>\n",
              "      <th>4</th>\n",
              "      <td>41986501</td>\n",
              "      <td>7202016</td>\n",
              "      <td>2015-08-10</td>\n",
              "      <td>34959538</td>\n",
              "      <td>Ming</td>\n",
              "      <td>Kelly was a great host and very accommodating ...</td>\n",
              "    </tr>\n",
              "  </tbody>\n",
              "</table>\n",
              "</div>\n",
              "      <button class=\"colab-df-convert\" onclick=\"convertToInteractive('df-b311ff01-8cae-427a-9a93-106ba2255ce6')\"\n",
              "              title=\"Convert this dataframe to an interactive table.\"\n",
              "              style=\"display:none;\">\n",
              "        \n",
              "  <svg xmlns=\"http://www.w3.org/2000/svg\" height=\"24px\"viewBox=\"0 0 24 24\"\n",
              "       width=\"24px\">\n",
              "    <path d=\"M0 0h24v24H0V0z\" fill=\"none\"/>\n",
              "    <path d=\"M18.56 5.44l.94 2.06.94-2.06 2.06-.94-2.06-.94-.94-2.06-.94 2.06-2.06.94zm-11 1L8.5 8.5l.94-2.06 2.06-.94-2.06-.94L8.5 2.5l-.94 2.06-2.06.94zm10 10l.94 2.06.94-2.06 2.06-.94-2.06-.94-.94-2.06-.94 2.06-2.06.94z\"/><path d=\"M17.41 7.96l-1.37-1.37c-.4-.4-.92-.59-1.43-.59-.52 0-1.04.2-1.43.59L10.3 9.45l-7.72 7.72c-.78.78-.78 2.05 0 2.83L4 21.41c.39.39.9.59 1.41.59.51 0 1.02-.2 1.41-.59l7.78-7.78 2.81-2.81c.8-.78.8-2.07 0-2.86zM5.41 20L4 18.59l7.72-7.72 1.47 1.35L5.41 20z\"/>\n",
              "  </svg>\n",
              "      </button>\n",
              "      \n",
              "  <style>\n",
              "    .colab-df-container {\n",
              "      display:flex;\n",
              "      flex-wrap:wrap;\n",
              "      gap: 12px;\n",
              "    }\n",
              "\n",
              "    .colab-df-convert {\n",
              "      background-color: #E8F0FE;\n",
              "      border: none;\n",
              "      border-radius: 50%;\n",
              "      cursor: pointer;\n",
              "      display: none;\n",
              "      fill: #1967D2;\n",
              "      height: 32px;\n",
              "      padding: 0 0 0 0;\n",
              "      width: 32px;\n",
              "    }\n",
              "\n",
              "    .colab-df-convert:hover {\n",
              "      background-color: #E2EBFA;\n",
              "      box-shadow: 0px 1px 2px rgba(60, 64, 67, 0.3), 0px 1px 3px 1px rgba(60, 64, 67, 0.15);\n",
              "      fill: #174EA6;\n",
              "    }\n",
              "\n",
              "    [theme=dark] .colab-df-convert {\n",
              "      background-color: #3B4455;\n",
              "      fill: #D2E3FC;\n",
              "    }\n",
              "\n",
              "    [theme=dark] .colab-df-convert:hover {\n",
              "      background-color: #434B5C;\n",
              "      box-shadow: 0px 1px 3px 1px rgba(0, 0, 0, 0.15);\n",
              "      filter: drop-shadow(0px 1px 2px rgba(0, 0, 0, 0.3));\n",
              "      fill: #FFFFFF;\n",
              "    }\n",
              "  </style>\n",
              "\n",
              "      <script>\n",
              "        const buttonEl =\n",
              "          document.querySelector('#df-b311ff01-8cae-427a-9a93-106ba2255ce6 button.colab-df-convert');\n",
              "        buttonEl.style.display =\n",
              "          google.colab.kernel.accessAllowed ? 'block' : 'none';\n",
              "\n",
              "        async function convertToInteractive(key) {\n",
              "          const element = document.querySelector('#df-b311ff01-8cae-427a-9a93-106ba2255ce6');\n",
              "          const dataTable =\n",
              "            await google.colab.kernel.invokeFunction('convertToInteractive',\n",
              "                                                     [key], {});\n",
              "          if (!dataTable) return;\n",
              "\n",
              "          const docLinkHtml = 'Like what you see? Visit the ' +\n",
              "            '<a target=\"_blank\" href=https://colab.research.google.com/notebooks/data_table.ipynb>data table notebook</a>'\n",
              "            + ' to learn more about interactive tables.';\n",
              "          element.innerHTML = '';\n",
              "          dataTable['output_type'] = 'display_data';\n",
              "          await google.colab.output.renderOutput(dataTable, element);\n",
              "          const docLink = document.createElement('div');\n",
              "          docLink.innerHTML = docLinkHtml;\n",
              "          element.appendChild(docLink);\n",
              "        }\n",
              "      </script>\n",
              "    </div>\n",
              "  </div>\n",
              "  "
            ]
          },
          "metadata": {},
          "execution_count": 20
        }
      ]
    },
    {
      "cell_type": "markdown",
      "source": [
        "#### SQL"
      ],
      "metadata": {
        "id": "ZYXerH1s8c2S"
      }
    },
    {
      "cell_type": "code",
      "source": [
        "import sqlite3"
      ],
      "metadata": {
        "id": "Hsp78EYX8NjQ"
      },
      "execution_count": null,
      "outputs": []
    },
    {
      "cell_type": "code",
      "source": [
        "conn = sqlite3.connect('airbnb.db')\n",
        "cursor = conn.cursor()\n"
      ],
      "metadata": {
        "id": "toYqXDDV8Nk-"
      },
      "execution_count": null,
      "outputs": []
    },
    {
      "cell_type": "code",
      "source": [
        "# Create the listing table\n",
        "listing_df.to_sql('listing', conn, if_exists='replace', index=False)\n",
        "\n",
        "# Create the host table\n",
        "host_df.to_sql('host', conn, if_exists='replace', index=False)\n",
        "\n",
        "# Create the review table\n",
        "review_df.to_sql('review', conn, if_exists='replace', index=False)\n",
        "\n",
        "# Create the availability table\n",
        "availability_df.to_sql('availability', conn, if_exists='replace', index=False)\n",
        "\n"
      ],
      "metadata": {
        "colab": {
          "base_uri": "https://localhost:8080/"
        },
        "id": "miaR0UKj8NpW",
        "outputId": "f6ceb8fc-5a90-4476-cb71-ba52aa16bdab"
      },
      "execution_count": null,
      "outputs": [
        {
          "output_type": "execute_result",
          "data": {
            "text/plain": [
              "1393570"
            ]
          },
          "metadata": {},
          "execution_count": 23
        }
      ]
    },
    {
      "cell_type": "markdown",
      "source": [
        "#### Exploring the differences between superhosts and other hosts across a variety of metrics."
      ],
      "metadata": {
        "id": "IbF0LHeHsKSK"
      }
    },
    {
      "cell_type": "markdown",
      "source": [
        "Price of listings: Do superhosts or other hosts have more expensive listings?"
      ],
      "metadata": {
        "id": "KefsItnCpx07"
      }
    },
    {
      "cell_type": "code",
      "source": [
        "query = \"\"\"\n",
        "    SELECT\n",
        "        h.host_is_superhost,\n",
        "        AVG(l.price) AS average_price\n",
        "    FROM\n",
        "        host AS h\n",
        "    JOIN\n",
        "        listing AS l ON h.host_id = l.host_id\n",
        "    GROUP BY\n",
        "        h.host_is_superhost\n",
        "\"\"\"\n",
        "cursor.execute(query)\n",
        "results = cursor.fetchall()\n"
      ],
      "metadata": {
        "id": "NxhMB6Nj7PCH"
      },
      "execution_count": null,
      "outputs": []
    },
    {
      "cell_type": "code",
      "source": [
        "for row in results:\n",
        "    host_type = \"Superhost\" if row[0] == 1 else \"Other Host\"\n",
        "    average_price = row[1]\n",
        "    print(f\"{host_type}: Average Price - ${average_price:.2f}\")\n"
      ],
      "metadata": {
        "colab": {
          "base_uri": "https://localhost:8080/"
        },
        "id": "Qa5cEQt17PGG",
        "outputId": "0b149bd7-5739-4c14-f156-70ef65d99e40"
      },
      "execution_count": null,
      "outputs": [
        {
          "output_type": "stream",
          "name": "stdout",
          "text": [
            "Other Host: Average Price - $174.50\n",
            "Other Host: Average Price - $127.39\n",
            "Superhost: Average Price - $130.14\n"
          ]
        }
      ]
    },
    {
      "cell_type": "markdown",
      "source": [
        "Based on the output, the average price of listings for Other Hosts seems to be higher than that of Superhosts."
      ],
      "metadata": {
        "id": "ldgItkWdqnlY"
      }
    },
    {
      "cell_type": "code",
      "source": [],
      "metadata": {
        "id": "QPdrJb4J7PH8"
      },
      "execution_count": null,
      "outputs": []
    },
    {
      "cell_type": "markdown",
      "source": [
        "Neighborhoods: Which Seattle neighborhoods do superhosts tend to have properties in?"
      ],
      "metadata": {
        "id": "joW595V0qx6J"
      }
    },
    {
      "cell_type": "code",
      "source": [
        "query = \"\"\"\n",
        "    SELECT\n",
        "        DISTINCT l.neighbourhood_cleansed\n",
        "    FROM\n",
        "        listing AS l\n",
        "    JOIN\n",
        "        host AS h ON l.host_id = h.host_id\n",
        "    WHERE\n",
        "        h.host_is_superhost = 1\n",
        "        AND l.city = 'Seattle'\n",
        "\"\"\"\n",
        "cursor.execute(query)\n",
        "results = cursor.fetchall()\n"
      ],
      "metadata": {
        "id": "NhoKrDF9qqK2"
      },
      "execution_count": null,
      "outputs": []
    },
    {
      "cell_type": "code",
      "source": [
        "print(\"Seattle Neighborhoods with Superhost Properties:\")\n",
        "for row in results:\n",
        "    neighborhood = row[0]\n",
        "    print(neighborhood)\n"
      ],
      "metadata": {
        "colab": {
          "base_uri": "https://localhost:8080/"
        },
        "id": "ItJwXScRqqSi",
        "outputId": "963c0651-f24d-4ee0-9d9c-78e97cbf8e34"
      },
      "execution_count": null,
      "outputs": [
        {
          "output_type": "stream",
          "name": "stdout",
          "text": [
            "Seattle Neighborhoods with Superhost Properties:\n",
            "West Queen Anne\n",
            "Adams\n",
            "West Woodland\n",
            "East Queen Anne\n",
            "Wallingford\n",
            "North Queen Anne\n",
            "Green Lake\n",
            "Mann\n",
            "Madrona\n",
            "University District\n",
            "Harrison/Denny-Blaine\n",
            "Minor\n",
            "Leschi\n",
            "Atlantic\n",
            "Pike-Market\n",
            "Eastlake\n",
            "South Lake Union\n",
            "Lawton Park\n",
            "Briarcliff\n",
            "Belltown\n",
            "Central Business District\n",
            "First Hill\n",
            "Pioneer Square\n",
            "Gatewood\n",
            "Arbor Heights\n",
            "Alki\n",
            "North Admiral\n",
            "Crown Hill\n",
            "Fairmount Park\n",
            "Genesee\n",
            "Interbay\n",
            "Mid-Beacon Hill\n",
            "Greenwood\n",
            "Holly Park\n",
            "Fauntleroy\n",
            "North Beacon Hill\n",
            "Brighton\n",
            "South Delridge\n",
            "View Ridge\n",
            "Dunlap\n",
            "Rainier Beach\n",
            "Columbia City\n",
            "Mount Baker\n",
            "Seward Park\n",
            "North Delridge\n",
            "Maple Leaf\n",
            "Ravenna\n",
            "Riverview\n",
            "Portage Bay\n",
            "Bryant\n",
            "Montlake\n",
            "Broadway\n",
            "Loyal Heights\n",
            "Victory Heights\n",
            "Matthews Beach\n",
            "Whittier Heights\n",
            "Meadowbrook\n",
            "Olympic Hills\n",
            "Roosevelt\n",
            "Lower Queen Anne\n",
            "North Beach/Blue Ridge\n",
            "Cedar Park\n",
            "Bitter Lake\n",
            "Sunset Hill\n",
            "Haller Lake\n",
            "North College Park\n",
            "Phinney Ridge\n",
            "Windermere\n",
            "Laurelhurst\n",
            "Southeast Magnolia\n",
            "High Point\n",
            "Seaview\n",
            "Georgetown\n",
            "Highland Park\n",
            "Stevens\n",
            "Broadview\n",
            "Fremont\n"
          ]
        }
      ]
    },
    {
      "cell_type": "code",
      "source": [],
      "metadata": {
        "id": "6xsuDDuOqqZB"
      },
      "execution_count": null,
      "outputs": []
    },
    {
      "cell_type": "markdown",
      "source": [
        "Bedrooms and bathrooms: Do superhosts or other hosts tend to have properties with more bedrooms and bathrooms?"
      ],
      "metadata": {
        "id": "VNq3fH1wq62e"
      }
    },
    {
      "cell_type": "code",
      "source": [
        "query = \"\"\"\n",
        "    SELECT\n",
        "        h.host_is_superhost,\n",
        "        AVG(l.bedrooms) AS average_bedrooms,\n",
        "        AVG(l.bathrooms) AS average_bathrooms\n",
        "    FROM\n",
        "        host AS h\n",
        "    JOIN\n",
        "        listing AS l ON h.host_id = l.host_id\n",
        "    GROUP BY\n",
        "        h.host_is_superhost\n",
        "\"\"\"\n",
        "cursor.execute(query)\n",
        "results = cursor.fetchall()\n"
      ],
      "metadata": {
        "id": "Ci_DELxxqqjq"
      },
      "execution_count": null,
      "outputs": []
    },
    {
      "cell_type": "code",
      "source": [
        "for row in results:\n",
        "    host_type = \"Superhost\" if row[0] == 1 else \"Other Host\"\n",
        "    average_bedrooms = row[1]\n",
        "    average_bathrooms = row[2]\n",
        "    print(f\"{host_type}: Average Bedrooms - {average_bedrooms:.2f}, Average Bathrooms - {average_bathrooms:.2f}\")\n"
      ],
      "metadata": {
        "colab": {
          "base_uri": "https://localhost:8080/"
        },
        "id": "b3stfTJwqqqS",
        "outputId": "5740864a-bfd1-4011-b650-d3d33da9af29"
      },
      "execution_count": null,
      "outputs": [
        {
          "output_type": "stream",
          "name": "stdout",
          "text": [
            "Other Host: Average Bedrooms - 0.50, Average Bathrooms - 1.00\n",
            "Other Host: Average Bedrooms - 1.32, Average Bathrooms - 1.26\n",
            "Superhost: Average Bedrooms - 1.26, Average Bathrooms - 1.26\n"
          ]
        }
      ]
    },
    {
      "cell_type": "code",
      "source": [],
      "metadata": {
        "id": "fMOeUgbyqqwW"
      },
      "execution_count": null,
      "outputs": []
    },
    {
      "cell_type": "markdown",
      "source": [
        "Based on the output, we can observe the following trends:\n",
        "\n",
        "Superhosts and Other Hosts have the same average number of bedrooms, with both groups having an average of 1.26 bedrooms.\n",
        "\n",
        "Other Hosts tend to have a slightly higher average number of bathrooms compared to Superhosts. The average number of bathrooms for Other Hosts ranges from 1.00 to 1.26, while for Superhosts, it is consistently 1.26.\n",
        "\n",
        "Therefore, based on these averages, it seems that Other Hosts tend to have properties with more bathrooms, but the number of bedrooms is similar between Superhosts and Other Hosts."
      ],
      "metadata": {
        "id": "giZSx6uKrXyw"
      }
    },
    {
      "cell_type": "code",
      "source": [],
      "metadata": {
        "id": "ZaviUVmYqq2e"
      },
      "execution_count": null,
      "outputs": []
    },
    {
      "cell_type": "markdown",
      "source": [
        "Profile picture: Are superhosts more or less likely to have profile pictures?"
      ],
      "metadata": {
        "id": "IzDLMkirrbiZ"
      }
    },
    {
      "cell_type": "code",
      "source": [
        "query = \"\"\"\n",
        "    SELECT\n",
        "        COUNT(DISTINCT h.host_id) AS total_hosts,\n",
        "        COUNT(DISTINCT CASE WHEN h.host_has_profile_pic = 1 THEN h.host_id END) AS hosts_with_profile_pic,\n",
        "        COUNT(DISTINCT CASE WHEN h.host_has_profile_pic = 1 AND h.host_is_superhost = 1 THEN h.host_id END) AS superhosts_with_profile_pic\n",
        "    FROM\n",
        "        host AS h\n",
        "\"\"\"\n",
        "cursor.execute(query)\n",
        "results = cursor.fetchone()\n"
      ],
      "metadata": {
        "id": "s9pp99SIqq8e"
      },
      "execution_count": null,
      "outputs": []
    },
    {
      "cell_type": "code",
      "source": [
        "total_hosts = results[0]\n",
        "hosts_with_profile_pic = results[1]\n",
        "superhosts_with_profile_pic = results[2]\n",
        "\n",
        "likelihood_superhost_with_profile_pic = (superhosts_with_profile_pic / hosts_with_profile_pic) * 100\n",
        "\n",
        "print(f\"Total Hosts: {total_hosts}\")\n",
        "print(f\"Hosts with Profile Picture: {hosts_with_profile_pic}\")\n",
        "print(f\"Superhosts with Profile Picture: {superhosts_with_profile_pic}\")\n",
        "print(f\"Likelihood of Superhosts having Profile Pictures: {likelihood_superhost_with_profile_pic:.2f}%\")\n"
      ],
      "metadata": {
        "colab": {
          "base_uri": "https://localhost:8080/"
        },
        "id": "Puc7UJgorn6s",
        "outputId": "78935d57-e8c2-4971-e504-85b425b576b2"
      },
      "execution_count": null,
      "outputs": [
        {
          "output_type": "stream",
          "name": "stdout",
          "text": [
            "Total Hosts: 2751\n",
            "Hosts with Profile Picture: 2742\n",
            "Superhosts with Profile Picture: 536\n",
            "Likelihood of Superhosts having Profile Pictures: 19.55%\n"
          ]
        }
      ]
    },
    {
      "cell_type": "markdown",
      "source": [
        "Based on the output, we can conclude that superhosts are more likely to have profile pictures compared to other hosts. Approximately 19.55% of hosts with a profile picture are identified as superhosts.\n",
        "\n",
        "This suggests that superhosts, who have achieved a certain level of recognition and positive feedback, are more inclined to provide a profile picture. Having a profile picture may contribute to establishing trust and credibility among guests."
      ],
      "metadata": {
        "id": "LRZDWqXPr4pO"
      }
    },
    {
      "cell_type": "code",
      "source": [],
      "metadata": {
        "id": "1ybDIhbMroC4"
      },
      "execution_count": null,
      "outputs": []
    },
    {
      "cell_type": "markdown",
      "source": [
        "Seattle Neighborhoods: Are superhosts more likely to have properties in specific Seattle neighborhoods? Does their distribution of properties vary across neighborhoods?"
      ],
      "metadata": {
        "id": "PLiGpBLnr7Ji"
      }
    },
    {
      "cell_type": "code",
      "source": [
        "query = \"\"\"\n",
        "    SELECT\n",
        "        l.neighbourhood_cleansed,\n",
        "        COUNT(DISTINCT CASE WHEN h.host_is_superhost = 1 THEN l.id END) AS superhost_properties,\n",
        "        COUNT(DISTINCT l.id) AS total_properties\n",
        "    FROM\n",
        "        listing AS l\n",
        "    JOIN\n",
        "        host AS h ON l.host_id = h.host_id\n",
        "    WHERE\n",
        "        l.city = 'Seattle'\n",
        "    GROUP BY\n",
        "        l.neighbourhood_cleansed\n",
        "\"\"\"\n",
        "cursor.execute(query)\n",
        "results = cursor.fetchall()\n"
      ],
      "metadata": {
        "id": "a_pfq6G5roKH"
      },
      "execution_count": null,
      "outputs": []
    },
    {
      "cell_type": "code",
      "source": [
        "print(\"Superhost Property Distribution in Seattle Neighborhoods:\")\n",
        "for row in results:\n",
        "    neighborhood = row[0]\n",
        "    superhost_properties = row[1]\n",
        "    total_properties = row[2]\n",
        "    print(f\"Neighborhood: {neighborhood}, Superhost Properties: {superhost_properties}, Total Properties: {total_properties}\")\n"
      ],
      "metadata": {
        "colab": {
          "base_uri": "https://localhost:8080/"
        },
        "id": "eIS7L2gIroRN",
        "outputId": "1e52b8ee-d9ad-41ee-a4ff-c76191425ed3"
      },
      "execution_count": null,
      "outputs": [
        {
          "output_type": "stream",
          "name": "stdout",
          "text": [
            "Superhost Property Distribution in Seattle Neighborhoods:\n",
            "Neighborhood: Adams, Superhost Properties: 22, Total Properties: 70\n",
            "Neighborhood: Alki, Superhost Properties: 5, Total Properties: 42\n",
            "Neighborhood: Arbor Heights, Superhost Properties: 1, Total Properties: 5\n",
            "Neighborhood: Atlantic, Superhost Properties: 11, Total Properties: 53\n",
            "Neighborhood: Belltown, Superhost Properties: 42, Total Properties: 234\n",
            "Neighborhood: Bitter Lake, Superhost Properties: 1, Total Properties: 13\n",
            "Neighborhood: Briarcliff, Superhost Properties: 3, Total Properties: 14\n",
            "Neighborhood: Brighton, Superhost Properties: 3, Total Properties: 13\n",
            "Neighborhood: Broadview, Superhost Properties: 2, Total Properties: 17\n",
            "Neighborhood: Broadway, Superhost Properties: 59, Total Properties: 396\n",
            "Neighborhood: Bryant, Superhost Properties: 8, Total Properties: 29\n",
            "Neighborhood: Cedar Park, Superhost Properties: 1, Total Properties: 8\n",
            "Neighborhood: Central Business District, Superhost Properties: 21, Total Properties: 103\n",
            "Neighborhood: Columbia City, Superhost Properties: 17, Total Properties: 58\n",
            "Neighborhood: Crown Hill, Superhost Properties: 5, Total Properties: 21\n",
            "Neighborhood: Dunlap, Superhost Properties: 4, Total Properties: 20\n",
            "Neighborhood: East Queen Anne, Superhost Properties: 19, Total Properties: 82\n",
            "Neighborhood: Eastlake, Superhost Properties: 11, Total Properties: 45\n",
            "Neighborhood: Fairmount Park, Superhost Properties: 8, Total Properties: 29\n",
            "Neighborhood: Fauntleroy, Superhost Properties: 5, Total Properties: 10\n",
            "Neighborhood: First Hill, Superhost Properties: 30, Total Properties: 108\n",
            "Neighborhood: Fremont, Superhost Properties: 35, Total Properties: 158\n",
            "Neighborhood: Gatewood, Superhost Properties: 5, Total Properties: 22\n",
            "Neighborhood: Genesee, Superhost Properties: 3, Total Properties: 33\n",
            "Neighborhood: Georgetown, Superhost Properties: 3, Total Properties: 8\n",
            "Neighborhood: Green Lake, Superhost Properties: 11, Total Properties: 54\n",
            "Neighborhood: Greenwood, Superhost Properties: 14, Total Properties: 88\n",
            "Neighborhood: Haller Lake, Superhost Properties: 4, Total Properties: 15\n",
            "Neighborhood: Harrison/Denny-Blaine, Superhost Properties: 5, Total Properties: 14\n",
            "Neighborhood: High Point, Superhost Properties: 6, Total Properties: 14\n",
            "Neighborhood: Highland Park, Superhost Properties: 1, Total Properties: 11\n",
            "Neighborhood: Holly Park, Superhost Properties: 1, Total Properties: 6\n",
            "Neighborhood: Industrial District, Superhost Properties: 0, Total Properties: 5\n",
            "Neighborhood: Interbay, Superhost Properties: 2, Total Properties: 11\n",
            "Neighborhood: International District, Superhost Properties: 0, Total Properties: 17\n",
            "Neighborhood: Laurelhurst, Superhost Properties: 1, Total Properties: 10\n",
            "Neighborhood: Lawton Park, Superhost Properties: 5, Total Properties: 30\n",
            "Neighborhood: Leschi, Superhost Properties: 18, Total Properties: 53\n",
            "Neighborhood: Lower Queen Anne, Superhost Properties: 17, Total Properties: 94\n",
            "Neighborhood: Loyal Heights, Superhost Properties: 9, Total Properties: 52\n",
            "Neighborhood: Madison Park, Superhost Properties: 0, Total Properties: 18\n",
            "Neighborhood: Madrona, Superhost Properties: 13, Total Properties: 47\n",
            "Neighborhood: Mann, Superhost Properties: 12, Total Properties: 67\n",
            "Neighborhood: Maple Leaf, Superhost Properties: 10, Total Properties: 42\n",
            "Neighborhood: Matthews Beach, Superhost Properties: 2, Total Properties: 19\n",
            "Neighborhood: Meadowbrook, Superhost Properties: 5, Total Properties: 9\n",
            "Neighborhood: Mid-Beacon Hill, Superhost Properties: 5, Total Properties: 29\n",
            "Neighborhood: Minor, Superhost Properties: 41, Total Properties: 135\n",
            "Neighborhood: Montlake, Superhost Properties: 7, Total Properties: 19\n",
            "Neighborhood: Mount Baker, Superhost Properties: 11, Total Properties: 50\n",
            "Neighborhood: North Admiral, Superhost Properties: 15, Total Properties: 48\n",
            "Neighborhood: North Beach/Blue Ridge, Superhost Properties: 1, Total Properties: 14\n",
            "Neighborhood: North Beacon Hill, Superhost Properties: 12, Total Properties: 78\n",
            "Neighborhood: North College Park, Superhost Properties: 7, Total Properties: 19\n",
            "Neighborhood: North Delridge, Superhost Properties: 7, Total Properties: 32\n",
            "Neighborhood: North Queen Anne, Superhost Properties: 11, Total Properties: 54\n",
            "Neighborhood: Olympic Hills, Superhost Properties: 1, Total Properties: 16\n",
            "Neighborhood: Phinney Ridge, Superhost Properties: 24, Total Properties: 73\n",
            "Neighborhood: Pike-Market, Superhost Properties: 5, Total Properties: 28\n",
            "Neighborhood: Pinehurst, Superhost Properties: 0, Total Properties: 4\n",
            "Neighborhood: Pioneer Square, Superhost Properties: 7, Total Properties: 23\n",
            "Neighborhood: Portage Bay, Superhost Properties: 4, Total Properties: 14\n",
            "Neighborhood: Rainier Beach, Superhost Properties: 3, Total Properties: 18\n",
            "Neighborhood: Ravenna, Superhost Properties: 12, Total Properties: 67\n",
            "Neighborhood: Riverview, Superhost Properties: 3, Total Properties: 8\n",
            "Neighborhood: Roosevelt, Superhost Properties: 6, Total Properties: 29\n",
            "Neighborhood: Roxhill, Superhost Properties: 0, Total Properties: 2\n",
            "Neighborhood: Seaview, Superhost Properties: 2, Total Properties: 12\n",
            "Neighborhood: Seward Park, Superhost Properties: 10, Total Properties: 44\n",
            "Neighborhood: South Beacon Hill, Superhost Properties: 0, Total Properties: 4\n",
            "Neighborhood: South Delridge, Superhost Properties: 2, Total Properties: 12\n",
            "Neighborhood: South Lake Union, Superhost Properties: 5, Total Properties: 27\n",
            "Neighborhood: South Park, Superhost Properties: 0, Total Properties: 3\n",
            "Neighborhood: Southeast Magnolia, Superhost Properties: 6, Total Properties: 17\n",
            "Neighborhood: Stevens, Superhost Properties: 15, Total Properties: 119\n",
            "Neighborhood: Sunset Hill, Superhost Properties: 3, Total Properties: 18\n",
            "Neighborhood: University District, Superhost Properties: 7, Total Properties: 122\n",
            "Neighborhood: Victory Heights, Superhost Properties: 3, Total Properties: 15\n",
            "Neighborhood: View Ridge, Superhost Properties: 1, Total Properties: 7\n",
            "Neighborhood: Wallingford, Superhost Properties: 39, Total Properties: 167\n",
            "Neighborhood: Wedgwood, Superhost Properties: 0, Total Properties: 18\n",
            "Neighborhood: West Queen Anne, Superhost Properties: 14, Total Properties: 65\n",
            "Neighborhood: West Woodland, Superhost Properties: 16, Total Properties: 63\n",
            "Neighborhood: Westlake, Superhost Properties: 0, Total Properties: 17\n",
            "Neighborhood: Whittier Heights, Superhost Properties: 10, Total Properties: 26\n",
            "Neighborhood: Windermere, Superhost Properties: 2, Total Properties: 10\n",
            "Neighborhood: Yesler Terrace, Superhost Properties: 0, Total Properties: 17\n"
          ]
        }
      ]
    },
    {
      "cell_type": "code",
      "source": [],
      "metadata": {
        "id": "LJaBzRfFroeK"
      },
      "execution_count": null,
      "outputs": []
    },
    {
      "cell_type": "markdown",
      "source": [
        "Property Size: Are superhosts more likely to have larger or smaller properties (in terms of bedrooms, bathrooms, or square footage) compared to regular hosts?\n"
      ],
      "metadata": {
        "id": "PffuXUb7tF92"
      }
    },
    {
      "cell_type": "code",
      "source": [
        "query = \"\"\"\n",
        "    SELECT\n",
        "        CASE\n",
        "            WHEN h.host_is_superhost = 1 THEN 'Superhost'\n",
        "            ELSE 'Other Host'\n",
        "        END AS host_type,\n",
        "        AVG(l.bedrooms) AS average_bedrooms,\n",
        "        AVG(l.bathrooms) AS average_bathrooms,\n",
        "        AVG(l.square_feet) AS average_square_feet\n",
        "    FROM\n",
        "        listing AS l\n",
        "    JOIN\n",
        "        host AS h ON l.host_id = h.host_id\n",
        "    GROUP BY\n",
        "        host_type\n",
        "\"\"\"\n",
        "cursor.execute(query)\n",
        "results = cursor.fetchall()\n"
      ],
      "metadata": {
        "id": "D6kdlO4Jroqx"
      },
      "execution_count": null,
      "outputs": []
    },
    {
      "cell_type": "code",
      "source": [
        "print(\"Property Size Comparison: Superhosts vs. Other Hosts\")\n",
        "for row in results:\n",
        "    host_type = row[0]\n",
        "    average_bedrooms = row[1]\n",
        "    average_bathrooms = row[2]\n",
        "    average_square_feet = row[3]\n",
        "    print(f\"Host Type: {host_type}\")\n",
        "    print(f\"Average Bedrooms: {average_bedrooms:.2f}\")\n",
        "    print(f\"Average Bathrooms: {average_bathrooms:.2f}\")\n",
        "    print(f\"Average Square Feet: {average_square_feet:.2f}\")\n",
        "    print()\n"
      ],
      "metadata": {
        "colab": {
          "base_uri": "https://localhost:8080/"
        },
        "id": "lxEkQaPorox4",
        "outputId": "769df450-fca1-4d9f-a9c3-b2a7c3573b7f"
      },
      "execution_count": null,
      "outputs": [
        {
          "output_type": "stream",
          "name": "stdout",
          "text": [
            "Property Size Comparison: Superhosts vs. Other Hosts\n",
            "Host Type: Other Host\n",
            "Average Bedrooms: 1.32\n",
            "Average Bathrooms: 1.26\n",
            "Average Square Feet: 844.40\n",
            "\n",
            "Host Type: Superhost\n",
            "Average Bedrooms: 1.26\n",
            "Average Bathrooms: 1.26\n",
            "Average Square Feet: 878.59\n",
            "\n"
          ]
        }
      ]
    },
    {
      "cell_type": "markdown",
      "source": [
        "When considering the property size in terms of bedrooms, bathrooms, and square footage, the analysis suggests that superhosts and other hosts are relatively similar. Superhosts have a slightly lower average number of bedrooms but have slightly larger properties in terms of square footage compared to other hosts."
      ],
      "metadata": {
        "id": "ePLy0raGtcpn"
      }
    },
    {
      "cell_type": "code",
      "source": [],
      "metadata": {
        "id": "fojbx6NHro6J"
      },
      "execution_count": null,
      "outputs": []
    },
    {
      "cell_type": "markdown",
      "source": [
        "Reservation Patterns: Do superhosts have a different distribution of reservation durations (e.g., minimum nights, maximum nights) compared to regular hosts?"
      ],
      "metadata": {
        "id": "xx614cfPt8Ud"
      }
    },
    {
      "cell_type": "code",
      "source": [
        "query = \"\"\"\n",
        "    SELECT\n",
        "        CASE\n",
        "            WHEN h.host_is_superhost = 1 THEN 'Superhost'\n",
        "            ELSE 'Other Host'\n",
        "        END AS host_type,\n",
        "        AVG(l.minimum_nights) AS average_minimum_nights,\n",
        "        AVG(l.maximum_nights) AS average_maximum_nights\n",
        "    FROM\n",
        "        listing AS l\n",
        "    JOIN\n",
        "        host AS h ON l.host_id = h.host_id\n",
        "    GROUP BY\n",
        "        host_type\n",
        "\"\"\"\n",
        "cursor.execute(query)\n",
        "results = cursor.fetchall()\n"
      ],
      "metadata": {
        "id": "sl1oUcFNuAhZ"
      },
      "execution_count": null,
      "outputs": []
    },
    {
      "cell_type": "code",
      "source": [
        "print(\"Reservation Patterns: Superhosts vs. Other Hosts\")\n",
        "for row in results:\n",
        "    host_type = row[0]\n",
        "    average_minimum_nights = row[1]\n",
        "    average_maximum_nights = row[2]\n",
        "    print(f\"Host Type: {host_type}\")\n",
        "    print(f\"Average Minimum Nights: {average_minimum_nights:.2f}\")\n",
        "    print(f\"Average Maximum Nights: {average_maximum_nights:.2f}\")\n",
        "    print()\n"
      ],
      "metadata": {
        "colab": {
          "base_uri": "https://localhost:8080/"
        },
        "id": "Lndcp_ixuAj1",
        "outputId": "43d03517-7f2b-4c73-8ed4-718727fff3e9"
      },
      "execution_count": null,
      "outputs": [
        {
          "output_type": "stream",
          "name": "stdout",
          "text": [
            "Reservation Patterns: Superhosts vs. Other Hosts\n",
            "Host Type: Other Host\n",
            "Average Minimum Nights: 2.42\n",
            "Average Maximum Nights: 812.44\n",
            "\n",
            "Host Type: Superhost\n",
            "Average Minimum Nights: 2.18\n",
            "Average Maximum Nights: 655.43\n",
            "\n"
          ]
        }
      ]
    },
    {
      "cell_type": "markdown",
      "source": [
        "When considering reservation patterns and durations, the analysis suggests that other hosts generally have slightly longer minimum stay requirements and significantly longer maximum stay durations compared to superhosts. This implies that other hosts may have more flexibility in accommodating longer-term stays, while superhosts tend to have shorter minimum and maximum stay requirements."
      ],
      "metadata": {
        "id": "cRs2sB3HuYWR"
      }
    },
    {
      "cell_type": "code",
      "source": [],
      "metadata": {
        "id": "1dbsSufFuAnp"
      },
      "execution_count": null,
      "outputs": []
    },
    {
      "cell_type": "markdown",
      "source": [
        "Review Scores: Are there notable differences in review scores (e.g., ratings, accuracy, cleanliness, communication) between superhosts and regular hosts?\n"
      ],
      "metadata": {
        "id": "ralrWq0luZ8B"
      }
    },
    {
      "cell_type": "code",
      "source": [
        "query = \"\"\"\n",
        "    SELECT\n",
        "        CASE\n",
        "            WHEN h.host_is_superhost = 1 THEN 'Superhost'\n",
        "            ELSE 'Other Host'\n",
        "        END AS host_type,\n",
        "        AVG(l.review_scores_rating) AS average_rating,\n",
        "        AVG(l.review_scores_accuracy) AS average_accuracy,\n",
        "        AVG(l.review_scores_cleanliness) AS average_cleanliness,\n",
        "        AVG(l.review_scores_communication) AS average_communication\n",
        "    FROM\n",
        "        listing AS l\n",
        "    JOIN\n",
        "        host AS h ON l.host_id = h.host_id\n",
        "    GROUP BY\n",
        "        host_type\n",
        "\"\"\"\n",
        "\n",
        "cursor.execute(query)\n",
        "results = cursor.fetchall()\n"
      ],
      "metadata": {
        "id": "2FIy7i7ouAp-"
      },
      "execution_count": null,
      "outputs": []
    },
    {
      "cell_type": "code",
      "source": [
        "print(\"Review Scores: Superhosts vs. Other Hosts\")\n",
        "for row in results:\n",
        "    host_type = row[0]\n",
        "    average_rating = row[1]\n",
        "    average_accuracy = row[2]\n",
        "    average_cleanliness = row[3]\n",
        "    average_communication = row[4]\n",
        "    print(f\"Host Type: {host_type}\")\n",
        "    print(f\"Average Rating: {average_rating:.2f}\")\n",
        "    print(f\"Average Accuracy: {average_accuracy:.2f}\")\n",
        "    print(f\"Average Cleanliness: {average_cleanliness:.2f}\")\n",
        "    print(f\"Average Communication: {average_communication:.2f}\")\n",
        "    print()"
      ],
      "metadata": {
        "colab": {
          "base_uri": "https://localhost:8080/"
        },
        "id": "pU0n2KHMuAt0",
        "outputId": "36715107-2eaa-4f16-96a9-ff9cce1278a7"
      },
      "execution_count": null,
      "outputs": [
        {
          "output_type": "stream",
          "name": "stdout",
          "text": [
            "Review Scores: Superhosts vs. Other Hosts\n",
            "Host Type: Other Host\n",
            "Average Rating: 93.65\n",
            "Average Accuracy: 9.55\n",
            "Average Cleanliness: 9.45\n",
            "Average Communication: 9.76\n",
            "\n",
            "Host Type: Superhost\n",
            "Average Rating: 97.40\n",
            "Average Accuracy: 9.91\n",
            "Average Cleanliness: 9.89\n",
            "Average Communication: 9.97\n",
            "\n"
          ]
        }
      ]
    },
    {
      "cell_type": "markdown",
      "source": [
        "When comparing review scores between superhosts and other hosts, the analysis reveals that superhosts tend to receive higher ratings, have higher accuracy and cleanliness scores, and are perceived to have better communication with guests. These findings indicate that superhosts generally excel in providing a positive guest experience, which aligns with their selection as superhosts based on their high ratings, reservation quantity, and low cancellation rates."
      ],
      "metadata": {
        "id": "ExSTlMMNvG0l"
      }
    },
    {
      "cell_type": "code",
      "source": [],
      "metadata": {
        "id": "TESCcFQ2uAwQ"
      },
      "execution_count": null,
      "outputs": []
    },
    {
      "cell_type": "markdown",
      "source": [
        "Response Time and Rates: Do superhosts have faster response times and higher response rates to inquiries compared to regular hosts?"
      ],
      "metadata": {
        "id": "Mp9epfIYvJF-"
      }
    },
    {
      "cell_type": "code",
      "source": [
        "query = \"\"\"\n",
        "    SELECT\n",
        "        CASE\n",
        "            WHEN h.host_is_superhost = 1 THEN 'Superhost'\n",
        "            ELSE 'Other Host'\n",
        "        END AS host_type,\n",
        "        AVG(CASE WHEN h.host_response_time = 'within an hour' THEN 1 ELSE 0 END) AS within_an_hour_rate,\n",
        "        AVG(CASE WHEN h.host_response_time = 'within a few hours' THEN 1 ELSE 0 END) AS within_a_few_hours_rate,\n",
        "        AVG(CASE WHEN h.host_response_time = 'within a day' THEN 1 ELSE 0 END) AS within_a_day_rate,\n",
        "        AVG(CASE WHEN h.host_response_time = 'a few days or more' THEN 1 ELSE 0 END) AS a_few_days_or_more_rate,\n",
        "        AVG(h.host_response_rate) AS average_response_rate\n",
        "    FROM\n",
        "        host AS h\n",
        "    GROUP BY\n",
        "        host_type\n",
        "\"\"\"\n",
        "\n",
        "cursor.execute(query)\n",
        "results = cursor.fetchall()"
      ],
      "metadata": {
        "id": "LRQy790vuA0L"
      },
      "execution_count": null,
      "outputs": []
    },
    {
      "cell_type": "code",
      "source": [
        "print(\"Response Time and Rates: Superhosts vs. Other Hosts\")\n",
        "for row in results:\n",
        "    host_type = row[0]\n",
        "    within_an_hour_rate = row[1] * 100\n",
        "    within_a_few_hours_rate = row[2] * 100\n",
        "    within_a_day_rate = row[3] * 100\n",
        "    a_few_days_or_more_rate = row[4] * 100\n",
        "    average_response_rate = row[5] * 100\n",
        "    print(f\"Host Type: {host_type}\")\n",
        "    print(f\"Within an Hour Rate: {within_an_hour_rate:.2f}%\")\n",
        "    print(f\"Within a Few Hours Rate: {within_a_few_hours_rate:.2f}%\")\n",
        "    print(f\"Within a Day Rate: {within_a_day_rate:.2f}%\")\n",
        "    print(f\"A Few Days or More Rate: {a_few_days_or_more_rate:.2f}%\")\n",
        "    print(f\"Average Response Rate: {average_response_rate:.2f}%\")\n",
        "    print()"
      ],
      "metadata": {
        "colab": {
          "base_uri": "https://localhost:8080/"
        },
        "id": "UkbzrPR-uA39",
        "outputId": "8b02ddd0-71f6-40d0-b1d2-ebba34d58ae3"
      },
      "execution_count": null,
      "outputs": [
        {
          "output_type": "stream",
          "name": "stdout",
          "text": [
            "Response Time and Rates: Superhosts vs. Other Hosts\n",
            "Host Type: Other Host\n",
            "Within an Hour Rate: 35.05%\n",
            "Within a Few Hours Rate: 23.17%\n",
            "Within a Day Rate: 19.02%\n",
            "A Few Days or More Rate: 1.40%\n",
            "Average Response Rate: 9358.24%\n",
            "\n",
            "Host Type: Superhost\n",
            "Within an Hour Rate: 56.42%\n",
            "Within a Few Hours Rate: 28.68%\n",
            "Within a Day Rate: 8.94%\n",
            "A Few Days or More Rate: 0.19%\n",
            "Average Response Rate: 9808.70%\n",
            "\n"
          ]
        }
      ]
    },
    {
      "cell_type": "markdown",
      "source": [
        "Overall, the analysis suggests that superhosts have faster response times and higher response rates compared to regular hosts. They are more likely to respond within an hour or a few hours, demonstrating their promptness and attentiveness to guest inquiries. Additionally, superhosts exhibit a higher average response rate, indicating a strong commitment to providing exceptional guest communication. These findings align with the criteria for selecting superhosts, which include high ratings, reservation quantity, and minimal cancellations, and further highlight the superior level of service offered by superhosts."
      ],
      "metadata": {
        "id": "5UqnqT7avn6j"
      }
    },
    {
      "cell_type": "code",
      "source": [],
      "metadata": {
        "id": "rKI2rLn_uA6j"
      },
      "execution_count": null,
      "outputs": []
    },
    {
      "cell_type": "markdown",
      "source": [
        "Host Listings Count: Do superhosts tend to have a larger number of listings compared to regular hosts?"
      ],
      "metadata": {
        "id": "qFtxoL-BvpoS"
      }
    },
    {
      "cell_type": "code",
      "source": [
        "query = \"\"\"\n",
        "    SELECT\n",
        "        CASE\n",
        "            WHEN host_is_superhost = 1 THEN 'Superhost'\n",
        "            ELSE 'Other Host'\n",
        "        END AS host_type,\n",
        "        AVG(host_listings_count) AS average_listings_count\n",
        "    FROM\n",
        "        host\n",
        "    GROUP BY\n",
        "        host_type\n",
        "\"\"\"\n",
        "\n",
        "cursor.execute(query)\n",
        "results = cursor.fetchall()"
      ],
      "metadata": {
        "id": "pcPAm6ocuA9A"
      },
      "execution_count": null,
      "outputs": []
    },
    {
      "cell_type": "code",
      "source": [
        "print(\"Host Listings Count: Superhosts vs. Other Hosts\")\n",
        "for row in results:\n",
        "    host_type = row[0]\n",
        "    average_listings_count = row[1]\n",
        "    print(f\"Host Type: {host_type}\")\n",
        "    print(f\"Average Listings Count: {average_listings_count:.2f}\")\n",
        "    print()"
      ],
      "metadata": {
        "colab": {
          "base_uri": "https://localhost:8080/"
        },
        "id": "zONZmmt1vwsN",
        "outputId": "b620e18f-9edd-4f86-c89f-43d81faa56ca"
      },
      "execution_count": null,
      "outputs": [
        {
          "output_type": "stream",
          "name": "stdout",
          "text": [
            "Host Listings Count: Superhosts vs. Other Hosts\n",
            "Host Type: Other Host\n",
            "Average Listings Count: 2.03\n",
            "\n",
            "Host Type: Superhost\n",
            "Average Listings Count: 1.54\n",
            "\n"
          ]
        }
      ]
    },
    {
      "cell_type": "markdown",
      "source": [
        "Superhosts tend to have a smaller average number of listings (1.54) compared to other hosts (2.03). This suggests that regular hosts, who are not classified as superhosts, have a slightly higher tendency to manage a larger number of listings.\n",
        "\n",
        "The difference in the average listings count indicates that superhosts may focus more on maintaining a smaller number of properties, potentially allowing them to provide more personalized attention and care to each listing. On the other hand, other hosts, who are not superhosts, may have a larger portfolio of listings, which could suggest a different business strategy or approach to property management.\n",
        "\n",
        "Overall, this analysis suggests that superhosts tend to have a smaller number of listings compared to regular hosts."
      ],
      "metadata": {
        "id": "zEJtUPBSwE4J"
      }
    },
    {
      "cell_type": "code",
      "source": [],
      "metadata": {
        "id": "3Gwc4h38vwva"
      },
      "execution_count": null,
      "outputs": []
    },
    {
      "cell_type": "markdown",
      "source": [
        "Host Identity Verification: Are superhosts more likely to have their identities verified compared to regular hosts"
      ],
      "metadata": {
        "id": "vf-EHDamwGTo"
      }
    },
    {
      "cell_type": "code",
      "source": [
        "query = \"\"\"\n",
        "    SELECT\n",
        "        CASE\n",
        "            WHEN host_is_superhost = 1 THEN 'Superhost'\n",
        "            ELSE 'Other Host'\n",
        "        END AS host_type,\n",
        "        COUNT(*) AS count,\n",
        "        AVG(CASE WHEN host_identity_verified = 1 THEN 1 ELSE 0 END) AS identity_verified_rate\n",
        "    FROM\n",
        "        host\n",
        "    GROUP BY\n",
        "        host_type\n",
        "\"\"\"\n",
        "\n",
        "cursor.execute(query)\n",
        "results = cursor.fetchall()"
      ],
      "metadata": {
        "id": "Z1PPMct8vwyg"
      },
      "execution_count": null,
      "outputs": []
    },
    {
      "cell_type": "code",
      "source": [
        "print(\"Host Identity Verification: Superhosts vs. Other Hosts\")\n",
        "for row in results:\n",
        "    host_type = row[0]\n",
        "    count = row[1]\n",
        "    identity_verified_rate = row[2] * 100\n",
        "    print(f\"Host Type: {host_type}\")\n",
        "    print(f\"Total Hosts: {count}\")\n",
        "    print(f\"Identity Verified Rate: {identity_verified_rate:.2f}%\")\n",
        "    print()"
      ],
      "metadata": {
        "colab": {
          "base_uri": "https://localhost:8080/"
        },
        "id": "GRyfs2kBvw1L",
        "outputId": "3d179cea-1d9f-4cfe-9a4a-2382ae844872"
      },
      "execution_count": null,
      "outputs": [
        {
          "output_type": "stream",
          "name": "stdout",
          "text": [
            "Host Identity Verification: Superhosts vs. Other Hosts\n",
            "Host Type: Other Host\n",
            "Total Hosts: 2214\n",
            "Identity Verified Rate: 72.04%\n",
            "\n",
            "Host Type: Superhost\n",
            "Total Hosts: 537\n",
            "Identity Verified Rate: 87.90%\n",
            "\n"
          ]
        }
      ]
    },
    {
      "cell_type": "markdown",
      "source": [
        "Superhosts have a higher likelihood of having their identities verified compared to other hosts. The identity verified rate for superhosts is 87.90%, indicating that a significant majority of superhosts have undergone the identity verification process. On the other hand, the identity verified rate for other hosts is 72.04%, which is relatively lower but still significant.\n",
        "\n",
        "The higher identity verified rate among superhosts suggests that they prioritize and value the identity verification process. It could be attributed to the fact that superhosts, who have achieved a high rating, a large number of reservations, and minimal cancellations, are more inclined to provide a higher level of transparency and trustworthiness by verifying their identities.\n",
        "\n",
        "Overall, the analysis indicates that superhosts are more likely to have their identities verified compared to regular hosts. This higher identity verification rate adds an extra layer of credibility and reassurance for guests when booking with superhosts."
      ],
      "metadata": {
        "id": "TYcV0b45weEy"
      }
    },
    {
      "cell_type": "code",
      "source": [],
      "metadata": {
        "id": "wWDhHaOfvw32"
      },
      "execution_count": null,
      "outputs": []
    },
    {
      "cell_type": "markdown",
      "source": [
        "Who are the top 10 host based on revenue?"
      ],
      "metadata": {
        "id": "zlVSYKAm6Dke"
      }
    },
    {
      "cell_type": "code",
      "source": [
        "query = \"\"\"\n",
        "    SELECT\n",
        "        host_id,\n",
        "        SUM(price * has_availability) AS revenue\n",
        "    FROM listing\n",
        "    GROUP BY host_id\n",
        "    ORDER BY revenue DESC\n",
        "    LIMIT 10;\n",
        "\"\"\"\n",
        "cursor.execute(query)\n",
        "results = cursor.fetchall()"
      ],
      "metadata": {
        "id": "uYnZ4v4p6ChT"
      },
      "execution_count": null,
      "outputs": []
    },
    {
      "cell_type": "code",
      "source": [
        "for row in results:\n",
        "    host_id, revenue = row\n",
        "    print(f\"Host ID: {host_id}, Revenue: ${revenue}\")"
      ],
      "metadata": {
        "colab": {
          "base_uri": "https://localhost:8080/"
        },
        "id": "YEs0mXHD6C9L",
        "outputId": "48143909-7c07-4963-c48a-87eb2f7bffb4"
      },
      "execution_count": null,
      "outputs": [
        {
          "output_type": "stream",
          "name": "stdout",
          "text": [
            "Host ID: 8534462, Revenue: $9638.0\n",
            "Host ID: 430709, Revenue: $7501.0\n",
            "Host ID: 74305, Revenue: $6206.0\n",
            "Host ID: 4962900, Revenue: $5730.0\n",
            "Host ID: 658155, Revenue: $3323.0\n",
            "Host ID: 3074414, Revenue: $3113.0\n",
            "Host ID: 754810, Revenue: $2775.0\n",
            "Host ID: 31148752, Revenue: $2448.0\n",
            "Host ID: 5325329, Revenue: $2273.0\n",
            "Host ID: 1243056, Revenue: $1775.0\n"
          ]
        }
      ]
    },
    {
      "cell_type": "code",
      "source": [],
      "metadata": {
        "id": "HwKvCj0M6DAS"
      },
      "execution_count": null,
      "outputs": []
    },
    {
      "cell_type": "markdown",
      "source": [
        "How is the number of host joined to Airbnb over time?\n"
      ],
      "metadata": {
        "id": "Bo7ie8wW6Rq2"
      }
    },
    {
      "cell_type": "code",
      "source": [
        "query = \"\"\"\n",
        "    SELECT strftime('%Y-%m', host_since) AS month_joined, COUNT(DISTINCT host_id) AS num_hosts\n",
        "    FROM host\n",
        "    GROUP BY month_joined\n",
        "    ORDER BY month_joined;\n",
        "\"\"\"\n",
        "cursor.execute(query)\n",
        "results = cursor.fetchall()"
      ],
      "metadata": {
        "id": "ESCEIVMj6DDf"
      },
      "execution_count": null,
      "outputs": []
    },
    {
      "cell_type": "code",
      "source": [
        "for row in results:\n",
        "    month, num_hosts = row\n",
        "    print(f\"Month: {month}, Number of Hosts: {num_hosts}\")"
      ],
      "metadata": {
        "colab": {
          "base_uri": "https://localhost:8080/"
        },
        "id": "MXMxLHgZ6fzW",
        "outputId": "487c7582-f846-4736-c59d-f337b5392087"
      },
      "execution_count": null,
      "outputs": [
        {
          "output_type": "stream",
          "name": "stdout",
          "text": [
            "Month: None, Number of Hosts: 2\n",
            "Month: 2008-11, Number of Hosts: 1\n",
            "Month: 2009-01, Number of Hosts: 1\n",
            "Month: 2009-02, Number of Hosts: 1\n",
            "Month: 2009-03, Number of Hosts: 2\n",
            "Month: 2009-04, Number of Hosts: 1\n",
            "Month: 2009-05, Number of Hosts: 1\n",
            "Month: 2009-06, Number of Hosts: 1\n",
            "Month: 2009-08, Number of Hosts: 7\n",
            "Month: 2009-09, Number of Hosts: 2\n",
            "Month: 2009-10, Number of Hosts: 2\n",
            "Month: 2009-11, Number of Hosts: 3\n",
            "Month: 2009-12, Number of Hosts: 4\n",
            "Month: 2010-01, Number of Hosts: 5\n",
            "Month: 2010-02, Number of Hosts: 2\n",
            "Month: 2010-03, Number of Hosts: 5\n",
            "Month: 2010-04, Number of Hosts: 11\n",
            "Month: 2010-05, Number of Hosts: 2\n",
            "Month: 2010-06, Number of Hosts: 1\n",
            "Month: 2010-07, Number of Hosts: 13\n",
            "Month: 2010-08, Number of Hosts: 15\n",
            "Month: 2010-09, Number of Hosts: 12\n",
            "Month: 2010-10, Number of Hosts: 3\n",
            "Month: 2010-11, Number of Hosts: 9\n",
            "Month: 2010-12, Number of Hosts: 6\n",
            "Month: 2011-01, Number of Hosts: 7\n",
            "Month: 2011-02, Number of Hosts: 13\n",
            "Month: 2011-03, Number of Hosts: 11\n",
            "Month: 2011-04, Number of Hosts: 10\n",
            "Month: 2011-05, Number of Hosts: 26\n",
            "Month: 2011-06, Number of Hosts: 19\n",
            "Month: 2011-07, Number of Hosts: 23\n",
            "Month: 2011-08, Number of Hosts: 28\n",
            "Month: 2011-09, Number of Hosts: 29\n",
            "Month: 2011-10, Number of Hosts: 24\n",
            "Month: 2011-11, Number of Hosts: 20\n",
            "Month: 2011-12, Number of Hosts: 10\n",
            "Month: 2012-01, Number of Hosts: 16\n",
            "Month: 2012-02, Number of Hosts: 22\n",
            "Month: 2012-03, Number of Hosts: 33\n",
            "Month: 2012-04, Number of Hosts: 28\n",
            "Month: 2012-05, Number of Hosts: 44\n",
            "Month: 2012-06, Number of Hosts: 34\n",
            "Month: 2012-07, Number of Hosts: 34\n",
            "Month: 2012-08, Number of Hosts: 37\n",
            "Month: 2012-09, Number of Hosts: 36\n",
            "Month: 2012-10, Number of Hosts: 35\n",
            "Month: 2012-11, Number of Hosts: 28\n",
            "Month: 2012-12, Number of Hosts: 20\n",
            "Month: 2013-01, Number of Hosts: 24\n",
            "Month: 2013-02, Number of Hosts: 37\n",
            "Month: 2013-03, Number of Hosts: 44\n",
            "Month: 2013-04, Number of Hosts: 49\n",
            "Month: 2013-05, Number of Hosts: 58\n",
            "Month: 2013-06, Number of Hosts: 30\n",
            "Month: 2013-07, Number of Hosts: 54\n",
            "Month: 2013-08, Number of Hosts: 51\n",
            "Month: 2013-09, Number of Hosts: 51\n",
            "Month: 2013-10, Number of Hosts: 49\n",
            "Month: 2013-11, Number of Hosts: 40\n",
            "Month: 2013-12, Number of Hosts: 33\n",
            "Month: 2014-01, Number of Hosts: 51\n",
            "Month: 2014-02, Number of Hosts: 59\n",
            "Month: 2014-03, Number of Hosts: 56\n",
            "Month: 2014-04, Number of Hosts: 62\n",
            "Month: 2014-05, Number of Hosts: 58\n",
            "Month: 2014-06, Number of Hosts: 57\n",
            "Month: 2014-07, Number of Hosts: 75\n",
            "Month: 2014-08, Number of Hosts: 91\n",
            "Month: 2014-09, Number of Hosts: 60\n",
            "Month: 2014-10, Number of Hosts: 48\n",
            "Month: 2014-11, Number of Hosts: 60\n",
            "Month: 2014-12, Number of Hosts: 47\n",
            "Month: 2015-01, Number of Hosts: 66\n",
            "Month: 2015-02, Number of Hosts: 45\n",
            "Month: 2015-03, Number of Hosts: 59\n",
            "Month: 2015-04, Number of Hosts: 59\n",
            "Month: 2015-05, Number of Hosts: 80\n",
            "Month: 2015-06, Number of Hosts: 80\n",
            "Month: 2015-07, Number of Hosts: 99\n",
            "Month: 2015-08, Number of Hosts: 98\n",
            "Month: 2015-09, Number of Hosts: 69\n",
            "Month: 2015-10, Number of Hosts: 61\n",
            "Month: 2015-11, Number of Hosts: 59\n",
            "Month: 2015-12, Number of Hosts: 28\n",
            "Month: 2016-01, Number of Hosts: 5\n"
          ]
        }
      ]
    },
    {
      "cell_type": "code",
      "source": [],
      "metadata": {
        "id": "6vsurSJQ7fqa"
      },
      "execution_count": null,
      "outputs": []
    },
    {
      "cell_type": "markdown",
      "source": [
        "#### Exploring trends in property ratings."
      ],
      "metadata": {
        "id": "mCtpn9nRyYZv"
      }
    },
    {
      "cell_type": "markdown",
      "source": [
        "Price of listings: Do high reviews tend to be associated with more expensive or less expensive listings?"
      ],
      "metadata": {
        "id": "j-ZNQvI_wfv_"
      }
    },
    {
      "cell_type": "code",
      "source": [
        "query = \"\"\"\n",
        "    SELECT\n",
        "        CASE\n",
        "            WHEN review_scores_rating >= 90 THEN 'High Review'\n",
        "            ELSE 'Low Review'\n",
        "        END AS review_category,\n",
        "        AVG(price) AS average_price\n",
        "    FROM\n",
        "        listing\n",
        "    WHERE\n",
        "        price IS NOT NULL\n",
        "    GROUP BY\n",
        "        review_category\n",
        "\"\"\"\n",
        "\n",
        "cursor.execute(query)\n",
        "results = cursor.fetchall()"
      ],
      "metadata": {
        "id": "MDGpZrXlvw6n"
      },
      "execution_count": null,
      "outputs": []
    },
    {
      "cell_type": "code",
      "source": [
        "\n",
        "print(\"Price of Listings: High Reviews vs. Low Reviews\")\n",
        "for row in results:\n",
        "    review_category = row[0]\n",
        "    average_price = row[1]\n",
        "    print(f\"Review Category: {review_category}\")\n",
        "    print(f\"Average Price: ${average_price:.2f}\")\n",
        "    print()"
      ],
      "metadata": {
        "colab": {
          "base_uri": "https://localhost:8080/"
        },
        "id": "BINAJhENvw9c",
        "outputId": "85062259-8ff8-4610-b584-83d09f5b7e5a"
      },
      "execution_count": null,
      "outputs": [
        {
          "output_type": "stream",
          "name": "stdout",
          "text": [
            "Price of Listings: High Reviews vs. Low Reviews\n",
            "Review Category: High Review\n",
            "Average Price: $128.02\n",
            "\n",
            "Review Category: Low Review\n",
            "Average Price: $127.86\n",
            "\n"
          ]
        }
      ]
    },
    {
      "cell_type": "markdown",
      "source": [
        "There is a minimal difference in the average price of listings between the \"High Review\" and \"Low Review\" categories. The average price for listings with high reviews is USD 128.02, while the average price for listings with low reviews is slightly lower at USD 127.86.\n",
        "\n",
        "This suggests that high reviews are not strongly correlated with significantly higher or lower prices of listings. It indicates that the price of a listing is not solely determined by the review score rating. Other factors, such as location, property amenities, size, and demand, might play a more significant role in determining the price.\n",
        "\n",
        "Therefore, based on this analysis, there is no clear indication that high reviews tend to be associated with more expensive or less expensive listings. The price of a listing appears to be influenced by various factors beyond the review scores."
      ],
      "metadata": {
        "id": "7DjC5f4bw8H6"
      }
    },
    {
      "cell_type": "code",
      "source": [],
      "metadata": {
        "id": "Lqo2IHHgvxBt"
      },
      "execution_count": null,
      "outputs": []
    },
    {
      "cell_type": "markdown",
      "source": [
        "Neighborhoods: Which Seattle neighborhoods have the highest reviewed properties?"
      ],
      "metadata": {
        "id": "HtjE-3L7w9Zu"
      }
    },
    {
      "cell_type": "code",
      "source": [],
      "metadata": {
        "id": "UXusRwuYZnB2"
      },
      "execution_count": null,
      "outputs": []
    },
    {
      "cell_type": "code",
      "source": [
        "query = \"\"\"\n",
        "    SELECT\n",
        "        neighbourhood_cleansed,\n",
        "        AVG(review_scores_rating) AS average_rating\n",
        "    FROM\n",
        "        listing\n",
        "    WHERE\n",
        "        review_scores_rating IS NOT NULL\n",
        "    GROUP BY\n",
        "        neighbourhood_cleansed\n",
        "    ORDER BY\n",
        "        average_rating DESC\n",
        "    LIMIT 5\n",
        "\"\"\"\n",
        "\n",
        "cursor.execute(query)\n",
        "results = cursor.fetchall()"
      ],
      "metadata": {
        "id": "-qs7cUbXvxD9"
      },
      "execution_count": null,
      "outputs": []
    },
    {
      "cell_type": "code",
      "source": [
        "print(\"Neighborhoods with Highest Reviewed Properties\")\n",
        "for row in results:\n",
        "    neighborhood = row[0]\n",
        "    average_rating = row[1]\n",
        "    print(f\"Neighborhood: {neighborhood}\")\n",
        "    print(f\"Average Rating: {average_rating:.2f}\")\n",
        "    print()"
      ],
      "metadata": {
        "colab": {
          "base_uri": "https://localhost:8080/"
        },
        "id": "t4lzWkU-vxHx",
        "outputId": "82dce80d-42fd-4f3b-9456-91f0ecf0505f"
      },
      "execution_count": null,
      "outputs": [
        {
          "output_type": "stream",
          "name": "stdout",
          "text": [
            "Neighborhoods with Highest Reviewed Properties\n",
            "Neighborhood: Arbor Heights\n",
            "Average Rating: 98.00\n",
            "\n",
            "Neighborhood: Riverview\n",
            "Average Rating: 97.25\n",
            "\n",
            "Neighborhood: Southeast Magnolia\n",
            "Average Rating: 97.21\n",
            "\n",
            "Neighborhood: Madrona\n",
            "Average Rating: 97.10\n",
            "\n",
            "Neighborhood: Harrison/Denny-Blaine\n",
            "Average Rating: 97.08\n",
            "\n"
          ]
        }
      ]
    },
    {
      "cell_type": "code",
      "source": [],
      "metadata": {
        "id": "AUZBV7eOvxJ4"
      },
      "execution_count": null,
      "outputs": []
    },
    {
      "cell_type": "markdown",
      "source": [
        "Bedrooms and bathrooms: Do higher rated properties tend to be larger or smaller?"
      ],
      "metadata": {
        "id": "_MwGAzRYx5jH"
      }
    },
    {
      "cell_type": "code",
      "source": [
        "query = \"\"\"\n",
        "    SELECT\n",
        "        CASE\n",
        "            WHEN review_scores_rating >= 90 THEN 'High Rating'\n",
        "            ELSE 'Low Rating'\n",
        "        END AS rating_category,\n",
        "        AVG(bedrooms) AS average_bedrooms,\n",
        "        AVG(bathrooms) AS average_bathrooms\n",
        "    FROM\n",
        "        listing\n",
        "    WHERE\n",
        "        bedrooms IS NOT NULL\n",
        "        AND bathrooms IS NOT NULL\n",
        "        AND review_scores_rating IS NOT NULL\n",
        "    GROUP BY\n",
        "        rating_category\n",
        "\"\"\"\n",
        "\n",
        "cursor.execute(query)\n",
        "results = cursor.fetchall()"
      ],
      "metadata": {
        "id": "4eanbz9kvxL1"
      },
      "execution_count": null,
      "outputs": []
    },
    {
      "cell_type": "code",
      "source": [
        "print(\"Property Size Comparison: High Rating vs. Low Rating\")\n",
        "for row in results:\n",
        "    rating_category = row[0]\n",
        "    average_bedrooms = row[1]\n",
        "    average_bathrooms = row[2]\n",
        "    print(f\"Rating Category: {rating_category}\")\n",
        "    print(f\"Average Bedrooms: {average_bedrooms:.2f}\")\n",
        "    print(f\"Average Bathrooms: {average_bathrooms:.2f}\")\n",
        "    print()"
      ],
      "metadata": {
        "colab": {
          "base_uri": "https://localhost:8080/"
        },
        "id": "P6irRkVcvxON",
        "outputId": "356c2927-5569-4e3b-bcee-81b8871a5195"
      },
      "execution_count": null,
      "outputs": [
        {
          "output_type": "stream",
          "name": "stdout",
          "text": [
            "Property Size Comparison: High Rating vs. Low Rating\n",
            "Rating Category: High Rating\n",
            "Average Bedrooms: 1.31\n",
            "Average Bathrooms: 1.26\n",
            "\n",
            "Rating Category: Low Rating\n",
            "Average Bedrooms: 1.29\n",
            "Average Bathrooms: 1.23\n",
            "\n"
          ]
        }
      ]
    },
    {
      "cell_type": "markdown",
      "source": [
        "There is a minimal difference in the average number of bedrooms and bathrooms between properties with high ratings and properties with low ratings. For properties in the \"High Rating\" category, the average number of bedrooms is 1.31 and the average number of bathrooms is 1.26. On the other hand, for properties in the \"Low Rating\" category, the average number of bedrooms is 1.29 and the average number of bathrooms is 1.23.\n",
        "\n",
        "This suggests that there is no substantial relationship between the rating of a property and its size in terms of bedrooms and bathrooms. The size of a property, as measured by the number of bedrooms and bathrooms, does not seem to be a significant determining factor in achieving higher ratings.\n",
        "\n",
        "Other factors such as the overall condition, cleanliness, amenities, location, and the overall experience provided by the host may have a more substantial impact on the ratings of the properties.\n",
        "\n",
        "Therefore, based on this analysis, there is no clear indication that higher rated properties are consistently larger or smaller in terms of bedrooms and bathrooms. The rating of a property appears to be influenced by a variety of factors beyond its size."
      ],
      "metadata": {
        "id": "2-VYpGkByNyP"
      }
    },
    {
      "cell_type": "code",
      "source": [],
      "metadata": {
        "id": "Mt_-BJ5yuBAJ"
      },
      "execution_count": null,
      "outputs": []
    },
    {
      "cell_type": "markdown",
      "source": [
        "Availability of listings: Do higher rated properties tend to have less availability than lower rated properties?"
      ],
      "metadata": {
        "id": "NgRbOY9YyPLf"
      }
    },
    {
      "cell_type": "code",
      "source": [
        "query = \"\"\"\n",
        "    SELECT\n",
        "        CASE\n",
        "            WHEN review_scores_rating >= 90 THEN 'High Rating'\n",
        "            ELSE 'Low Rating'\n",
        "        END AS rating_category,\n",
        "        AVG(has_availability) AS average_availability\n",
        "    FROM\n",
        "        listing\n",
        "    WHERE\n",
        "        review_scores_rating IS NOT NULL\n",
        "    GROUP BY\n",
        "        rating_category\n",
        "\"\"\"\n",
        "\n",
        "cursor.execute(query)\n",
        "results = cursor.fetchall()"
      ],
      "metadata": {
        "id": "WTVRiK3hqrDN"
      },
      "execution_count": null,
      "outputs": []
    },
    {
      "cell_type": "code",
      "source": [
        "print(\"Availability of Listings: High Rating vs. Low Rating\")\n",
        "for row in results:\n",
        "    rating_category = row[0]\n",
        "    average_availability = row[1]\n",
        "    print(f\"Rating Category: {rating_category}\")\n",
        "    print(f\"Average Availability: {average_availability:.2f}\")\n",
        "    print()"
      ],
      "metadata": {
        "colab": {
          "base_uri": "https://localhost:8080/"
        },
        "id": "3ZbPt5iJybOj",
        "outputId": "e9ab9b2a-c469-4c64-a596-d1f4a977f9f2"
      },
      "execution_count": null,
      "outputs": [
        {
          "output_type": "stream",
          "name": "stdout",
          "text": [
            "Availability of Listings: High Rating vs. Low Rating\n",
            "Rating Category: High Rating\n",
            "Average Availability: 1.00\n",
            "\n",
            "Rating Category: Low Rating\n",
            "Average Availability: 1.00\n",
            "\n"
          ]
        }
      ]
    },
    {
      "cell_type": "markdown",
      "source": [
        "There is no noticeable difference in the average availability between properties with high ratings and properties with low ratings. Both categories have an average availability of 1.00.\n",
        "\n",
        "This suggests that the rating of a property does not have a significant impact on its availability. The availability of a property, as represented by the has_availability column, seems to be consistent regardless of its rating. Higher rated properties are not necessarily more or less available compared to lower rated properties.\n",
        "\n",
        "Other factors such as the host's scheduling preferences, booking policies, and the overall demand for the property may influence its availability more than its rating. The availability of a property is likely determined by factors beyond its rating, making it an independent aspect of the property listing."
      ],
      "metadata": {
        "id": "-r_ccp3Qythk"
      }
    },
    {
      "cell_type": "code",
      "source": [],
      "metadata": {
        "id": "O-RQqyF2ybRN"
      },
      "execution_count": null,
      "outputs": []
    },
    {
      "cell_type": "markdown",
      "source": [
        "Neighborhood Concentration: Are highly rated properties more concentrated in specific neighborhoods compared to lowly rated properties?"
      ],
      "metadata": {
        "id": "l5un56J4yu13"
      }
    },
    {
      "cell_type": "code",
      "source": [
        "query = \"\"\"\n",
        "    SELECT\n",
        "        neighbourhood_cleansed,\n",
        "        AVG(CASE WHEN review_scores_rating >= 90 THEN 1 ELSE 0 END) AS high_rating_concentration,\n",
        "        AVG(CASE WHEN review_scores_rating < 90 THEN 1 ELSE 0 END) AS low_rating_concentration\n",
        "    FROM\n",
        "        listing\n",
        "    GROUP BY\n",
        "        neighbourhood_cleansed\n",
        "\"\"\"\n",
        "\n",
        "cursor.execute(query)\n",
        "results = cursor.fetchall()"
      ],
      "metadata": {
        "id": "p8suFXJqybUT"
      },
      "execution_count": null,
      "outputs": []
    },
    {
      "cell_type": "code",
      "source": [
        "print(\"Neighborhood Concentration: Highly Rated Properties vs. Lowly Rated Properties\")\n",
        "for row in results:\n",
        "    neighborhood = row[0]\n",
        "    high_rating_concentration = row[1]\n",
        "    low_rating_concentration = row[2]\n",
        "    print(f\"Neighborhood: {neighborhood}\")\n",
        "    print(f\"Highly Rated Property Concentration: {high_rating_concentration:.2%}\")\n",
        "    print(f\"Lowly Rated Property Concentration: {low_rating_concentration:.2%}\")\n",
        "    print()"
      ],
      "metadata": {
        "colab": {
          "base_uri": "https://localhost:8080/"
        },
        "id": "Dzd6ZQQjybYl",
        "outputId": "6e7c4991-439e-4696-c677-04912480ed20"
      },
      "execution_count": null,
      "outputs": [
        {
          "output_type": "stream",
          "name": "stdout",
          "text": [
            "Neighborhood Concentration: Highly Rated Properties vs. Lowly Rated Properties\n",
            "Neighborhood: Adams\n",
            "Highly Rated Property Concentration: 77.14%\n",
            "Lowly Rated Property Concentration: 4.29%\n",
            "\n",
            "Neighborhood: Alki\n",
            "Highly Rated Property Concentration: 61.90%\n",
            "Lowly Rated Property Concentration: 4.76%\n",
            "\n",
            "Neighborhood: Arbor Heights\n",
            "Highly Rated Property Concentration: 60.00%\n",
            "Lowly Rated Property Concentration: 0.00%\n",
            "\n",
            "Neighborhood: Atlantic\n",
            "Highly Rated Property Concentration: 64.15%\n",
            "Lowly Rated Property Concentration: 15.09%\n",
            "\n",
            "Neighborhood: Belltown\n",
            "Highly Rated Property Concentration: 72.65%\n",
            "Lowly Rated Property Concentration: 14.10%\n",
            "\n",
            "Neighborhood: Bitter Lake\n",
            "Highly Rated Property Concentration: 69.23%\n",
            "Lowly Rated Property Concentration: 23.08%\n",
            "\n",
            "Neighborhood: Briarcliff\n",
            "Highly Rated Property Concentration: 57.14%\n",
            "Lowly Rated Property Concentration: 28.57%\n",
            "\n",
            "Neighborhood: Brighton\n",
            "Highly Rated Property Concentration: 84.62%\n",
            "Lowly Rated Property Concentration: 0.00%\n",
            "\n",
            "Neighborhood: Broadview\n",
            "Highly Rated Property Concentration: 94.12%\n",
            "Lowly Rated Property Concentration: 0.00%\n",
            "\n",
            "Neighborhood: Broadway\n",
            "Highly Rated Property Concentration: 67.76%\n",
            "Lowly Rated Property Concentration: 13.10%\n",
            "\n",
            "Neighborhood: Bryant\n",
            "Highly Rated Property Concentration: 72.41%\n",
            "Lowly Rated Property Concentration: 13.79%\n",
            "\n",
            "Neighborhood: Cedar Park\n",
            "Highly Rated Property Concentration: 50.00%\n",
            "Lowly Rated Property Concentration: 25.00%\n",
            "\n",
            "Neighborhood: Central Business District\n",
            "Highly Rated Property Concentration: 78.64%\n",
            "Lowly Rated Property Concentration: 7.77%\n",
            "\n",
            "Neighborhood: Columbia City\n",
            "Highly Rated Property Concentration: 81.03%\n",
            "Lowly Rated Property Concentration: 6.90%\n",
            "\n",
            "Neighborhood: Crown Hill\n",
            "Highly Rated Property Concentration: 76.19%\n",
            "Lowly Rated Property Concentration: 9.52%\n",
            "\n",
            "Neighborhood: Dunlap\n",
            "Highly Rated Property Concentration: 70.00%\n",
            "Lowly Rated Property Concentration: 5.00%\n",
            "\n",
            "Neighborhood: East Queen Anne\n",
            "Highly Rated Property Concentration: 80.49%\n",
            "Lowly Rated Property Concentration: 6.10%\n",
            "\n",
            "Neighborhood: Eastlake\n",
            "Highly Rated Property Concentration: 60.00%\n",
            "Lowly Rated Property Concentration: 20.00%\n",
            "\n",
            "Neighborhood: Fairmount Park\n",
            "Highly Rated Property Concentration: 79.31%\n",
            "Lowly Rated Property Concentration: 10.34%\n",
            "\n",
            "Neighborhood: Fauntleroy\n",
            "Highly Rated Property Concentration: 90.00%\n",
            "Lowly Rated Property Concentration: 0.00%\n",
            "\n",
            "Neighborhood: First Hill\n",
            "Highly Rated Property Concentration: 75.93%\n",
            "Lowly Rated Property Concentration: 7.41%\n",
            "\n",
            "Neighborhood: Fremont\n",
            "Highly Rated Property Concentration: 79.11%\n",
            "Lowly Rated Property Concentration: 5.70%\n",
            "\n",
            "Neighborhood: Gatewood\n",
            "Highly Rated Property Concentration: 63.64%\n",
            "Lowly Rated Property Concentration: 9.09%\n",
            "\n",
            "Neighborhood: Genesee\n",
            "Highly Rated Property Concentration: 85.29%\n",
            "Lowly Rated Property Concentration: 2.94%\n",
            "\n",
            "Neighborhood: Georgetown\n",
            "Highly Rated Property Concentration: 100.00%\n",
            "Lowly Rated Property Concentration: 0.00%\n",
            "\n",
            "Neighborhood: Green Lake\n",
            "Highly Rated Property Concentration: 72.22%\n",
            "Lowly Rated Property Concentration: 9.26%\n",
            "\n",
            "Neighborhood: Greenwood\n",
            "Highly Rated Property Concentration: 60.67%\n",
            "Lowly Rated Property Concentration: 15.73%\n",
            "\n",
            "Neighborhood: Haller Lake\n",
            "Highly Rated Property Concentration: 46.67%\n",
            "Lowly Rated Property Concentration: 26.67%\n",
            "\n",
            "Neighborhood: Harrison/Denny-Blaine\n",
            "Highly Rated Property Concentration: 85.71%\n",
            "Lowly Rated Property Concentration: 0.00%\n",
            "\n",
            "Neighborhood: High Point\n",
            "Highly Rated Property Concentration: 71.43%\n",
            "Lowly Rated Property Concentration: 7.14%\n",
            "\n",
            "Neighborhood: Highland Park\n",
            "Highly Rated Property Concentration: 81.82%\n",
            "Lowly Rated Property Concentration: 0.00%\n",
            "\n",
            "Neighborhood: Holly Park\n",
            "Highly Rated Property Concentration: 33.33%\n",
            "Lowly Rated Property Concentration: 33.33%\n",
            "\n",
            "Neighborhood: Industrial District\n",
            "Highly Rated Property Concentration: 50.00%\n",
            "Lowly Rated Property Concentration: 16.67%\n",
            "\n",
            "Neighborhood: Interbay\n",
            "Highly Rated Property Concentration: 63.64%\n",
            "Lowly Rated Property Concentration: 18.18%\n",
            "\n",
            "Neighborhood: International District\n",
            "Highly Rated Property Concentration: 76.47%\n",
            "Lowly Rated Property Concentration: 0.00%\n",
            "\n",
            "Neighborhood: Laurelhurst\n",
            "Highly Rated Property Concentration: 90.00%\n",
            "Lowly Rated Property Concentration: 0.00%\n",
            "\n",
            "Neighborhood: Lawton Park\n",
            "Highly Rated Property Concentration: 53.33%\n",
            "Lowly Rated Property Concentration: 16.67%\n",
            "\n",
            "Neighborhood: Leschi\n",
            "Highly Rated Property Concentration: 83.02%\n",
            "Lowly Rated Property Concentration: 3.77%\n",
            "\n",
            "Neighborhood: Lower Queen Anne\n",
            "Highly Rated Property Concentration: 71.28%\n",
            "Lowly Rated Property Concentration: 6.38%\n",
            "\n",
            "Neighborhood: Loyal Heights\n",
            "Highly Rated Property Concentration: 73.08%\n",
            "Lowly Rated Property Concentration: 9.62%\n",
            "\n",
            "Neighborhood: Madison Park\n",
            "Highly Rated Property Concentration: 61.11%\n",
            "Lowly Rated Property Concentration: 16.67%\n",
            "\n",
            "Neighborhood: Madrona\n",
            "Highly Rated Property Concentration: 80.85%\n",
            "Lowly Rated Property Concentration: 4.26%\n",
            "\n",
            "Neighborhood: Mann\n",
            "Highly Rated Property Concentration: 70.15%\n",
            "Lowly Rated Property Concentration: 11.94%\n",
            "\n",
            "Neighborhood: Maple Leaf\n",
            "Highly Rated Property Concentration: 76.19%\n",
            "Lowly Rated Property Concentration: 9.52%\n",
            "\n",
            "Neighborhood: Matthews Beach\n",
            "Highly Rated Property Concentration: 63.16%\n",
            "Lowly Rated Property Concentration: 15.79%\n",
            "\n",
            "Neighborhood: Meadowbrook\n",
            "Highly Rated Property Concentration: 77.78%\n",
            "Lowly Rated Property Concentration: 0.00%\n",
            "\n",
            "Neighborhood: Mid-Beacon Hill\n",
            "Highly Rated Property Concentration: 80.00%\n",
            "Lowly Rated Property Concentration: 13.33%\n",
            "\n",
            "Neighborhood: Minor\n",
            "Highly Rated Property Concentration: 85.19%\n",
            "Lowly Rated Property Concentration: 6.67%\n",
            "\n",
            "Neighborhood: Montlake\n",
            "Highly Rated Property Concentration: 68.42%\n",
            "Lowly Rated Property Concentration: 15.79%\n",
            "\n",
            "Neighborhood: Mount Baker\n",
            "Highly Rated Property Concentration: 70.00%\n",
            "Lowly Rated Property Concentration: 14.00%\n",
            "\n",
            "Neighborhood: North Admiral\n",
            "Highly Rated Property Concentration: 71.43%\n",
            "Lowly Rated Property Concentration: 8.16%\n",
            "\n",
            "Neighborhood: North Beach/Blue Ridge\n",
            "Highly Rated Property Concentration: 78.57%\n",
            "Lowly Rated Property Concentration: 0.00%\n",
            "\n",
            "Neighborhood: North Beacon Hill\n",
            "Highly Rated Property Concentration: 74.36%\n",
            "Lowly Rated Property Concentration: 14.10%\n",
            "\n",
            "Neighborhood: North College Park\n",
            "Highly Rated Property Concentration: 68.42%\n",
            "Lowly Rated Property Concentration: 5.26%\n",
            "\n",
            "Neighborhood: North Delridge\n",
            "Highly Rated Property Concentration: 75.00%\n",
            "Lowly Rated Property Concentration: 3.12%\n",
            "\n",
            "Neighborhood: North Queen Anne\n",
            "Highly Rated Property Concentration: 74.07%\n",
            "Lowly Rated Property Concentration: 12.96%\n",
            "\n",
            "Neighborhood: Olympic Hills\n",
            "Highly Rated Property Concentration: 62.50%\n",
            "Lowly Rated Property Concentration: 25.00%\n",
            "\n",
            "Neighborhood: Phinney Ridge\n",
            "Highly Rated Property Concentration: 71.23%\n",
            "Lowly Rated Property Concentration: 8.22%\n",
            "\n",
            "Neighborhood: Pike-Market\n",
            "Highly Rated Property Concentration: 64.29%\n",
            "Lowly Rated Property Concentration: 17.86%\n",
            "\n",
            "Neighborhood: Pinehurst\n",
            "Highly Rated Property Concentration: 50.00%\n",
            "Lowly Rated Property Concentration: 50.00%\n",
            "\n",
            "Neighborhood: Pioneer Square\n",
            "Highly Rated Property Concentration: 69.57%\n",
            "Lowly Rated Property Concentration: 26.09%\n",
            "\n",
            "Neighborhood: Portage Bay\n",
            "Highly Rated Property Concentration: 85.71%\n",
            "Lowly Rated Property Concentration: 14.29%\n",
            "\n",
            "Neighborhood: Rainier Beach\n",
            "Highly Rated Property Concentration: 83.33%\n",
            "Lowly Rated Property Concentration: 0.00%\n",
            "\n",
            "Neighborhood: Ravenna\n",
            "Highly Rated Property Concentration: 59.70%\n",
            "Lowly Rated Property Concentration: 20.90%\n",
            "\n",
            "Neighborhood: Riverview\n",
            "Highly Rated Property Concentration: 100.00%\n",
            "Lowly Rated Property Concentration: 0.00%\n",
            "\n",
            "Neighborhood: Roosevelt\n",
            "Highly Rated Property Concentration: 60.00%\n",
            "Lowly Rated Property Concentration: 13.33%\n",
            "\n",
            "Neighborhood: Roxhill\n",
            "Highly Rated Property Concentration: 100.00%\n",
            "Lowly Rated Property Concentration: 0.00%\n",
            "\n",
            "Neighborhood: Seaview\n",
            "Highly Rated Property Concentration: 83.33%\n",
            "Lowly Rated Property Concentration: 8.33%\n",
            "\n",
            "Neighborhood: Seward Park\n",
            "Highly Rated Property Concentration: 79.55%\n",
            "Lowly Rated Property Concentration: 9.09%\n",
            "\n",
            "Neighborhood: South Beacon Hill\n",
            "Highly Rated Property Concentration: 25.00%\n",
            "Lowly Rated Property Concentration: 25.00%\n",
            "\n",
            "Neighborhood: South Delridge\n",
            "Highly Rated Property Concentration: 75.00%\n",
            "Lowly Rated Property Concentration: 8.33%\n",
            "\n",
            "Neighborhood: South Lake Union\n",
            "Highly Rated Property Concentration: 51.85%\n",
            "Lowly Rated Property Concentration: 18.52%\n",
            "\n",
            "Neighborhood: South Park\n",
            "Highly Rated Property Concentration: 0.00%\n",
            "Lowly Rated Property Concentration: 33.33%\n",
            "\n",
            "Neighborhood: Southeast Magnolia\n",
            "Highly Rated Property Concentration: 82.35%\n",
            "Lowly Rated Property Concentration: 0.00%\n",
            "\n",
            "Neighborhood: Stevens\n",
            "Highly Rated Property Concentration: 71.43%\n",
            "Lowly Rated Property Concentration: 8.40%\n",
            "\n",
            "Neighborhood: Sunset Hill\n",
            "Highly Rated Property Concentration: 83.33%\n",
            "Lowly Rated Property Concentration: 0.00%\n",
            "\n",
            "Neighborhood: University District\n",
            "Highly Rated Property Concentration: 44.26%\n",
            "Lowly Rated Property Concentration: 34.43%\n",
            "\n",
            "Neighborhood: Victory Heights\n",
            "Highly Rated Property Concentration: 86.67%\n",
            "Lowly Rated Property Concentration: 6.67%\n",
            "\n",
            "Neighborhood: View Ridge\n",
            "Highly Rated Property Concentration: 57.14%\n",
            "Lowly Rated Property Concentration: 28.57%\n",
            "\n",
            "Neighborhood: Wallingford\n",
            "Highly Rated Property Concentration: 74.25%\n",
            "Lowly Rated Property Concentration: 12.57%\n",
            "\n",
            "Neighborhood: Wedgwood\n",
            "Highly Rated Property Concentration: 61.11%\n",
            "Lowly Rated Property Concentration: 11.11%\n",
            "\n",
            "Neighborhood: West Queen Anne\n",
            "Highly Rated Property Concentration: 75.38%\n",
            "Lowly Rated Property Concentration: 9.23%\n",
            "\n",
            "Neighborhood: West Woodland\n",
            "Highly Rated Property Concentration: 75.00%\n",
            "Lowly Rated Property Concentration: 9.38%\n",
            "\n",
            "Neighborhood: Westlake\n",
            "Highly Rated Property Concentration: 52.94%\n",
            "Lowly Rated Property Concentration: 5.88%\n",
            "\n",
            "Neighborhood: Whittier Heights\n",
            "Highly Rated Property Concentration: 92.31%\n",
            "Lowly Rated Property Concentration: 0.00%\n",
            "\n",
            "Neighborhood: Windermere\n",
            "Highly Rated Property Concentration: 80.00%\n",
            "Lowly Rated Property Concentration: 0.00%\n",
            "\n",
            "Neighborhood: Yesler Terrace\n",
            "Highly Rated Property Concentration: 82.35%\n",
            "Lowly Rated Property Concentration: 11.76%\n",
            "\n"
          ]
        }
      ]
    },
    {
      "cell_type": "code",
      "source": [],
      "metadata": {
        "id": "UaqbzX62ybbQ"
      },
      "execution_count": null,
      "outputs": []
    },
    {
      "cell_type": "markdown",
      "source": [
        "Instant Bookability: Are highly rated properties more likely to be instantly bookable compared to lowly rated properties?"
      ],
      "metadata": {
        "id": "8M1zWnezzemk"
      }
    },
    {
      "cell_type": "code",
      "source": [
        "query = \"\"\"\n",
        "    SELECT\n",
        "        CASE WHEN review_scores_rating >= 90 THEN 'Highly Rated' ELSE 'Lowly Rated' END AS rating_category,\n",
        "        AVG(CASE WHEN instant_bookable = 't' THEN 1 ELSE 0 END) AS instant_bookability_rate\n",
        "    FROM\n",
        "        listing\n",
        "    GROUP BY\n",
        "        rating_category\n",
        "\"\"\"\n",
        "\n",
        "cursor.execute(query)\n",
        "results = cursor.fetchall()"
      ],
      "metadata": {
        "id": "K9rGTg_Kybg3"
      },
      "execution_count": null,
      "outputs": []
    },
    {
      "cell_type": "code",
      "source": [
        "print(\"Instant Bookability: Highly Rated Properties vs. Lowly Rated Properties\")\n",
        "for row in results:\n",
        "    rating_category = row[0]\n",
        "    instant_bookability_rate = row[1]\n",
        "    print(f\"Rating Category: {rating_category}\")\n",
        "    print(f\"Instant Bookability Rate: {instant_bookability_rate:.2%}\")\n",
        "    print()"
      ],
      "metadata": {
        "colab": {
          "base_uri": "https://localhost:8080/"
        },
        "id": "_4KaJeh1ybjJ",
        "outputId": "4c25b9aa-9d41-441c-f2c7-9a3ffe1f7c0c"
      },
      "execution_count": null,
      "outputs": [
        {
          "output_type": "stream",
          "name": "stdout",
          "text": [
            "Instant Bookability: Highly Rated Properties vs. Lowly Rated Properties\n",
            "Rating Category: Highly Rated\n",
            "Instant Bookability Rate: 0.00%\n",
            "\n",
            "Rating Category: Lowly Rated\n",
            "Instant Bookability Rate: 0.00%\n",
            "\n"
          ]
        }
      ]
    },
    {
      "cell_type": "markdown",
      "source": [
        "We can't understand much from this output"
      ],
      "metadata": {
        "id": "6T0Z_x7Gzx13"
      }
    },
    {
      "cell_type": "code",
      "source": [],
      "metadata": {
        "id": "CGEPvgPbyblF"
      },
      "execution_count": null,
      "outputs": []
    },
    {
      "cell_type": "markdown",
      "source": [
        "Cancellation Policy: Do highly rated properties have different cancellation policies compared to lowly rated properties?"
      ],
      "metadata": {
        "id": "b0tlhf3dz1mP"
      }
    },
    {
      "cell_type": "code",
      "source": [
        "query = \"\"\"\n",
        "    SELECT\n",
        "        CASE WHEN review_scores_rating >= 90 THEN 'Highly Rated' ELSE 'Lowly Rated' END AS rating_category,\n",
        "        cancellation_policy,\n",
        "        COUNT(*) AS property_count\n",
        "    FROM\n",
        "        listing\n",
        "    GROUP BY\n",
        "        rating_category,\n",
        "        cancellation_policy\n",
        "\"\"\"\n",
        "\n",
        "cursor.execute(query)\n",
        "results = cursor.fetchall()"
      ],
      "metadata": {
        "id": "-DtqCWyxybnP"
      },
      "execution_count": null,
      "outputs": []
    },
    {
      "cell_type": "code",
      "source": [
        "print(\"Cancellation Policy: Highly Rated Properties vs. Lowly Rated Properties\")\n",
        "for row in results:\n",
        "    rating_category = row[0]\n",
        "    cancellation_policy = row[1]\n",
        "    property_count = row[2]\n",
        "    print(f\"Rating Category: {rating_category}\")\n",
        "    print(f\"Cancellation Policy: {cancellation_policy}\")\n",
        "    print(f\"Property Count: {property_count}\")\n",
        "    print()"
      ],
      "metadata": {
        "colab": {
          "base_uri": "https://localhost:8080/"
        },
        "id": "swXxbcZ8ybpb",
        "outputId": "00eaa7db-be8d-4323-9beb-8b02601661e7"
      },
      "execution_count": null,
      "outputs": [
        {
          "output_type": "stream",
          "name": "stdout",
          "text": [
            "Cancellation Policy: Highly Rated Properties vs. Lowly Rated Properties\n",
            "Rating Category: Highly Rated\n",
            "Cancellation Policy: flexible\n",
            "Property Count: 668\n",
            "\n",
            "Rating Category: Highly Rated\n",
            "Cancellation Policy: moderate\n",
            "Property Count: 1004\n",
            "\n",
            "Rating Category: Highly Rated\n",
            "Cancellation Policy: strict\n",
            "Property Count: 1073\n",
            "\n",
            "Rating Category: Lowly Rated\n",
            "Cancellation Policy: flexible\n",
            "Property Count: 482\n",
            "\n",
            "Rating Category: Lowly Rated\n",
            "Cancellation Policy: moderate\n",
            "Property Count: 247\n",
            "\n",
            "Rating Category: Lowly Rated\n",
            "Cancellation Policy: strict\n",
            "Property Count: 344\n",
            "\n"
          ]
        }
      ]
    },
    {
      "cell_type": "markdown",
      "source": [
        "Based on this analysis, there appears to be a notable difference in the distribution of cancellation policies between highly rated properties and lowly rated properties. Highly rated properties tend to have a higher proportion of properties with strict cancellation policies, while lowly rated properties have a higher proportion of properties with flexible and moderate cancellation policies. This suggests that cancellation policies may play a role in the overall rating of the property by guests."
      ],
      "metadata": {
        "id": "lfpDmxqy0QgD"
      }
    },
    {
      "cell_type": "code",
      "source": [],
      "metadata": {
        "id": "CquDVZ0Hybrj"
      },
      "execution_count": null,
      "outputs": []
    },
    {
      "cell_type": "markdown",
      "source": [
        "Is there any correlation between room price and the review score?\n"
      ],
      "metadata": {
        "id": "AhQjJ31e7rdk"
      }
    },
    {
      "cell_type": "code",
      "source": [
        "query = \"SELECT price, review_scores_rating \\\n",
        "         FROM listing\"\n",
        "\n",
        "\n",
        "cursor.execute(query)\n",
        "results = cursor.fetchall()"
      ],
      "metadata": {
        "id": "9gSo817x7qFn"
      },
      "execution_count": null,
      "outputs": []
    },
    {
      "cell_type": "code",
      "source": [
        "room_prices = []\n",
        "review_scores = []\n",
        "for row in results:\n",
        "    room_price, review_score = row\n",
        "    room_prices.append(room_price)\n",
        "    review_scores.append(review_score)\n",
        "\n",
        "print(\"Room Prices:\")\n",
        "print(room_prices)\n",
        "print(\"\\nReview Scores:\")\n",
        "print(review_scores)"
      ],
      "metadata": {
        "colab": {
          "base_uri": "https://localhost:8080/"
        },
        "id": "tIg5UcWl7qkq",
        "outputId": "3e1e5fa4-e904-400c-d37f-9637cec11459"
      },
      "execution_count": null,
      "outputs": [
        {
          "output_type": "stream",
          "name": "stdout",
          "text": [
            "Room Prices:\n",
            "[85.0, 150.0, 975.0, 100.0, 450.0, 120.0, 80.0, 60.0, 90.0, 150.0, 95.0, 99.0, 245.0, 165.0, 461.0, 109.0, 66.0, 99.0, 200.0, 700.0, 110.0, 99.0, 450.0, 75.0, 600.0, 450.0, 150.0, 45.0, 300.0, 80.0, 175.0, 325.0, 175.0, 222.0, 159.0, 125.0, 348.0, 45.0, 150.0, 80.0, 110.0, 148.0, 350.0, 150.0, 150.0, 100.0, 349.0, 110.0, 160.0, 130.0, 99.0, 100.0, 137.0, 20.0, 150.0, 145.0, 80.0, 95.0, 400.0, 85.0, 70.0, 90.0, 80.0, 60.0, 175.0, 170.0, 85.0, 465.0, 175.0, 50.0, 60.0, 59.0, 47.0, 145.0, 70.0, 55.0, 95.0, 125.0, 65.0, 25.0, 40.0, 149.0, 125.0, 55.0, 129.0, 100.0, 150.0, 50.0, 99.0, 150.0, 105.0, 218.0, 80.0, 126.0, 115.0, 225.0, 89.0, 225.0, 50.0, 134.0, 75.0, 65.0, 375.0, 97.0, 145.0, 129.0, 197.0, 120.0, 200.0, 135.0, 70.0, 150.0, 200.0, 60.0, 180.0, 69.0, 90.0, 80.0, 65.0, 150.0, 195.0, 149.0, 224.0, 115.0, 55.0, 338.0, 79.0, 80.0, 85.0, 80.0, 49.0, 100.0, 79.0, 75.0, 57.0, 99.0, 55.0, 96.0, 99.0, 79.0, 115.0, 350.0, 295.0, 70.0, 53.0, 110.0, 225.0, 35.0, 55.0, 45.0, 79.0, 133.0, 65.0, 61.0, 200.0, 70.0, 52.0, 50.0, 275.0, 149.0, 199.0, 89.0, 225.0, 120.0, 85.0, 80.0, 89.0, 99.0, 110.0, 180.0, 150.0, 70.0, 70.0, 75.0, 85.0, 80.0, 90.0, 80.0, 75.0, 80.0, 70.0, 350.0, 95.0, 90.0, 435.0, 250.0, 65.0, 95.0, 110.0, 50.0, 95.0, 100.0, 89.0, 116.0, 150.0, 275.0, 180.0, 97.0, 200.0, 120.0, 109.0, 115.0, 199.0, 150.0, 100.0, 250.0, 39.0, 69.0, 145.0, 98.0, 130.0, 85.0, 85.0, 73.0, 150.0, 85.0, 190.0, 68.0, 149.0, 349.0, 105.0, 145.0, 150.0, 275.0, 165.0, 196.0, 195.0, 200.0, 90.0, 100.0, 125.0, 250.0, 130.0, 209.0, 110.0, 90.0, 90.0, 130.0, 175.0, 749.0, 115.0, 165.0, 109.0, 80.0, 285.0, 80.0, 75.0, 68.0, 85.0, 125.0, 110.0, 600.0, 235.0, 75.0, 95.0, 103.0, 120.0, 95.0, 143.0, 99.0, 142.0, 150.0, 295.0, 335.0, 60.0, 250.0, 499.0, 350.0, 156.0, 200.0, 180.0, 103.0, 99.0, 94.0, 160.0, 129.0, 219.0, 91.0, 75.0, 99.0, 300.0, 150.0, 149.0, 75.0, 95.0, 100.0, 250.0, 105.0, 74.0, 140.0, 130.0, 110.0, 199.0, 209.0, 100.0, 110.0, 104.0, 200.0, 99.0, 90.0, 135.0, 122.0, 80.0, 158.0, 90.0, 100.0, 89.0, 125.0, 42.0, 65.0, 100.0, 40.0, 185.0, 40.0, 70.0, 40.0, 70.0, 110.0, 99.0, 680.0, 195.0, 55.0, 90.0, 119.0, 175.0, 65.0, 75.0, 126.0, 70.0, 90.0, 129.0, 225.0, 40.0, 50.0, 40.0, 40.0, 95.0, 175.0, 160.0, 40.0, 40.0, 120.0, 66.0, 55.0, 350.0, 85.0, 175.0, 105.0, 55.0, 150.0, 40.0, 59.0, 80.0, 200.0, 60.0, 59.0, 575.0, 40.0, 139.0, 70.0, 85.0, 259.0, 39.0, 70.0, 166.0, 99.0, 110.0, 100.0, 250.0, 150.0, 200.0, 95.0, 40.0, 215.0, 110.0, 249.0, 295.0, 90.0, 40.0, 85.0, 40.0, 40.0, 245.0, 130.0, 210.0, 439.0, 90.0, 95.0, 109.0, 40.0, 175.0, 80.0, 105.0, 400.0, 100.0, 40.0, 160.0, 55.0, 55.0, 150.0, 55.0, 95.0, 155.0, 55.0, 40.0, 250.0, 145.0, 54.0, 99.0, 254.0, 100.0, 65.0, 150.0, 140.0, 45.0, 74.0, 60.0, 350.0, 135.0, 85.0, 310.0, 40.0, 215.0, 245.0, 65.0, 85.0, 95.0, 57.0, 75.0, 120.0, 120.0, 40.0, 490.0, 50.0, 200.0, 40.0, 255.0, 95.0, 160.0, 55.0, 85.0, 325.0, 144.0, 100.0, 115.0, 55.0, 95.0, 175.0, 95.0, 100.0, 46.0, 50.0, 445.0, 75.0, 100.0, 130.0, 235.0, 100.0, 120.0, 80.0, 110.0, 395.0, 88.0, 55.0, 145.0, 425.0, 114.0, 110.0, 300.0, 117.0, 275.0, 85.0, 300.0, 53.0, 107.0, 348.0, 89.0, 89.0, 89.0, 209.0, 76.0, 74.0, 250.0, 180.0, 179.0, 115.0, 140.0, 150.0, 70.0, 300.0, 99.0, 89.0, 100.0, 84.0, 97.0, 116.0, 150.0, 110.0, 265.0, 115.0, 100.0, 109.0, 60.0, 249.0, 250.0, 100.0, 74.0, 235.0, 99.0, 96.0, 92.0, 85.0, 55.0, 55.0, 80.0, 195.0, 145.0, 180.0, 50.0, 160.0, 140.0, 140.0, 40.0, 145.0, 225.0, 325.0, 199.0, 450.0, 175.0, 550.0, 149.0, 130.0, 85.0, 300.0, 79.0, 59.0, 140.0, 60.0, 215.0, 100.0, 40.0, 99.0, 45.0, 75.0, 119.0, 99.0, 225.0, 85.0, 135.0, 335.0, 79.0, 90.0, 111.0, 110.0, 325.0, 85.0, 190.0, 65.0, 250.0, 69.0, 400.0, 150.0, 200.0, 141.0, 85.0, 775.0, 195.0, 249.0, 95.0, 122.0, 170.0, 65.0, 90.0, 88.0, 125.0, 145.0, 275.0, 60.0, 95.0, 140.0, 250.0, 225.0, 60.0, 95.0, 65.0, 78.0, 59.0, 400.0, 55.0, 129.0, 65.0, 175.0, 160.0, 75.0, 80.0, 109.0, 95.0, 85.0, 99.0, 90.0, 73.0, 400.0, 170.0, 48.0, 90.0, 82.0, 250.0, 199.0, 105.0, 250.0, 75.0, 250.0, 175.0, 95.0, 150.0, 65.0, 120.0, 300.0, 89.0, 109.0, 75.0, 99.0, 150.0, 175.0, 120.0, 45.0, 150.0, 95.0, 50.0, 129.0, 295.0, 99.0, 175.0, 150.0, 109.0, 85.0, 80.0, 115.0, 85.0, 200.0, 169.0, 130.0, 79.0, 125.0, 80.0, 66.0, 97.0, 58.0, 125.0, 50.0, 350.0, 375.0, 240.0, 189.0, 250.0, 90.0, 125.0, 155.0, 195.0, 69.0, 200.0, 75.0, 225.0, 135.0, 85.0, 110.0, 110.0, 250.0, 85.0, 50.0, 78.0, 95.0, 95.0, 295.0, 175.0, 90.0, 68.0, 74.0, 80.0, 500.0, 115.0, 500.0, 115.0, 125.0, 350.0, 140.0, 80.0, 145.0, 150.0, 65.0, 50.0, 65.0, 45.0, 35.0, 41.0, 59.0, 49.0, 47.0, 65.0, 41.0, 35.0, 43.0, 44.0, 99.0, 45.0, 98.0, 109.0, 75.0, 88.0, 98.0, 75.0, 40.0, 85.0, 100.0, 275.0, 105.0, 78.0, 150.0, 95.0, 155.0, 109.0, 80.0, 80.0, 125.0, 55.0, 98.0, 82.0, 70.0, 55.0, 110.0, 350.0, 295.0, 105.0, 85.0, 75.0, 95.0, 75.0, 45.0, 30.0, 42.0, 250.0, 43.0, 125.0, 112.0, 85.0, 63.0, 41.0, 79.0, 70.0, 85.0, 110.0, 53.0, 75.0, 125.0, 90.0, 85.0, 85.0, 88.0, 92.0, 28.0, 70.0, 78.0, 30.0, 93.0, 65.0, 120.0, 40.0, 43.0, 70.0, 90.0, 90.0, 85.0, 115.0, 89.0, 185.0, 85.0, 135.0, 95.0, 306.0, 29.0, 47.0, 50.0, 105.0, 83.0, 73.0, 92.0, 69.0, 59.0, 145.0, 95.0, 150.0, 85.0, 98.0, 110.0, 42.0, 95.0, 42.0, 250.0, 42.0, 40.0, 80.0, 40.0, 275.0, 47.0, 118.0, 105.0, 150.0, 250.0, 88.0, 139.0, 128.0, 110.0, 210.0, 155.0, 168.0, 62.0, 80.0, 105.0, 50.0, 70.0, 165.0, 79.0, 95.0, 90.0, 380.0, 225.0, 60.0, 100.0, 157.0, 110.0, 150.0, 203.0, 145.0, 85.0, 79.0, 40.0, 49.0, 56.0, 330.0, 150.0, 350.0, 145.0, 67.0, 69.0, 52.0, 75.0, 90.0, 130.0, 65.0, 155.0, 79.0, 60.0, 115.0, 60.0, 70.0, 80.0, 70.0, 55.0, 72.0, 67.0, 58.0, 70.0, 81.0, 58.0, 58.0, 100.0, 110.0, 75.0, 124.0, 150.0, 65.0, 225.0, 70.0, 105.0, 158.0, 69.0, 80.0, 99.0, 165.0, 70.0, 118.0, 100.0, 90.0, 81.0, 70.0, 69.0, 90.0, 75.0, 70.0, 179.0, 105.0, 110.0, 150.0, 75.0, 75.0, 111.0, 108.0, 82.0, 115.0, 220.0, 114.0, 59.0, 54.0, 75.0, 90.0, 95.0, 160.0, 175.0, 37.0, 199.0, 200.0, 175.0, 120.0, 160.0, 125.0, 150.0, 175.0, 100.0, 90.0, 95.0, 92.0, 90.0, 79.0, 72.0, 115.0, 270.0, 65.0, 300.0, 122.0, 87.0, 200.0, 156.0, 90.0, 325.0, 115.0, 425.0, 119.0, 220.0, 85.0, 100.0, 99.0, 120.0, 150.0, 75.0, 90.0, 125.0, 90.0, 200.0, 200.0, 287.0, 90.0, 90.0, 150.0, 119.0, 150.0, 170.0, 150.0, 279.0, 55.0, 125.0, 129.0, 90.0, 199.0, 65.0, 200.0, 92.0, 257.0, 79.0, 200.0, 80.0, 85.0, 65.0, 105.0, 59.0, 59.0, 75.0, 56.0, 100.0, 85.0, 135.0, 200.0, 163.0, 83.0, 210.0, 59.0, 135.0, 75.0, 109.0, 55.0, 500.0, 55.0, 400.0, 105.0, 39.0, 50.0, 129.0, 44.0, 350.0, 300.0, 53.0, 60.0, 285.0, 210.0, 159.0, 225.0, 66.0, 80.0, 79.0, 120.0, 49.0, 122.0, 90.0, 196.0, 115.0, 150.0, 125.0, 175.0, 60.0, 70.0, 175.0, 100.0, 69.0, 69.0, 35.0, 140.0, 68.0, 55.0, 100.0, 70.0, 90.0, 275.0, 60.0, 125.0, 100.0, 115.0, 90.0, 90.0, 250.0, 119.0, 95.0, 218.0, 120.0, 64.0, 80.0, 170.0, 168.0, 60.0, 85.0, 70.0, 115.0, 90.0, 125.0, 80.0, 90.0, 149.0, 250.0, 69.0, 65.0, 40.0, 60.0, 149.0, 115.0, 79.0, 129.0, 100.0, 76.0, 95.0, 100.0, 137.0, 38.0, 557.0, 160.0, 179.0, 41.0, 97.0, 99.0, 149.0, 199.0, 157.0, 170.0, 85.0, 299.0, 95.0, 99.0, 165.0, 114.0, 311.0, 160.0, 100.0, 150.0, 357.0, 135.0, 110.0, 75.0, 138.0, 129.0, 120.0, 95.0, 140.0, 95.0, 91.0, 135.0, 95.0, 140.0, 125.0, 150.0, 129.0, 50.0, 85.0, 82.0, 103.0, 59.0, 150.0, 115.0, 100.0, 300.0, 68.0, 52.0, 91.0, 59.0, 129.0, 125.0, 195.0, 58.0, 600.0, 89.0, 100.0, 125.0, 82.0, 225.0, 55.0, 90.0, 134.0, 42.0, 125.0, 115.0, 125.0, 55.0, 550.0, 90.0, 100.0, 95.0, 110.0, 80.0, 100.0, 90.0, 100.0, 88.0, 59.0, 183.0, 135.0, 220.0, 183.0, 115.0, 100.0, 183.0, 115.0, 75.0, 110.0, 183.0, 220.0, 119.0, 75.0, 200.0, 229.0, 333.0, 41.0, 70.0, 55.0, 70.0, 97.0, 350.0, 200.0, 225.0, 115.0, 40.0, 150.0, 46.0, 64.0, 125.0, 250.0, 147.0, 30.0, 150.0, 78.0, 120.0, 280.0, 75.0, 178.0, 480.0, 129.0, 50.0, 50.0, 175.0, 88.0, 100.0, 225.0, 200.0, 250.0, 95.0, 172.0, 99.0, 99.0, 175.0, 350.0, 69.0, 375.0, 144.0, 999.0, 138.0, 145.0, 125.0, 45.0, 35.0, 225.0, 50.0, 120.0, 100.0, 120.0, 249.0, 95.0, 150.0, 130.0, 130.0, 105.0, 105.0, 175.0, 100.0, 129.0, 90.0, 350.0, 199.0, 75.0, 110.0, 80.0, 150.0, 95.0, 139.0, 139.0, 275.0, 135.0, 128.0, 107.0, 150.0, 100.0, 100.0, 120.0, 125.0, 120.0, 150.0, 129.0, 140.0, 150.0, 149.0, 229.0, 180.0, 93.0, 110.0, 126.0, 139.0, 157.0, 90.0, 90.0, 125.0, 95.0, 197.0, 155.0, 195.0, 150.0, 175.0, 156.0, 320.0, 200.0, 200.0, 165.0, 148.0, 127.0, 405.0, 219.0, 899.0, 150.0, 239.0, 150.0, 140.0, 117.0, 99.0, 170.0, 100.0, 300.0, 250.0, 197.0, 175.0, 130.0, 131.0, 110.0, 125.0, 200.0, 99.0, 700.0, 200.0, 89.0, 142.0, 125.0, 245.0, 99.0, 117.0, 215.0, 215.0, 275.0, 175.0, 195.0, 113.0, 700.0, 139.0, 135.0, 105.0, 100.0, 106.0, 475.0, 143.0, 205.0, 80.0, 120.0, 139.0, 135.0, 155.0, 90.0, 139.0, 181.0, 99.0, 175.0, 127.0, 150.0, 143.0, 399.0, 193.0, 160.0, 110.0, 135.0, 165.0, 139.0, 189.0, 140.0, 129.0, 150.0, 245.0, 175.0, 127.0, 444.0, 105.0, 127.0, 122.0, 175.0, 99.0, 187.0, 150.0, 100.0, 186.0, 171.0, 181.0, 149.0, 270.0, 195.0, 149.0, 150.0, 230.0, 183.0, 165.0, 335.0, 75.0, 107.0, 167.0, 225.0, 120.0, 110.0, 425.0, 139.0, 149.0, 149.0, 130.0, 115.0, 159.0, 120.0, 100.0, 99.0, 169.0, 110.0, 170.0, 115.0, 112.0, 120.0, 239.0, 135.0, 125.0, 150.0, 197.0, 79.0, 106.0, 139.0, 150.0, 149.0, 115.0, 175.0, 175.0, 124.0, 65.0, 229.0, 125.0, 40.0, 183.0, 169.0, 155.0, 75.0, 89.0, 35.0, 115.0, 115.0, 165.0, 115.0, 250.0, 166.0, 105.0, 145.0, 250.0, 139.0, 82.0, 147.0, 150.0, 187.0, 80.0, 130.0, 130.0, 100.0, 95.0, 68.0, 150.0, 165.0, 117.0, 168.0, 75.0, 79.0, 89.0, 80.0, 120.0, 40.0, 40.0, 65.0, 89.0, 79.0, 69.0, 69.0, 74.0, 65.0, 250.0, 250.0, 175.0, 99.0, 130.0, 120.0, 190.0, 280.0, 99.0, 99.0, 159.0, 150.0, 139.0, 180.0, 151.0, 99.0, 219.0, 100.0, 175.0, 170.0, 115.0, 100.0, 110.0, 59.0, 110.0, 199.0, 170.0, 135.0, 300.0, 219.0, 300.0, 235.0, 59.0, 156.0, 147.0, 135.0, 128.0, 104.0, 114.0, 200.0, 132.0, 150.0, 250.0, 40.0, 126.0, 365.0, 99.0, 350.0, 143.0, 110.0, 100.0, 149.0, 175.0, 150.0, 143.0, 121.0, 150.0, 149.0, 168.0, 245.0, 129.0, 245.0, 89.0, 175.0, 144.0, 188.0, 179.0, 129.0, 170.0, 150.0, 276.0, 135.0, 150.0, 140.0, 121.0, 175.0, 147.0, 149.0, 150.0, 300.0, 115.0, 290.0, 129.0, 175.0, 220.0, 90.0, 120.0, 325.0, 230.0, 127.0, 168.0, 117.0, 85.0, 122.0, 142.0, 237.0, 350.0, 99.0, 110.0, 300.0, 225.0, 99.0, 65.0, 275.0, 183.0, 110.0, 156.0, 169.0, 150.0, 125.0, 175.0, 155.0, 151.0, 175.0, 196.0, 110.0, 140.0, 175.0, 250.0, 90.0, 105.0, 95.0, 139.0, 115.0, 185.0, 175.0, 75.0, 85.0, 129.0, 70.0, 79.0, 109.0, 100.0, 155.0, 87.0, 165.0, 100.0, 78.0, 150.0, 99.0, 80.0, 185.0, 169.0, 129.0, 80.0, 77.0, 99.0, 119.0, 129.0, 145.0, 250.0, 99.0, 230.0, 109.0, 85.0, 120.0, 150.0, 115.0, 130.0, 129.0, 129.0, 195.0, 500.0, 195.0, 250.0, 100.0, 110.0, 121.0, 139.0, 120.0, 110.0, 69.0, 100.0, 150.0, 215.0, 40.0, 103.0, 175.0, 139.0, 66.0, 85.0, 65.0, 100.0, 174.0, 200.0, 120.0, 90.0, 78.0, 99.0, 174.0, 110.0, 72.0, 190.0, 100.0, 151.0, 175.0, 250.0, 140.0, 120.0, 99.0, 180.0, 109.0, 140.0, 75.0, 129.0, 135.0, 150.0, 139.0, 110.0, 179.0, 120.0, 245.0, 150.0, 105.0, 209.0, 125.0, 145.0, 115.0, 89.0, 65.0, 165.0, 180.0, 140.0, 100.0, 179.0, 65.0, 75.0, 150.0, 169.0, 112.0, 68.0, 89.0, 70.0, 160.0, 128.0, 249.0, 50.0, 175.0, 250.0, 110.0, 144.0, 149.0, 350.0, 95.0, 120.0, 199.0, 145.0, 75.0, 350.0, 65.0, 149.0, 150.0, 150.0, 160.0, 170.0, 300.0, 59.0, 88.0, 75.0, 95.0, 125.0, 245.0, 153.0, 85.0, 65.0, 59.0, 45.0, 150.0, 75.0, 250.0, 125.0, 80.0, 150.0, 75.0, 195.0, 57.0, 159.0, 325.0, 100.0, 54.0, 55.0, 225.0, 200.0, 240.0, 100.0, 100.0, 119.0, 219.0, 249.0, 265.0, 124.0, 100.0, 250.0, 40.0, 100.0, 99.0, 135.0, 90.0, 90.0, 269.0, 325.0, 350.0, 95.0, 120.0, 79.0, 130.0, 129.0, 399.0, 350.0, 42.0, 95.0, 109.0, 225.0, 235.0, 85.0, 150.0, 218.0, 120.0, 225.0, 350.0, 250.0, 100.0, 79.0, 300.0, 59.0, 69.0, 180.0, 450.0, 219.0, 70.0, 140.0, 200.0, 54.0, 60.0, 66.0, 79.0, 195.0, 105.0, 100.0, 100.0, 93.0, 85.0, 135.0, 195.0, 95.0, 129.0, 225.0, 350.0, 120.0, 200.0, 69.0, 199.0, 225.0, 81.0, 495.0, 65.0, 101.0, 90.0, 90.0, 185.0, 99.0, 99.0, 89.0, 45.0, 130.0, 90.0, 200.0, 225.0, 90.0, 90.0, 79.0, 100.0, 225.0, 299.0, 70.0, 28.0, 65.0, 69.0, 41.0, 42.0, 100.0, 100.0, 45.0, 65.0, 170.0, 119.0, 100.0, 114.0, 100.0, 68.0, 275.0, 35.0, 75.0, 95.0, 65.0, 125.0, 75.0, 72.0, 165.0, 125.0, 95.0, 125.0, 120.0, 75.0, 299.0, 200.0, 125.0, 250.0, 75.0, 119.0, 370.0, 117.0, 85.0, 200.0, 129.0, 70.0, 65.0, 110.0, 109.0, 88.0, 75.0, 65.0, 75.0, 136.0, 139.0, 79.0, 95.0, 55.0, 200.0, 49.0, 65.0, 85.0, 39.0, 75.0, 75.0, 125.0, 215.0, 99.0, 165.0, 165.0, 55.0, 150.0, 249.0, 51.0, 129.0, 79.0, 65.0, 49.0, 180.0, 30.0, 250.0, 150.0, 375.0, 56.0, 300.0, 45.0, 110.0, 99.0, 53.0, 75.0, 75.0, 90.0, 69.0, 250.0, 95.0, 50.0, 150.0, 150.0, 150.0, 150.0, 25.0, 265.0, 320.0, 150.0, 65.0, 45.0, 80.0, 50.0, 89.0, 35.0, 55.0, 35.0, 35.0, 58.0, 170.0, 85.0, 38.0, 104.0, 150.0, 55.0, 130.0, 38.0, 122.0, 55.0, 109.0, 199.0, 100.0, 45.0, 80.0, 80.0, 99.0, 58.0, 69.0, 65.0, 38.0, 60.0, 60.0, 175.0, 280.0, 80.0, 85.0, 215.0, 120.0, 105.0, 90.0, 125.0, 105.0, 98.0, 44.0, 34.0, 50.0, 85.0, 62.0, 49.0, 50.0, 50.0, 70.0, 40.0, 40.0, 38.0, 26.0, 25.0, 49.0, 129.0, 175.0, 42.0, 126.0, 299.0, 99.0, 175.0, 125.0, 120.0, 42.0, 56.0, 55.0, 55.0, 235.0, 100.0, 60.0, 67.0, 95.0, 115.0, 50.0, 199.0, 86.0, 175.0, 55.0, 68.0, 60.0, 90.0, 139.0, 51.0, 50.0, 115.0, 80.0, 95.0, 85.0, 75.0, 100.0, 63.0, 100.0, 135.0, 125.0, 69.0, 280.0, 160.0, 75.0, 98.0, 109.0, 125.0, 225.0, 69.0, 75.0, 300.0, 60.0, 43.0, 85.0, 110.0, 52.0, 100.0, 50.0, 35.0, 66.0, 99.0, 89.0, 150.0, 90.0, 45.0, 60.0, 50.0, 215.0, 138.0, 375.0, 270.0, 495.0, 165.0, 129.0, 75.0, 80.0, 177.0, 85.0, 87.0, 78.0, 60.0, 80.0, 180.0, 39.0, 60.0, 42.0, 126.0, 60.0, 99.0, 89.0, 79.0, 169.0, 79.0, 69.0, 60.0, 65.0, 260.0, 100.0, 90.0, 59.0, 70.0, 65.0, 85.0, 74.0, 99.0, 399.0, 300.0, 65.0, 79.0, 75.0, 75.0, 219.0, 165.0, 87.0, 169.0, 75.0, 30.0, 55.0, 45.0, 50.0, 149.0, 99.0, 69.0, 69.0, 80.0, 55.0, 75.0, 50.0, 69.0, 112.0, 150.0, 65.0, 104.0, 60.0, 60.0, 105.0, 144.0, 69.0, 108.0, 159.0, 85.0, 135.0, 89.0, 120.0, 70.0, 150.0, 120.0, 65.0, 60.0, 36.0, 95.0, 88.0, 75.0, 130.0, 63.0, 60.0, 37.0, 85.0, 85.0, 84.0, 275.0, 39.0, 105.0, 105.0, 40.0, 34.0, 35.0, 65.0, 75.0, 199.0, 45.0, 85.0, 150.0, 41.0, 45.0, 99.0, 95.0, 79.0, 70.0, 50.0, 48.0, 65.0, 55.0, 99.0, 150.0, 110.0, 120.0, 49.0, 244.0, 125.0, 175.0, 38.0, 70.0, 150.0, 65.0, 99.0, 295.0, 95.0, 120.0, 45.0, 68.0, 55.0, 40.0, 36.0, 48.0, 90.0, 50.0, 60.0, 100.0, 200.0, 42.0, 35.0, 67.0, 55.0, 65.0, 169.0, 75.0, 88.0, 60.0, 35.0, 57.0, 37.0, 60.0, 39.0, 42.0, 79.0, 118.0, 60.0, 69.0, 69.0, 300.0, 65.0, 50.0, 65.0, 100.0, 65.0, 90.0, 80.0, 99.0, 75.0, 110.0, 125.0, 90.0, 40.0, 50.0, 97.0, 195.0, 100.0, 195.0, 150.0, 95.0, 72.0, 100.0, 55.0, 65.0, 124.0, 70.0, 65.0, 65.0, 72.0, 115.0, 220.0, 45.0, 90.0, 90.0, 25.0, 175.0, 150.0, 85.0, 49.0, 110.0, 59.0, 65.0, 70.0, 65.0, 85.0, 90.0, 70.0, 175.0, 199.0, 109.0, 70.0, 58.0, 35.0, 300.0, 95.0, 50.0, 49.0, 55.0, 49.0, 40.0, 95.0, 70.0, 74.0, 90.0, 150.0, 175.0, 42.0, 59.0, 125.0, 85.0, 80.0, 125.0, 90.0, 125.0, 70.0, 95.0, 99.0, 155.0, 80.0, 140.0, 50.0, 139.0, 126.0, 105.0, 150.0, 80.0, 92.0, 69.0, 75.0, 105.0, 150.0, 150.0, 54.0, 52.0, 150.0, 80.0, 200.0, 68.0, 49.0, 39.0, 95.0, 89.0, 62.0, 81.0, 70.0, 110.0, 200.0, 100.0, 63.0, 70.0, 60.0, 39.0, 36.0, 100.0, 250.0, 38.0, 65.0, 68.0, 110.0, 100.0, 99.0, 34.0, 41.0, 98.0, 188.0, 85.0, 80.0, 150.0, 160.0, 99.0, 75.0, 75.0, 65.0, 95.0, 90.0, 250.0, 115.0, 93.0, 45.0, 168.0, 127.0, 35.0, 65.0, 279.0, 93.0, 65.0, 150.0, 375.0, 85.0, 50.0, 55.0, 35.0, 85.0, 75.0, 70.0, 65.0, 99.0, 75.0, 100.0, 129.0, 80.0, 85.0, 95.0, 69.0, 42.0, 70.0, 55.0, 47.0, 148.0, 95.0, 49.0, 65.0, 50.0, 58.0, 55.0, 129.0, 95.0, 49.0, 85.0, 100.0, 59.0, 55.0, 55.0, 51.0, 200.0, 100.0, 79.0, 90.0, 30.0, 35.0, 45.0, 60.0, 50.0, 95.0, 64.0, 51.0, 75.0, 94.0, 100.0, 90.0, 69.0, 139.0, 55.0, 50.0, 120.0, 59.0, 135.0, 110.0, 137.0, 67.0, 110.0, 65.0, 37.0, 65.0, 130.0, 60.0, 79.0, 72.0, 95.0, 80.0, 109.0, 50.0, 85.0, 115.0, 98.0, 109.0, 28.0, 39.0, 63.0, 35.0, 42.0, 29.0, 70.0, 74.0, 75.0, 85.0, 50.0, 125.0, 93.0, 86.0, 80.0, 280.0, 138.0, 100.0, 45.0, 39.0, 127.0, 110.0, 40.0, 40.0, 90.0, 125.0, 39.0, 80.0, 325.0, 95.0, 115.0, 245.0, 69.0, 129.0, 28.0, 49.0, 110.0, 105.0, 38.0, 130.0, 39.0, 80.0, 110.0, 100.0, 50.0, 75.0, 85.0, 70.0, 95.0, 50.0, 115.0, 45.0, 60.0, 95.0, 39.0, 88.0, 175.0, 80.0, 35.0, 84.0, 49.0, 196.0, 55.0, 120.0, 55.0, 60.0, 129.0, 90.0, 70.0, 65.0, 55.0, 120.0, 525.0, 99.0, 90.0, 750.0, 250.0, 125.0, 380.0, 130.0, 135.0, 257.0, 90.0, 160.0, 66.0, 65.0, 60.0, 295.0, 79.0, 250.0, 58.0, 250.0, 50.0, 89.0, 47.0, 189.0, 175.0, 95.0, 80.0, 95.0, 65.0, 150.0, 94.0, 109.0, 62.0, 150.0, 185.0, 64.0, 100.0, 125.0, 45.0, 180.0, 60.0, 125.0, 415.0, 129.0, 130.0, 55.0, 160.0, 55.0, 115.0, 260.0, 110.0, 750.0, 55.0, 89.0, 200.0, 85.0, 400.0, 100.0, 125.0, 115.0, 50.0, 59.0, 122.0, 175.0, 69.0, 150.0, 80.0, 95.0, 100.0, 175.0, 200.0, 195.0, 145.0, 100.0, 90.0, 150.0, 550.0, 162.0, 75.0, 185.0, 50.0, 130.0, 230.0, 79.0, 85.0, 70.0, 85.0, 75.0, 95.0, 62.0, 119.0, 149.0, 139.0, 150.0, 148.0, 79.0, 69.0, 147.0, 256.0, 129.0, 59.0, 79.0, 150.0, 175.0, 99.0, 100.0, 75.0, 69.0, 103.0, 80.0, 90.0, 150.0, 69.0, 120.0, 65.0, 99.0, 110.0, 395.0, 98.0, 325.0, 90.0, 110.0, 70.0, 210.0, 49.0, 120.0, 210.0, 62.0, 70.0, 90.0, 99.0, 58.0, 81.0, 99.0, 150.0, 64.0, 160.0, 155.0, 135.0, 275.0, 85.0, 85.0, 75.0, 120.0, 135.0, 110.0, 79.0, 79.0, 245.0, 220.0, 109.0, 79.0, 45.0, 58.0, 100.0, 80.0, 100.0, 139.0, 169.0, 114.0, 85.0, 100.0, 125.0, 190.0, 100.0, 40.0, 40.0, 53.0, 250.0, 65.0, 55.0, 53.0, 55.0, 49.0, 75.0, 89.0, 90.0, 250.0, 199.0, 95.0, 89.0, 110.0, 155.0, 119.0, 25.0, 159.0, 125.0, 25.0, 225.0, 140.0, 89.0, 190.0, 99.0, 49.0, 100.0, 58.0, 200.0, 150.0, 59.0, 65.0, 80.0, 69.0, 75.0, 97.0, 174.0, 78.0, 89.0, 100.0, 125.0, 130.0, 132.0, 119.0, 150.0, 115.0, 99.0, 99.0, 120.0, 70.0, 150.0, 145.0, 118.0, 100.0, 100.0, 65.0, 115.0, 149.0, 59.0, 155.0, 100.0, 175.0, 70.0, 84.0, 175.0, 167.0, 99.0, 100.0, 259.0, 139.0, 185.0, 99.0, 90.0, 250.0, 85.0, 100.0, 80.0, 260.0, 125.0, 119.0, 182.0, 69.0, 90.0, 69.0, 130.0, 135.0, 82.0, 212.0, 47.0, 100.0, 100.0, 95.0, 239.0, 75.0, 75.0, 96.0, 90.0, 80.0, 200.0, 119.0, 69.0, 85.0, 69.0, 85.0, 100.0, 150.0, 140.0, 150.0, 100.0, 550.0, 69.0, 119.0, 350.0, 69.0, 48.0, 69.0, 61.0, 52.0, 95.0, 60.0, 225.0, 60.0, 75.0, 100.0, 93.0, 165.0, 139.0, 150.0, 350.0, 125.0, 69.0, 138.0, 138.0, 95.0, 145.0, 39.0, 115.0, 100.0, 175.0, 55.0, 82.0, 360.0, 85.0, 150.0, 68.0, 600.0, 149.0, 62.0, 111.0, 120.0, 96.0, 150.0, 100.0, 100.0, 105.0, 209.0, 250.0, 82.0, 110.0, 125.0, 109.0, 198.0, 160.0, 126.0, 99.0, 49.0, 99.0, 100.0, 82.0, 80.0, 65.0, 80.0, 39.0, 49.0, 125.0, 150.0, 90.0, 69.0, 104.0, 180.0, 150.0, 240.0, 70.0, 99.0, 99.0, 673.0, 98.0, 105.0, 63.0, 120.0, 78.0, 195.0, 200.0, 79.0, 69.0, 195.0, 119.0, 75.0, 99.0, 149.0, 199.0, 69.0, 69.0, 49.0, 239.0, 49.0, 29.0, 68.0, 134.0, 169.0, 120.0, 204.0, 295.0, 152.0, 69.0, 420.0, 81.0, 25.0, 195.0, 169.0, 95.0, 100.0, 85.0, 400.0, 120.0, 175.0, 200.0, 250.0, 69.0, 129.0, 59.0, 69.0, 75.0, 71.0, 49.0, 90.0, 140.0, 95.0, 100.0, 150.0, 89.0, 140.0, 150.0, 69.0, 125.0, 110.0, 152.0, 105.0, 49.0, 68.0, 100.0, 120.0, 120.0, 110.0, 160.0, 105.0, 82.0, 110.0, 126.0, 65.0, 99.0, 85.0, 199.0, 250.0, 159.0, 125.0, 45.0, 110.0, 109.0, 110.0, 119.0, 115.0, 60.0, 100.0, 150.0, 115.0, 139.0, 100.0, 300.0, 98.0, 200.0, 89.0, 60.0, 144.0, 110.0, 90.0, 189.0, 99.0, 175.0, 119.0, 80.0, 105.0, 98.0, 99.0, 49.0, 90.0, 55.0, 85.0, 46.0, 60.0, 46.0, 69.0, 75.0, 95.0, 55.0, 90.0, 49.0, 115.0, 49.0, 220.0, 135.0, 79.0, 99.0, 435.0, 110.0, 130.0, 220.0, 95.0, 105.0, 60.0, 250.0, 130.0, 95.0, 75.0, 75.0, 265.0, 105.0, 100.0, 175.0, 65.0, 99.0, 150.0, 299.0, 45.0, 47.0, 38.0, 150.0, 80.0, 69.0, 89.0, 70.0, 40.0, 106.0, 100.0, 60.0, 70.0, 50.0, 45.0, 119.0, 200.0, 65.0, 50.0, 60.0, 60.0, 129.0, 68.0, 60.0, 51.0, 50.0, 150.0, 125.0, 119.0, 87.0, 130.0, 80.0, 65.0, 250.0, 159.0, 60.0, 91.0, 125.0, 43.0, 68.0, 70.0, 252.0, 71.0, 99.0, 140.0, 105.0, 115.0, 60.0, 125.0, 90.0, 150.0, 200.0, 135.0, 35.0, 400.0, 115.0, 86.0, 150.0, 225.0, 118.0, 58.0, 375.0, 89.0, 80.0, 65.0, 115.0, 69.0, 75.0, 47.0, 50.0, 80.0, 60.0, 55.0, 250.0, 89.0, 68.0, 189.0, 130.0, 35.0, 55.0, 65.0, 42.0, 55.0, 80.0, 56.0, 50.0, 93.0, 54.0, 240.0, 62.0, 40.0, 72.0, 95.0, 53.0, 65.0, 80.0, 105.0, 40.0, 93.0, 76.0, 100.0, 105.0, 82.0, 209.0, 109.0, 110.0, 1000.0, 60.0, 80.0, 90.0, 125.0, 110.0, 86.0, 165.0, 149.0, 84.0, 139.0, 33.0, 129.0, 59.0, 90.0, 150.0, 94.0, 39.0, 125.0, 65.0, 110.0, 75.0, 100.0, 99.0, 103.0, 105.0, 110.0, 175.0, 120.0, 275.0, 65.0, 100.0, 95.0, 100.0, 135.0, 200.0, 145.0, 145.0, 96.0, 498.0, 110.0, 119.0, 119.0, 217.0, 99.0, 95.0, 165.0, 85.0, 200.0, 120.0, 240.0, 275.0, 103.0, 165.0, 120.0, 200.0, 120.0, 200.0, 115.0, 125.0, 75.0, 115.0, 95.0, 259.0, 80.0, 130.0, 89.0, 130.0, 150.0, 72.0, 275.0, 80.0, 175.0, 75.0, 95.0, 310.0, 38.0, 189.0, 205.0, 199.0, 150.0, 67.0, 72.0, 175.0, 119.0, 97.0, 200.0, 190.0, 100.0, 99.0, 99.0, 119.0, 225.0, 100.0, 195.0, 85.0, 105.0, 190.0, 149.0, 119.0, 145.0, 220.0, 99.0, 125.0, 75.0, 145.0, 90.0, 76.0, 150.0, 93.0, 89.0, 160.0, 65.0, 65.0, 75.0, 80.0, 100.0, 98.0, 299.0, 250.0, 175.0, 65.0, 75.0, 100.0, 60.0, 48.0, 48.0, 60.0, 125.0, 200.0, 210.0, 85.0, 75.0, 75.0, 80.0, 180.0, 240.0, 49.0, 275.0, 95.0, 108.0, 150.0, 75.0, 99.0, 110.0, 92.0, 171.0, 55.0, 70.0, 80.0, 250.0, 89.0, 90.0, 50.0, 170.0, 45.0, 39.0, 78.0, 99.0, 60.0, 65.0, 90.0, 64.0, 190.0, 39.0, 77.0, 80.0, 75.0, 75.0, 55.0, 70.0, 85.0, 85.0, 350.0, 92.0, 200.0, 50.0, 150.0, 475.0, 375.0, 450.0, 75.0, 350.0, 75.0, 119.0, 97.0, 125.0, 200.0, 108.0, 49.0, 125.0, 70.0, 70.0, 98.0, 100.0, 36.0, 80.0, 199.0, 139.0, 150.0, 55.0, 125.0, 150.0, 73.0, 95.0, 88.0, 70.0, 100.0, 100.0, 129.0, 50.0, 96.0, 85.0, 189.0, 55.0, 99.0, 50.0, 65.0, 79.0, 55.0, 65.0, 95.0, 100.0, 135.0, 87.0, 97.0, 78.0, 150.0, 95.0, 375.0, 150.0, 325.0, 60.0, 50.0, 120.0, 88.0, 150.0, 195.0, 50.0, 250.0, 87.0, 207.0, 70.0, 100.0, 175.0, 165.0, 120.0, 239.0, 200.0, 135.0, 155.0, 95.0, 78.0, 50.0, 90.0, 151.0, 75.0, 160.0, 189.0, 85.0, 112.0, 400.0, 175.0, 100.0, 350.0, 150.0, 55.0, 95.0, 80.0, 50.0, 95.0, 175.0, 50.0, 190.0, 99.0, 145.0, 90.0, 349.0, 150.0, 105.0, 95.0, 85.0, 52.0, 105.0, 100.0, 110.0, 67.0, 75.0, 69.0, 96.0, 60.0, 95.0, 100.0, 55.0, 130.0, 125.0, 300.0, 200.0, 400.0, 165.0, 117.0, 85.0, 115.0, 62.0, 100.0, 100.0, 60.0, 185.0, 99.0, 200.0, 125.0, 60.0, 100.0, 55.0, 550.0, 75.0, 95.0, 150.0, 110.0, 228.0, 110.0, 950.0, 225.0, 125.0, 68.0, 250.0, 150.0, 48.0, 330.0, 125.0, 350.0, 80.0, 70.0, 70.0, 72.0, 99.0, 78.0, 300.0, 250.0, 39.0, 95.0, 97.0, 102.0, 60.0, 49.0, 60.0, 79.0, 76.0, 110.0, 110.0, 59.0, 195.0, 85.0, 200.0, 109.0, 200.0, 135.0, 70.0, 90.0, 50.0, 99.0, 70.0, 65.0, 90.0, 75.0, 100.0, 65.0, 105.0, 125.0, 60.0, 59.0, 65.0, 58.0, 120.0, 150.0, 55.0, 110.0, 75.0, 75.0, 53.0, 129.0, 30.0, 70.0, 80.0, 125.0, 95.0, 285.0, 109.0, 275.0, 190.0, 80.0, 200.0, 70.0, 139.0, 75.0, 150.0, 215.0, 60.0, 250.0, 150.0, 139.0, 104.0, 125.0, 33.0, 27.0, 29.0, 29.0, 29.0, 30.0, 65.0, 125.0, 84.0, 70.0, 90.0, 100.0, 40.0, 75.0, 90.0, 150.0, 155.0, 145.0, 165.0, 125.0, 100.0, 65.0, 146.0, 125.0, 85.0, 140.0, 120.0, 100.0, 45.0, 300.0, 150.0, 99.0, 139.0, 100.0, 180.0, 30.0, 399.0, 300.0, 51.0, 70.0, 104.0, 80.0, 50.0, 150.0, 125.0, 200.0, 200.0, 115.0, 85.0, 120.0, 400.0, 95.0, 545.0, 250.0, 150.0, 22.0, 120.0, 140.0, 125.0, 126.0, 150.0, 129.0, 125.0, 250.0, 220.0, 162.0, 52.0, 165.0, 88.0, 100.0, 450.0, 152.0, 105.0, 295.0, 100.0, 65.0, 158.0, 138.0, 125.0, 125.0, 80.0, 100.0, 31.0, 115.0, 50.0, 29.0, 29.0, 120.0, 135.0, 125.0, 80.0, 125.0, 97.0, 449.0, 300.0, 155.0, 95.0, 135.0, 30.0, 92.0, 80.0, 30.0, 90.0, 65.0, 31.0, 139.0, 135.0, 83.0, 85.0, 195.0, 125.0, 450.0, 350.0, 98.0, 45.0, 125.0, 75.0, 99.0, 49.0, 67.0, 105.0, 195.0, 125.0, 65.0, 125.0, 183.0, 39.0, 68.0, 120.0, 86.0, 39.0, 200.0, 84.0, 150.0, 82.0, 140.0, 99.0, 149.0, 75.0, 125.0, 138.0, 65.0, 250.0, 200.0, 100.0, 180.0, 136.0, 129.0, 61.0, 275.0, 100.0, 59.0, 95.0, 500.0, 200.0, 95.0, 99.0, 55.0, 105.0, 75.0, 70.0, 35.0, 52.0, 57.0, 54.0, 35.0, 50.0, 67.0, 43.0, 97.0, 55.0, 69.0, 99.0, 149.0, 97.0, 45.0, 450.0, 49.0, 68.0, 75.0, 120.0, 195.0, 125.0, 300.0, 200.0, 115.0, 185.0, 149.0, 52.0, 75.0, 70.0, 125.0, 125.0, 99.0, 100.0, 75.0, 60.0, 150.0, 275.0, 232.0, 95.0, 200.0, 50.0, 85.0, 90.0, 120.0, 89.0, 65.0, 125.0, 67.0, 100.0, 150.0, 115.0, 210.0, 195.0, 59.0, 112.0, 110.0, 100.0, 235.0, 99.0, 115.0, 400.0, 62.0, 135.0, 119.0, 200.0, 160.0, 400.0, 225.0, 240.0, 50.0, 165.0, 350.0, 150.0, 150.0, 85.0, 150.0, 79.0, 76.0, 78.0, 50.0, 135.0, 105.0, 99.0, 65.0, 325.0, 99.0, 149.0, 79.0, 40.0, 115.0, 120.0, 150.0, 68.0, 125.0, 55.0, 99.0, 90.0, 110.0, 80.0, 87.0, 260.0, 115.0, 60.0, 175.0, 85.0, 109.0, 109.0, 107.0, 200.0, 85.0, 70.0, 77.0, 65.0, 185.0, 108.0, 200.0, 250.0, 125.0, 100.0, 160.0, 109.0, 175.0, 120.0, 154.0, 65.0, 95.0, 359.0, 79.0, 93.0, 99.0, 87.0]\n",
            "\n",
            "Review Scores:\n",
            "[95.0, 96.0, 97.0, None, 92.0, 95.0, 99.0, 97.0, 97.0, 97.0, 97.0, 97.0, 98.0, 100.0, 98.0, 80.0, 95.0, 98.0, None, 85.0, 100.0, 84.0, 100.0, None, 100.0, 100.0, None, 95.0, 100.0, 85.0, 96.0, 92.0, 88.0, 75.0, 97.0, 95.0, 96.0, 97.0, 100.0, 98.0, 90.0, 91.0, 98.0, 98.0, 100.0, 92.0, None, 100.0, 100.0, 95.0, 100.0, None, 100.0, None, None, 94.0, 100.0, 98.0, None, 100.0, 100.0, 97.0, 92.0, 97.0, None, 91.0, 98.0, 96.0, 96.0, None, None, 93.0, 77.0, 97.0, 94.0, 94.0, 97.0, 92.0, 94.0, None, None, 95.0, 100.0, None, 100.0, None, 93.0, None, None, 98.0, None, None, 95.0, 98.0, 96.0, 98.0, 97.0, 100.0, None, 98.0, 80.0, 97.0, 96.0, 98.0, 97.0, 100.0, 100.0, 99.0, 95.0, 100.0, 95.0, 97.0, 95.0, 98.0, 100.0, 100.0, 100.0, 92.0, None, 94.0, 94.0, None, 96.0, 91.0, 94.0, 97.0, 97.0, 96.0, 95.0, 98.0, 90.0, 90.0, 85.0, 96.0, 96.0, 89.0, 100.0, 92.0, 94.0, 95.0, 99.0, 98.0, 93.0, 98.0, 99.0, 71.0, 95.0, 97.0, 97.0, 90.0, None, 95.0, 96.0, 80.0, None, 90.0, 97.0, 100.0, None, 99.0, None, 97.0, 91.0, 97.0, 98.0, 100.0, 95.0, 92.0, 97.0, 96.0, None, 100.0, None, 89.0, 97.0, 95.0, 100.0, 98.0, 95.0, None, 85.0, 100.0, 99.0, 99.0, 84.0, 100.0, 95.0, 97.0, 97.0, 100.0, None, 97.0, None, 98.0, 100.0, 95.0, 96.0, 96.0, None, 100.0, 96.0, 92.0, 97.0, 100.0, None, 98.0, 100.0, 90.0, 91.0, 97.0, 100.0, 96.0, 90.0, None, 88.0, None, 93.0, 94.0, 96.0, 92.0, 100.0, 100.0, 98.0, 100.0, 97.0, 100.0, 82.0, 89.0, 97.0, None, 92.0, 90.0, 98.0, 100.0, 97.0, 96.0, 97.0, 100.0, 100.0, 100.0, 100.0, 98.0, None, 100.0, 96.0, 100.0, None, 95.0, None, 97.0, 93.0, 100.0, 100.0, 100.0, 80.0, 95.0, 98.0, None, None, 97.0, 99.0, 93.0, 95.0, 100.0, None, 100.0, 99.0, 96.0, 98.0, 91.0, 100.0, 100.0, 94.0, 87.0, 92.0, 96.0, 96.0, 92.0, 95.0, 99.0, 100.0, None, 96.0, None, 95.0, 97.0, 100.0, 100.0, 87.0, 99.0, 97.0, 96.0, 84.0, 96.0, 97.0, 96.0, 96.0, 100.0, 100.0, 97.0, 97.0, 96.0, 93.0, 80.0, 92.0, 100.0, 95.0, 93.0, 100.0, 97.0, 94.0, None, None, 95.0, 100.0, None, None, 94.0, 96.0, 100.0, 100.0, 97.0, None, 92.0, 99.0, 100.0, 93.0, 95.0, 99.0, 100.0, 87.0, 92.0, 93.0, 100.0, 94.0, 80.0, 97.0, 97.0, 93.0, 90.0, None, 96.0, 96.0, 96.0, None, 98.0, 90.0, 80.0, 95.0, 97.0, 93.0, 93.0, 73.0, 80.0, 91.0, 93.0, 100.0, 93.0, 92.0, 95.0, 94.0, None, None, 97.0, 90.0, 97.0, 92.0, 97.0, 88.0, 90.0, 100.0, 80.0, 84.0, 92.0, 97.0, 80.0, 97.0, 93.0, None, 88.0, 80.0, 96.0, 100.0, 90.0, 93.0, 91.0, None, 90.0, 99.0, 88.0, 95.0, 96.0, 100.0, None, 98.0, 94.0, 98.0, 94.0, 93.0, 100.0, None, 93.0, 80.0, 99.0, 95.0, 93.0, 96.0, 91.0, 100.0, 97.0, 97.0, 99.0, 99.0, 100.0, 97.0, 89.0, 80.0, None, 99.0, 100.0, 95.0, 87.0, None, 95.0, 100.0, None, None, 92.0, 100.0, 98.0, 88.0, 100.0, 99.0, 100.0, 96.0, 100.0, None, 97.0, 80.0, 95.0, 100.0, None, 96.0, None, 95.0, 98.0, 98.0, None, 93.0, None, None, 80.0, 100.0, 97.0, 100.0, 80.0, 96.0, 80.0, 80.0, 100.0, 97.0, 100.0, 94.0, 97.0, 97.0, 96.0, 95.0, 98.0, 100.0, 97.0, 99.0, 98.0, None, 96.0, 94.0, 100.0, 94.0, 99.0, 98.0, 100.0, 95.0, 89.0, None, 94.0, 97.0, 95.0, 97.0, 100.0, 92.0, 83.0, 100.0, 100.0, None, 93.0, 98.0, 100.0, 96.0, 97.0, 95.0, 88.0, None, 98.0, 86.0, 93.0, 100.0, 91.0, 100.0, 100.0, 95.0, 92.0, 94.0, 97.0, 96.0, 92.0, 80.0, None, 97.0, 100.0, None, None, 100.0, 97.0, 97.0, 100.0, 94.0, None, None, None, 96.0, 100.0, None, 100.0, None, 100.0, 97.0, 89.0, 95.0, 97.0, None, 98.0, 96.0, 93.0, 93.0, 98.0, 96.0, 80.0, 90.0, 100.0, None, 98.0, 100.0, 96.0, 94.0, 88.0, 93.0, 100.0, 100.0, None, None, None, 76.0, None, None, 94.0, 100.0, 98.0, None, None, 97.0, 100.0, 100.0, 100.0, None, 98.0, 95.0, 93.0, 100.0, 94.0, 94.0, 88.0, 97.0, 95.0, None, None, 94.0, 100.0, 80.0, None, 90.0, 98.0, 96.0, None, 100.0, 88.0, 98.0, None, 94.0, 98.0, 89.0, 100.0, 92.0, None, 96.0, 99.0, 98.0, 95.0, None, 100.0, 96.0, 80.0, 98.0, None, None, 96.0, 98.0, 90.0, 100.0, 100.0, 98.0, 95.0, 100.0, 84.0, 97.0, 100.0, 98.0, 100.0, 100.0, None, 98.0, 88.0, 96.0, 100.0, 95.0, 80.0, 100.0, 95.0, 94.0, None, 98.0, 100.0, 97.0, 98.0, 97.0, 98.0, 97.0, 100.0, 98.0, 100.0, None, None, 93.0, 100.0, 93.0, 100.0, 100.0, None, 99.0, 100.0, 80.0, 96.0, 93.0, 97.0, None, 95.0, 100.0, 100.0, 94.0, 100.0, 98.0, 89.0, 95.0, 94.0, 100.0, None, 100.0, 100.0, 100.0, 100.0, None, 93.0, 100.0, None, 97.0, 99.0, 100.0, 94.0, 94.0, 87.0, 93.0, 100.0, None, 92.0, None, None, 93.0, 95.0, None, 94.0, 94.0, 100.0, 80.0, 87.0, 96.0, None, 83.0, 100.0, 80.0, 100.0, 93.0, 78.0, 100.0, 89.0, 91.0, None, 88.0, 89.0, 66.0, 98.0, 73.0, None, 100.0, None, None, 80.0, 100.0, 80.0, None, None, None, 82.0, 100.0, 100.0, 74.0, 78.0, None, 60.0, 92.0, 89.0, 80.0, None, 98.0, 91.0, 100.0, 99.0, 80.0, 82.0, 95.0, 98.0, 60.0, 94.0, 64.0, 100.0, 87.0, 96.0, 70.0, 96.0, 68.0, 88.0, 100.0, None, 100.0, 98.0, None, 90.0, None, 100.0, 94.0, 96.0, 99.0, 93.0, 87.0, 91.0, 97.0, 82.0, None, 76.0, None, 98.0, 80.0, None, 87.0, 100.0, 80.0, 85.0, 96.0, 97.0, None, 98.0, 91.0, 66.0, 68.0, 100.0, 80.0, 100.0, None, 82.0, 90.0, 90.0, None, 90.0, 85.0, 80.0, None, None, None, 70.0, 60.0, 100.0, 96.0, None, 92.0, 95.0, 100.0, 93.0, 100.0, 96.0, 99.0, 96.0, 100.0, None, 100.0, 98.0, 98.0, 93.0, 100.0, 100.0, 95.0, None, 98.0, 99.0, 93.0, None, 99.0, 92.0, 95.0, 97.0, 88.0, 84.0, 100.0, 91.0, 94.0, 100.0, 90.0, 95.0, 86.0, 97.0, 91.0, 96.0, None, 100.0, 100.0, 92.0, 100.0, 100.0, 96.0, 100.0, 91.0, 97.0, 98.0, 100.0, None, 97.0, 94.0, 95.0, 100.0, 100.0, 96.0, 99.0, 98.0, 93.0, 95.0, 90.0, 100.0, 93.0, 93.0, 97.0, None, 89.0, 100.0, None, 100.0, 80.0, 95.0, 93.0, 100.0, 99.0, 100.0, None, 100.0, 96.0, 100.0, 100.0, 93.0, None, 100.0, 100.0, 100.0, 98.0, 96.0, 92.0, 100.0, 98.0, 95.0, 99.0, 100.0, 95.0, 95.0, 100.0, 89.0, 100.0, 90.0, 72.0, 99.0, 95.0, 96.0, 100.0, None, 96.0, 98.0, 90.0, 99.0, None, 96.0, 95.0, 100.0, 100.0, 100.0, 93.0, 100.0, 99.0, 100.0, 95.0, 95.0, 100.0, 100.0, 96.0, 100.0, 96.0, 98.0, 90.0, 75.0, 83.0, 93.0, 100.0, 100.0, 100.0, 99.0, 100.0, 98.0, 100.0, None, 97.0, 99.0, 98.0, 97.0, 96.0, 100.0, 100.0, 90.0, 90.0, None, 100.0, 96.0, 98.0, None, 93.0, 100.0, 99.0, 94.0, 60.0, 96.0, 100.0, 97.0, 96.0, 95.0, None, 98.0, None, 92.0, 100.0, 100.0, 100.0, None, None, 100.0, 97.0, 100.0, 98.0, 97.0, 93.0, 97.0, 100.0, 97.0, 82.0, 100.0, 100.0, 99.0, 100.0, 97.0, 95.0, 100.0, 100.0, None, 100.0, 98.0, 100.0, 94.0, 96.0, 100.0, 97.0, 95.0, 83.0, 98.0, 89.0, None, 99.0, None, 93.0, 94.0, 100.0, None, 93.0, 98.0, 84.0, None, 96.0, None, 100.0, 100.0, 100.0, 96.0, 97.0, 100.0, None, None, 96.0, 100.0, 100.0, None, 97.0, 88.0, 100.0, 89.0, None, 99.0, 100.0, 98.0, 90.0, 97.0, 93.0, 84.0, None, 100.0, None, 100.0, 94.0, 98.0, 100.0, 86.0, 95.0, 96.0, 100.0, 89.0, None, 95.0, 91.0, 95.0, 86.0, 88.0, 93.0, 99.0, 98.0, 87.0, 87.0, None, 91.0, 60.0, 94.0, 99.0, 98.0, 93.0, 98.0, 100.0, 92.0, None, 95.0, 100.0, None, 97.0, 95.0, None, 98.0, 100.0, 93.0, 100.0, 100.0, 95.0, 98.0, None, 98.0, 96.0, 100.0, 95.0, 96.0, 98.0, 90.0, 100.0, None, 86.0, 95.0, 97.0, 96.0, 80.0, 98.0, None, 98.0, None, None, 88.0, 90.0, None, 87.0, 90.0, 89.0, 60.0, None, 73.0, 96.0, 92.0, None, 100.0, None, 100.0, 75.0, 96.0, 77.0, 98.0, 96.0, 100.0, None, 100.0, None, None, 82.0, 100.0, 100.0, None, None, 85.0, 96.0, None, 96.0, None, 73.0, None, 98.0, 98.0, 90.0, 80.0, 100.0, 100.0, 93.0, 40.0, 90.0, 100.0, 94.0, 89.0, 98.0, None, 86.0, None, 100.0, 94.0, 98.0, None, 94.0, None, 91.0, 97.0, 100.0, 100.0, None, 97.0, 100.0, None, None, 80.0, 100.0, 60.0, None, 73.0, 93.0, None, 100.0, 93.0, 85.0, 100.0, None, 100.0, 84.0, 97.0, 79.0, 87.0, 93.0, 100.0, None, 95.0, 99.0, 94.0, 94.0, 98.0, 95.0, 80.0, 87.0, 90.0, 100.0, None, 89.0, 83.0, 55.0, 100.0, 97.0, 20.0, 100.0, None, 93.0, 90.0, 93.0, 98.0, 95.0, 100.0, 72.0, 87.0, 94.0, 95.0, 98.0, 100.0, 98.0, 100.0, 93.0, 94.0, 94.0, 87.0, None, 92.0, 98.0, 96.0, 92.0, 97.0, 90.0, None, 92.0, 96.0, 97.0, 100.0, None, 97.0, 97.0, None, 95.0, 100.0, 97.0, 94.0, 99.0, 98.0, 95.0, 97.0, 95.0, 95.0, 95.0, 91.0, 97.0, 97.0, 100.0, 96.0, 92.0, 100.0, 100.0, 95.0, 100.0, None, 95.0, 100.0, 100.0, 87.0, 96.0, 100.0, 97.0, 100.0, None, 96.0, 100.0, None, 91.0, None, None, None, None, None, 95.0, 97.0, 87.0, 94.0, 80.0, None, 85.0, 91.0, 100.0, 95.0, 93.0, 93.0, 90.0, 100.0, 90.0, 87.0, None, 98.0, 100.0, 100.0, 94.0, 93.0, 100.0, 99.0, 100.0, 98.0, 93.0, 90.0, 87.0, 80.0, 97.0, 88.0, 95.0, 100.0, 96.0, 80.0, 88.0, None, 92.0, 92.0, 96.0, 100.0, 89.0, 99.0, 98.0, 100.0, 100.0, 87.0, 100.0, None, None, 100.0, 93.0, 91.0, 98.0, 97.0, 95.0, 90.0, 89.0, 97.0, 96.0, 98.0, 80.0, 100.0, 97.0, 90.0, 98.0, None, 96.0, 100.0, 84.0, 96.0, 90.0, None, 80.0, None, 90.0, 100.0, 97.0, 93.0, 95.0, 100.0, 95.0, 90.0, 90.0, 98.0, 90.0, None, 99.0, 94.0, 100.0, 80.0, 100.0, 96.0, 94.0, 99.0, 95.0, None, 82.0, None, 93.0, 93.0, 93.0, 97.0, 93.0, 90.0, None, 80.0, 95.0, 90.0, 100.0, 99.0, 90.0, 79.0, 96.0, 100.0, 90.0, 95.0, 95.0, 96.0, None, None, 90.0, 95.0, 94.0, 100.0, 98.0, 88.0, None, 90.0, 94.0, None, 80.0, 90.0, 100.0, 87.0, 80.0, 94.0, 100.0, 98.0, None, 100.0, 94.0, 99.0, 95.0, 93.0, 94.0, None, 95.0, 100.0, 92.0, 91.0, 92.0, None, 100.0, 91.0, None, 94.0, None, 97.0, 100.0, 98.0, 95.0, 95.0, 98.0, 100.0, 90.0, 98.0, 91.0, None, 100.0, 100.0, 96.0, None, 97.0, 99.0, 92.0, None, 95.0, 98.0, 100.0, 67.0, 100.0, 90.0, 100.0, None, None, 97.0, 91.0, 94.0, 88.0, 94.0, 97.0, 100.0, 100.0, 98.0, 83.0, 98.0, 93.0, 100.0, 94.0, 98.0, 94.0, 98.0, None, None, 94.0, None, 95.0, 100.0, 100.0, 98.0, 100.0, 73.0, 95.0, 93.0, 100.0, 92.0, 95.0, 96.0, 95.0, 60.0, 100.0, None, 96.0, 96.0, 99.0, 100.0, 90.0, None, 96.0, 93.0, None, 95.0, 90.0, 100.0, 97.0, 93.0, 96.0, 89.0, 100.0, 92.0, None, 90.0, 100.0, 97.0, 88.0, 98.0, 94.0, 99.0, None, 97.0, 96.0, None, 97.0, 93.0, 98.0, 93.0, 98.0, 98.0, 96.0, 88.0, 94.0, 91.0, 100.0, 96.0, 94.0, 90.0, 96.0, None, None, 92.0, None, 95.0, 100.0, 97.0, 96.0, 91.0, 90.0, 90.0, 85.0, None, None, 91.0, 91.0, None, 92.0, 93.0, 98.0, 98.0, 100.0, 99.0, 100.0, 98.0, 100.0, None, 90.0, 96.0, 93.0, 87.0, 98.0, 100.0, 97.0, 100.0, None, 97.0, 100.0, 100.0, 95.0, 100.0, 80.0, 94.0, 93.0, 87.0, 98.0, 90.0, 100.0, 98.0, None, 89.0, 100.0, 95.0, 98.0, 94.0, 98.0, 78.0, None, 94.0, 97.0, None, 91.0, 94.0, 95.0, 96.0, 83.0, None, 98.0, 96.0, 100.0, 98.0, 100.0, 97.0, 100.0, 92.0, 93.0, None, 96.0, 93.0, 93.0, 98.0, 95.0, 93.0, None, None, None, None, 98.0, 94.0, 97.0, 99.0, 99.0, 94.0, 97.0, 94.0, 100.0, 98.0, 90.0, 40.0, 96.0, None, 96.0, 100.0, 100.0, 87.0, 100.0, 98.0, 100.0, 97.0, 100.0, 93.0, 89.0, 94.0, 95.0, None, 93.0, 97.0, 100.0, 91.0, 78.0, 95.0, 94.0, 95.0, 99.0, 94.0, 85.0, 94.0, 98.0, 91.0, 100.0, 80.0, 87.0, 100.0, 100.0, None, 93.0, 98.0, 96.0, 88.0, 87.0, 95.0, 98.0, 99.0, 98.0, 100.0, 90.0, None, 95.0, 100.0, 95.0, 98.0, None, None, None, 100.0, 100.0, 93.0, None, 98.0, 87.0, 97.0, 80.0, None, 98.0, 100.0, None, None, 96.0, 96.0, 99.0, 100.0, 100.0, None, 94.0, None, None, None, 97.0, 100.0, 93.0, None, 100.0, None, 91.0, 100.0, 94.0, None, 89.0, 90.0, 90.0, 97.0, 94.0, None, None, 96.0, 95.0, 92.0, 100.0, None, 100.0, None, None, 93.0, None, 100.0, 88.0, 98.0, None, 100.0, 99.0, 95.0, None, None, 92.0, 99.0, 97.0, None, 95.0, 90.0, 100.0, 93.0, 99.0, 98.0, 99.0, 100.0, 95.0, 98.0, 96.0, 97.0, None, 95.0, 100.0, 80.0, 100.0, 95.0, 95.0, None, 87.0, 87.0, 97.0, None, 100.0, 96.0, 96.0, 80.0, 98.0, None, 100.0, None, None, 96.0, 100.0, 100.0, 95.0, 97.0, 90.0, 98.0, 94.0, None, 94.0, 100.0, 91.0, 95.0, 100.0, 90.0, 96.0, None, 98.0, 95.0, 89.0, 100.0, None, 97.0, None, 99.0, 87.0, 94.0, 100.0, 90.0, 97.0, 100.0, 98.0, 96.0, 100.0, 96.0, 94.0, 98.0, 80.0, 93.0, None, 96.0, 100.0, None, 99.0, 91.0, None, 89.0, 100.0, 100.0, 96.0, 100.0, 83.0, 99.0, 90.0, 97.0, 96.0, 100.0, 94.0, 97.0, 93.0, 96.0, 90.0, 99.0, None, 100.0, 100.0, 98.0, 98.0, 96.0, 100.0, None, 100.0, 95.0, 100.0, 100.0, None, 80.0, 100.0, 96.0, 90.0, 100.0, 98.0, 100.0, 93.0, 95.0, 100.0, 99.0, None, 98.0, 100.0, 98.0, 98.0, 98.0, 96.0, 100.0, 97.0, 100.0, 93.0, None, 92.0, 80.0, 97.0, 89.0, None, 89.0, None, None, 90.0, 93.0, 99.0, 94.0, 97.0, 89.0, 96.0, 93.0, 91.0, 93.0, 94.0, 89.0, 92.0, 99.0, 89.0, 93.0, 93.0, 93.0, 95.0, 91.0, 99.0, 100.0, 97.0, 88.0, 95.0, 91.0, 100.0, None, 98.0, None, 97.0, 95.0, None, None, 87.0, 92.0, None, 86.0, 96.0, 100.0, None, 92.0, 95.0, 95.0, 99.0, None, None, 57.0, None, 95.0, 71.0, 86.0, 93.0, 87.0, None, 100.0, 100.0, None, None, 90.0, 80.0, 80.0, 100.0, 95.0, None, 100.0, 100.0, 100.0, None, 97.0, None, 94.0, 100.0, None, 100.0, 100.0, 99.0, 84.0, 97.0, 93.0, 95.0, 91.0, 96.0, 91.0, 83.0, 93.0, 95.0, 98.0, 98.0, 100.0, 94.0, None, 100.0, 100.0, 96.0, None, 90.0, 96.0, 100.0, 91.0, None, 80.0, 90.0, 100.0, 100.0, 85.0, 93.0, None, 100.0, 96.0, 94.0, 85.0, None, None, 98.0, None, 95.0, 97.0, 89.0, 89.0, 94.0, 100.0, 90.0, None, None, 97.0, 100.0, None, 83.0, 88.0, None, 100.0, 100.0, 91.0, 99.0, 97.0, None, 90.0, 98.0, 90.0, 100.0, 96.0, 100.0, 100.0, 96.0, 98.0, 96.0, 97.0, 100.0, None, 100.0, 90.0, 87.0, 95.0, 86.0, 90.0, 100.0, None, 91.0, 98.0, 86.0, 91.0, 93.0, 97.0, 70.0, 94.0, 87.0, None, 92.0, None, None, 94.0, 86.0, 89.0, 95.0, None, 97.0, 94.0, 100.0, 100.0, 100.0, 87.0, 100.0, 95.0, 91.0, 97.0, 94.0, 94.0, 100.0, 91.0, 91.0, None, 98.0, 82.0, 95.0, 80.0, 100.0, 99.0, 98.0, 98.0, 96.0, 98.0, 99.0, None, 91.0, 91.0, 96.0, 80.0, 96.0, 98.0, 94.0, 95.0, None, 96.0, None, 100.0, 97.0, 95.0, 100.0, 100.0, 97.0, None, 98.0, 94.0, 97.0, None, 93.0, 92.0, 97.0, 90.0, 98.0, 96.0, 96.0, 89.0, 100.0, None, 97.0, 96.0, 98.0, 90.0, None, 96.0, 96.0, 100.0, 93.0, None, 100.0, 95.0, 86.0, 100.0, 100.0, 60.0, 100.0, 98.0, None, 100.0, 90.0, 100.0, 100.0, None, 94.0, 96.0, 93.0, 93.0, None, 92.0, None, 100.0, 94.0, 77.0, 100.0, None, 95.0, 99.0, 92.0, 100.0, 91.0, 91.0, 95.0, 100.0, 90.0, 95.0, 98.0, 92.0, 97.0, 99.0, None, None, 93.0, 98.0, 95.0, 80.0, 95.0, 91.0, 98.0, None, 97.0, 98.0, 94.0, 97.0, 96.0, 87.0, 92.0, 96.0, 93.0, 98.0, 100.0, 71.0, None, 100.0, None, 97.0, 97.0, 96.0, 99.0, 91.0, 91.0, 95.0, 88.0, 92.0, 97.0, 97.0, 95.0, 100.0, 97.0, 86.0, 92.0, 93.0, 97.0, 98.0, 100.0, 92.0, None, 96.0, None, 99.0, 100.0, 95.0, 96.0, None, 94.0, 100.0, 98.0, 97.0, 100.0, 94.0, 98.0, None, 100.0, None, 100.0, None, 97.0, 98.0, None, 100.0, 93.0, None, 96.0, 100.0, 100.0, 90.0, 100.0, 99.0, 95.0, 100.0, 100.0, None, 100.0, 100.0, None, 80.0, 89.0, 89.0, 94.0, 96.0, None, 99.0, 96.0, 98.0, 92.0, 97.0, 85.0, 98.0, 94.0, 96.0, 100.0, 94.0, 80.0, 99.0, 100.0, 93.0, 91.0, 96.0, 95.0, 40.0, 87.0, 95.0, None, None, 100.0, 92.0, 100.0, 97.0, 94.0, 94.0, 80.0, 93.0, 95.0, 97.0, 95.0, 99.0, 100.0, 96.0, 95.0, 80.0, 96.0, 100.0, 96.0, 90.0, 100.0, None, 94.0, 96.0, None, 96.0, 88.0, 100.0, 95.0, None, 95.0, 95.0, 99.0, 95.0, 99.0, 100.0, 93.0, 96.0, 100.0, 94.0, 100.0, None, 100.0, 100.0, None, 96.0, None, 96.0, 100.0, 100.0, None, None, 96.0, 98.0, 95.0, 99.0, 100.0, 99.0, 100.0, 95.0, 92.0, 97.0, 98.0, 96.0, None, 91.0, 93.0, 98.0, 100.0, 96.0, 80.0, None, 95.0, None, None, 100.0, 98.0, 96.0, 97.0, 96.0, 100.0, 89.0, 87.0, 94.0, None, 87.0, 93.0, 100.0, 92.0, 100.0, 100.0, None, 93.0, 90.0, 100.0, 93.0, 100.0, 80.0, 96.0, 99.0, 94.0, 93.0, 97.0, 95.0, 100.0, 98.0, 100.0, 93.0, 96.0, None, 96.0, 98.0, 95.0, None, 98.0, None, 100.0, 100.0, 95.0, None, 94.0, 97.0, 65.0, 100.0, 95.0, 98.0, 100.0, 97.0, None, None, 99.0, 96.0, 98.0, 98.0, 100.0, 87.0, 95.0, 100.0, 99.0, 67.0, 100.0, 98.0, None, 77.0, 83.0, None, 76.0, 99.0, 87.0, 53.0, 95.0, 100.0, 90.0, None, None, 91.0, 96.0, None, 80.0, 80.0, 80.0, 94.0, 80.0, 98.0, 98.0, 96.0, None, None, None, 96.0, 60.0, 98.0, 94.0, 98.0, 93.0, 90.0, 93.0, 98.0, 80.0, 98.0, None, 100.0, 100.0, 100.0, 90.0, 97.0, 98.0, 96.0, 97.0, 95.0, 85.0, 100.0, 99.0, 94.0, 93.0, 99.0, 95.0, 100.0, 76.0, 100.0, 100.0, 92.0, 96.0, 92.0, 87.0, 99.0, 100.0, None, 100.0, 100.0, 97.0, 98.0, 100.0, 100.0, 90.0, 93.0, 80.0, 100.0, 85.0, 80.0, 99.0, 96.0, 94.0, 100.0, None, 96.0, 99.0, None, 100.0, 100.0, None, 98.0, None, 84.0, 80.0, 97.0, 88.0, 97.0, 98.0, 100.0, 95.0, 99.0, None, 98.0, 100.0, None, 100.0, 98.0, 96.0, 99.0, None, 95.0, 94.0, 90.0, 97.0, 100.0, None, 95.0, 93.0, 93.0, None, 97.0, 93.0, 96.0, None, 100.0, 94.0, 80.0, None, 100.0, 100.0, 88.0, None, 94.0, 91.0, 89.0, 100.0, None, None, 100.0, 96.0, 98.0, 97.0, 99.0, 70.0, 89.0, 100.0, 98.0, 98.0, 96.0, 80.0, 84.0, 93.0, 93.0, 100.0, 90.0, 94.0, 100.0, 96.0, 88.0, 97.0, None, 99.0, 72.0, 87.0, 100.0, 92.0, None, 96.0, 90.0, 90.0, 97.0, None, 96.0, 100.0, 100.0, 95.0, 87.0, 98.0, None, 100.0, 94.0, 93.0, 80.0, 100.0, 88.0, 95.0, 98.0, 88.0, None, None, None, 80.0, 97.0, 95.0, None, 72.0, 95.0, None, 100.0, 89.0, 100.0, 97.0, 95.0, 80.0, 100.0, None, 99.0, 97.0, 100.0, 97.0, 92.0, 96.0, None, 95.0, 90.0, None, 100.0, 96.0, None, 96.0, 92.0, 80.0, 70.0, 92.0, 91.0, 96.0, 100.0, 94.0, 99.0, 97.0, 93.0, 92.0, 96.0, 100.0, 95.0, 95.0, 85.0, 91.0, 98.0, 89.0, 93.0, 97.0, 100.0, 94.0, 96.0, None, 96.0, 97.0, 100.0, 90.0, 70.0, None, 95.0, 98.0, None, 90.0, 94.0, 60.0, 80.0, 96.0, 96.0, 100.0, 95.0, None, None, 93.0, 90.0, 95.0, 93.0, None, 100.0, 98.0, None, 97.0, 98.0, 93.0, 70.0, 100.0, 100.0, 98.0, 97.0, 100.0, 96.0, 100.0, 100.0, 98.0, 97.0, 98.0, 98.0, None, 100.0, 94.0, 100.0, 100.0, 90.0, 100.0, 91.0, 100.0, 85.0, 84.0, 90.0, None, 100.0, None, 95.0, 94.0, None, 80.0, 95.0, 100.0, 60.0, 73.0, 100.0, 99.0, 95.0, 96.0, 100.0, 100.0, None, 100.0, 100.0, None, None, 98.0, 81.0, 100.0, None, None, 95.0, 100.0, 100.0, 83.0, 96.0, 95.0, 91.0, 99.0, 89.0, 98.0, 87.0, 97.0, None, 96.0, None, 95.0, 93.0, 99.0, 94.0, None, 94.0, None, 97.0, None, 100.0, 90.0, None, 100.0, 95.0, 94.0, 93.0, None, 93.0, 80.0, 100.0, 90.0, None, 93.0, 94.0, 92.0, 100.0, 92.0, 80.0, 87.0, 97.0, 100.0, None, 91.0, 87.0, 94.0, 96.0, 95.0, 100.0, 90.0, None, None, 91.0, 93.0, 80.0, 91.0, 96.0, 95.0, None, 99.0, 87.0, 74.0, 83.0, 100.0, 94.0, 94.0, 100.0, 100.0, None, 99.0, 97.0, 100.0, None, 99.0, 96.0, 100.0, 97.0, 100.0, 93.0, None, 95.0, 95.0, 98.0, 94.0, 97.0, 96.0, 80.0, 100.0, 91.0, 97.0, 93.0, 80.0, 91.0, 100.0, 94.0, None, 92.0, None, 95.0, 90.0, None, 100.0, 100.0, 99.0, 91.0, 100.0, None, None, None, 80.0, 84.0, 84.0, None, None, 100.0, 91.0, None, 89.0, 93.0, None, 100.0, 97.0, 100.0, 94.0, 97.0, 97.0, None, 93.0, 80.0, 95.0, 100.0, 91.0, None, 90.0, 100.0, 92.0, None, 96.0, 92.0, None, 100.0, 92.0, None, 98.0, 80.0, None, 100.0, 97.0, None, 100.0, 100.0, None, 90.0, None, None, 94.0, None, None, 94.0, 100.0, 100.0, 100.0, 86.0, 100.0, 100.0, 100.0, None, 92.0, 98.0, 97.0, 100.0, 100.0, 100.0, None, 96.0, 98.0, 100.0, 90.0, 100.0, 92.0, 93.0, 95.0, 94.0, None, None, None, 100.0, 100.0, None, 96.0, 95.0, 95.0, 98.0, 91.0, 98.0, 93.0, 94.0, None, 88.0, 100.0, None, None, 84.0, 95.0, 98.0, None, 98.0, 90.0, 81.0, 98.0, 98.0, 99.0, 100.0, 88.0, 100.0, 97.0, 97.0, None, 86.0, 95.0, 100.0, 96.0, 100.0, 97.0, 99.0, 100.0, None, 97.0, 94.0, 94.0, 85.0, 95.0, 92.0, 96.0, 100.0, 95.0, 91.0, 100.0, 100.0, 93.0, 100.0, 89.0, 98.0, None, 98.0, 99.0, 97.0, 95.0, 100.0, None, None, 95.0, 90.0, 94.0, 100.0, None, 88.0, 100.0, 80.0, 99.0, 99.0, 96.0, 98.0, 92.0, 92.0, None, 98.0, 95.0, 95.0, 100.0, 98.0, 97.0, None, 98.0, 94.0, 96.0, 100.0, 99.0, 94.0, 97.0, 94.0, 95.0, 100.0, 99.0, 96.0, 98.0, 96.0, None, 96.0, 90.0, 98.0, 97.0, 96.0, 100.0, None, 99.0, 100.0, 88.0, 95.0, 100.0, 96.0, None, 85.0, 95.0, 92.0, 76.0, 100.0, 96.0, None, 80.0, 100.0, 93.0, 100.0, 97.0, 100.0, 80.0, 95.0, None, 100.0, None, 92.0, 94.0, 100.0, 98.0, 100.0, None, 100.0, None, 100.0, None, 100.0, None, 93.0, 80.0, 91.0, 99.0, 99.0, 87.0, 90.0, None, None, 87.0, 97.0, 92.0, None, 92.0, 93.0, None, 80.0, 98.0, 40.0, 96.0, 96.0, None, None, None, 97.0, None, 100.0, 94.0, 98.0, None, 100.0, 98.0, 94.0, 91.0, 100.0, 97.0, None, 96.0, 99.0, None, 100.0, 88.0, None, 100.0, 81.0, None, None, 91.0, 100.0, 96.0, 100.0, 91.0, None, 100.0, 96.0, None, 90.0, 93.0, None, 91.0, None, 89.0, 97.0, 93.0, None, 100.0, 98.0, 100.0, 100.0, 91.0, 100.0, 100.0, None, 100.0, 97.0, 93.0, None, 100.0, 85.0, 100.0, 100.0, 93.0, 97.0, 100.0, 99.0, 98.0, 98.0, 90.0, None, 100.0, None, 96.0, 100.0, 100.0, 100.0, 94.0, 95.0, 93.0, 97.0, 98.0, 100.0, 95.0, 97.0, 100.0, 88.0, None, None, None, 92.0, 95.0, None, 88.0, None, 95.0, 97.0, 100.0, 94.0, 93.0, 93.0, 92.0, 100.0, 100.0, None, 95.0, 100.0, 96.0, 100.0, 90.0, 100.0, None, 90.0, None, 100.0, 98.0, 97.0, 100.0, 87.0, 100.0, None, None, 100.0, 80.0, 100.0, 95.0, 100.0, 100.0, 100.0, 91.0, 89.0, 100.0, None, 98.0, 91.0, 100.0, 86.0, 84.0, 100.0, 95.0, None, 95.0, 95.0, 97.0, 95.0, 92.0, 100.0, 100.0, 100.0, 93.0, 100.0, 90.0, 97.0, 93.0, None, None, 100.0, 88.0, 99.0, None, 98.0, 93.0, 92.0, None, 99.0, 87.0, 85.0, 100.0, 97.0, None, 80.0, None, 93.0, 80.0, 100.0, 84.0, 90.0, None, 96.0, 100.0, None, None, 87.0, None, 100.0, 97.0, 98.0, 90.0, 94.0, None, 100.0, 100.0, 100.0, 100.0, 98.0, 99.0, 88.0, 96.0, 100.0, 94.0, 84.0, 100.0, 93.0, 100.0, None, 94.0, 100.0, 100.0, 95.0, 100.0, 94.0, 100.0, 97.0, 94.0, 94.0, None, 97.0, None, 100.0, 95.0, 96.0, 80.0, 99.0, 100.0, 100.0, None, 89.0, 95.0, 98.0, 98.0, 97.0, None, 94.0, 97.0, 96.0, None, None, 94.0, None, 84.0, 97.0, None, 99.0, None, 97.0, None, 95.0, 95.0, None, 94.0, 97.0, 80.0, 100.0, 100.0, 98.0, 94.0, None, None, 96.0, None, 99.0, 95.0, 91.0, 96.0, 94.0, 93.0, 91.0, 97.0, 96.0, 99.0, None, 100.0, 90.0, 97.0, 100.0, 98.0, None, 91.0, 95.0, 100.0, 97.0, 99.0, 98.0, None, 98.0, 100.0, 90.0, 94.0, 100.0, 96.0, 90.0, 98.0, 93.0, 96.0, 100.0, 96.0, 100.0, None, None, 98.0, 98.0, 100.0, 100.0, 96.0, None, None, 100.0, 100.0, 96.0, 94.0, 91.0, None, 98.0, 99.0, 93.0, None, 80.0, 96.0, 97.0, 94.0, 97.0, 96.0, 96.0, None, 96.0, 89.0, 100.0, 96.0, 91.0, 100.0, 94.0, 92.0, 91.0, 97.0, 100.0, 93.0, 96.0, 92.0, 90.0, None, None, 88.0, 96.0, 90.0, None, 93.0, 95.0, 92.0, 99.0, 97.0, 93.0, 92.0, None, 92.0, 100.0, 92.0, 100.0, 100.0, 94.0, 80.0, 100.0, 100.0, None, None, 80.0, 100.0, 89.0, 100.0, 95.0, 100.0, 93.0, None, 96.0, None, 100.0, 87.0, 95.0, 94.0, 94.0, 100.0, 94.0, 89.0, 92.0, 99.0, 93.0, 96.0, 95.0, None, None, 93.0, 98.0, None, None, 98.0, 97.0, 90.0, None, None, 91.0, None, 94.0, None, 98.0, 100.0, 100.0, 97.0, 100.0, 98.0, 97.0, 99.0, 94.0, 91.0, 91.0, None, 100.0, 94.0, 94.0, 80.0, 98.0, None, 93.0, 94.0, 84.0, None, 100.0, 94.0, 93.0, 100.0, 100.0, 100.0, 96.0, 100.0, 100.0, 100.0, 100.0, 100.0, 93.0, 100.0, 94.0, 98.0, 100.0, 96.0, None, None, 98.0, 94.0, None, 100.0, None, 92.0, 99.0, None, 93.0, 85.0, None, 100.0, 100.0, 100.0, None, 95.0, 84.0, None, 90.0, 90.0, 96.0, 97.0, 70.0, 97.0, 82.0, 95.0, None, 95.0, None, 100.0, 80.0, 100.0, 100.0, 96.0, 99.0, 98.0, 98.0, 85.0, 94.0, 92.0, 100.0, 93.0, 96.0, None, 100.0, None, 94.0, 100.0, 96.0, 98.0, 100.0, 94.0, 100.0, 95.0, 98.0, 95.0, 91.0, 100.0, None, 92.0, 93.0, 91.0, 99.0, 100.0, 89.0, 90.0, 100.0, 100.0, 97.0, 99.0, None, 95.0, 93.0, 96.0, 98.0, 96.0, None, None, 90.0, None, 98.0, 98.0, 96.0, None, 100.0, None, 80.0, 95.0, 94.0, 94.0, 91.0, 98.0, 95.0, None, None, 99.0, 94.0, 94.0, None, 94.0, 96.0, 88.0, 99.0, 94.0, 100.0, 97.0, 94.0, 95.0, 94.0, 100.0, 100.0, 92.0, 96.0, 80.0, None, 91.0, 100.0, None, 100.0, 95.0, 95.0, 96.0, 100.0, 100.0, 96.0, None, 90.0, 97.0, None, 100.0, None, 95.0, 100.0, 99.0, 90.0, 86.0, 97.0, 99.0, None, 94.0, 91.0, 96.0, 95.0, 90.0, 97.0, 93.0, 100.0, 94.0, 96.0, None, 96.0, None, 97.0, None, 98.0, 100.0, 100.0, 100.0, 100.0, 99.0, 96.0, 100.0, 95.0, 93.0, 100.0, 100.0, 94.0, 100.0, 100.0, 93.0, 88.0, 95.0, 100.0, 100.0, None, 100.0, 98.0, 96.0, 100.0, 96.0, 92.0, 96.0, 98.0, 100.0, 99.0, 96.0, 100.0, 98.0, None, None, 97.0, 88.0, 95.0, 96.0, 98.0, 98.0, 99.0, 90.0, 98.0, 100.0, None, 98.0, 90.0, 98.0, 98.0, 100.0, 98.0, 95.0, None, 100.0, None, 95.0, 95.0, 98.0, 100.0, 97.0, 96.0, 80.0, 92.0, 100.0, 96.0, 80.0, 100.0, None, None, None]\n"
          ]
        }
      ]
    },
    {
      "cell_type": "markdown",
      "source": [
        "What is the top and bottom 10 property type based on average price and review score?"
      ],
      "metadata": {
        "id": "clpLkxOs8lW8"
      }
    },
    {
      "cell_type": "code",
      "source": [
        "# Retrieve the top 10 property types based on average price\n",
        "query_top_price = '''\n",
        "SELECT property_type, AVG(price) AS average_price\n",
        "FROM listing\n",
        "GROUP BY property_type\n",
        "ORDER BY average_price DESC\n",
        "LIMIT 10\n",
        "'''\n",
        "\n",
        "results_top_price = cursor.execute(query_top_price).fetchall()\n",
        "\n",
        "# Retrieve the bottom 10 property types based on average price\n",
        "query_bottom_price = '''\n",
        "SELECT property_type, AVG(price) AS average_price\n",
        "FROM listing\n",
        "GROUP BY property_type\n",
        "ORDER BY average_price ASC\n",
        "LIMIT 10\n",
        "'''\n",
        "results_bottom_price = cursor.execute(query_bottom_price).fetchall()\n"
      ],
      "metadata": {
        "id": "9uZIJ5Sz7qoA"
      },
      "execution_count": null,
      "outputs": []
    },
    {
      "cell_type": "code",
      "source": [
        "# Print the top and bottom 10 property types based on average price\n",
        "print(\"Top 10 Property Types (Based on Average Price):\")\n",
        "for row in results_top_price:\n",
        "    property_type, average_price = row\n",
        "    print(f\"{property_type}: {average_price}\")\n",
        "\n",
        "print(\"\\nBottom 10 Property Types (Based on Average Price):\")\n",
        "for row in results_bottom_price:\n",
        "    property_type, average_price = row\n",
        "    print(f\"{property_type}: {average_price}\")\n"
      ],
      "metadata": {
        "colab": {
          "base_uri": "https://localhost:8080/"
        },
        "id": "KnY8N7387qrS",
        "outputId": "abac840f-cad0-4720-8ed4-5e3542b7d7e5"
      },
      "execution_count": null,
      "outputs": [
        {
          "output_type": "stream",
          "name": "stdout",
          "text": [
            "Top 10 Property Types (Based on Average Price):\n",
            "Boat: 282.375\n",
            "Condominium: 151.1098901098901\n",
            "Loft: 135.7\n",
            "House: 132.35141373341028\n",
            "Townhouse: 129.45762711864407\n",
            "Apartment: 122.93266978922716\n",
            "Camper/RV: 120.46153846153847\n",
            "None: 120.0\n",
            "Bungalow: 115.61538461538461\n",
            "Bed & Breakfast: 112.05405405405405\n",
            "\n",
            "Bottom 10 Property Types (Based on Average Price):\n",
            "Dorm: 39.5\n",
            "Tent: 54.0\n",
            "Other: 94.68181818181819\n",
            "Chalet: 98.5\n",
            "Yurt: 100.0\n",
            "Treehouse: 101.0\n",
            "Cabin: 104.66666666666667\n",
            "Bed & Breakfast: 112.05405405405405\n",
            "Bungalow: 115.61538461538461\n",
            "None: 120.0\n"
          ]
        }
      ]
    },
    {
      "cell_type": "code",
      "source": [
        "# Retrieve the top 10 property types based on average review score\n",
        "query_top_score = '''\n",
        "SELECT property_type, AVG(review_scores_rating) AS average_score\n",
        "FROM listing\n",
        "GROUP BY property_type\n",
        "ORDER BY average_score DESC\n",
        "LIMIT 10\n",
        "'''\n",
        "results_top_score = cursor.execute(query_top_score).fetchall()\n",
        "\n",
        "# Retrieve the bottom 10 property types based on average review score\n",
        "query_bottom_score = '''\n",
        "SELECT property_type, AVG(review_scores_rating) AS average_score\n",
        "FROM listing\n",
        "GROUP BY property_type\n",
        "ORDER BY average_score ASC\n",
        "LIMIT 10\n",
        "'''\n",
        "results_bottom_score = cursor.execute(query_bottom_score).fetchall()\n"
      ],
      "metadata": {
        "id": "5XGkHnfO7quo"
      },
      "execution_count": null,
      "outputs": []
    },
    {
      "cell_type": "code",
      "source": [
        "# Print the top and bottom 10 property types based on average review score\n",
        "print(\"\\nTop 10 Property Types (Based on Average Review Score):\")\n",
        "for row in results_top_score:\n",
        "    property_type, average_score = row\n",
        "    print(f\"{property_type}: {average_score}\")\n",
        "\n",
        "print(\"\\nBottom 10 Property Types (Based on Average Review Score):\")\n",
        "for row in results_bottom_score:\n",
        "    property_type, average_score = row\n",
        "    print(f\"{property_type}: {average_score}\")"
      ],
      "metadata": {
        "colab": {
          "base_uri": "https://localhost:8080/"
        },
        "id": "wz9BWQTi88UA",
        "outputId": "65413eb2-692a-4bad-8824-7e57daca908a"
      },
      "execution_count": null,
      "outputs": [
        {
          "output_type": "stream",
          "name": "stdout",
          "text": [
            "\n",
            "Top 10 Property Types (Based on Average Review Score):\n",
            "Yurt: 100.0\n",
            "Bungalow: 97.66666666666667\n",
            "Townhouse: 96.625\n",
            "Other: 96.26315789473684\n",
            "Cabin: 96.23809523809524\n",
            "Treehouse: 96.0\n",
            "Bed & Breakfast: 95.73076923076923\n",
            "Camper/RV: 95.7\n",
            "Boat: 95.6\n",
            "Loft: 95.45454545454545\n",
            "\n",
            "Bottom 10 Property Types (Based on Average Review Score):\n",
            "None: None\n",
            "Chalet: 83.5\n",
            "Dorm: 90.0\n",
            "Apartment: 93.97759103641457\n",
            "Tent: 94.5\n",
            "House: 94.83356164383562\n",
            "Condominium: 95.31884057971014\n",
            "Loft: 95.45454545454545\n",
            "Boat: 95.6\n",
            "Camper/RV: 95.7\n"
          ]
        }
      ]
    },
    {
      "cell_type": "markdown",
      "source": [
        "Property types like Boat, Condominium, Loft, House, and Townhouse tend to have higher average prices, while property types like Dorm, Tent, Other, and Chalet tend to have lower average prices.\n",
        "\n",
        "Property types like Yurt, Bungalow, and Townhouse receive higher average review scores, indicating that they are generally well-regarded by guests. On the other hand, property types like Chalet, and Dorm receive lower average review scores.\n",
        "\n",
        "These findings suggest that price does not always correlate with review scores. While some higher-priced property types may receive high review scores, there are also lower-priced options that receive positive reviews. It highlights the importance of considering factors beyond just price when assessing the quality and value of a property."
      ],
      "metadata": {
        "id": "PFOpaXV19QVA"
      }
    },
    {
      "cell_type": "code",
      "source": [],
      "metadata": {
        "id": "TSDHsWww88Xs"
      },
      "execution_count": null,
      "outputs": []
    },
    {
      "cell_type": "markdown",
      "source": [
        "#### Examining property availability across a variety of metrics."
      ],
      "metadata": {
        "id": "X1dgrJ_10Tja"
      }
    },
    {
      "cell_type": "markdown",
      "source": [
        "Security deposit: Do properties that require guests to leave security deposits tend to have more or less availability than properties that do not have that requirement?"
      ],
      "metadata": {
        "id": "AbZ2nc-D0Vuz"
      }
    },
    {
      "cell_type": "code",
      "source": [
        "query = \"\"\"\n",
        "    SELECT\n",
        "        CASE WHEN security_deposit > 0 THEN 'With Security Deposit' ELSE 'No Security Deposit' END AS deposit_category,\n",
        "        AVG(has_availability) AS average_availability\n",
        "    FROM\n",
        "        listing\n",
        "    GROUP BY\n",
        "        deposit_category\n",
        "\"\"\"\n",
        "\n",
        "cursor.execute(query)\n",
        "results = cursor.fetchall()"
      ],
      "metadata": {
        "id": "7IWXOeFLybtj"
      },
      "execution_count": null,
      "outputs": []
    },
    {
      "cell_type": "code",
      "source": [
        "print(\"Availability: Properties with Security Deposit vs. Properties without Security Deposit\")\n",
        "for row in results:\n",
        "    deposit_category = row[0]\n",
        "    average_availability = row[1]\n",
        "    print(f\"Deposit Category: {deposit_category}\")\n",
        "    print(f\"Average Availability: {average_availability}\")\n",
        "    print()"
      ],
      "metadata": {
        "colab": {
          "base_uri": "https://localhost:8080/"
        },
        "id": "ihUJ4zTt0hzn",
        "outputId": "aac4e067-c12b-4939-c47c-478f0876b268"
      },
      "execution_count": null,
      "outputs": [
        {
          "output_type": "stream",
          "name": "stdout",
          "text": [
            "Availability: Properties with Security Deposit vs. Properties without Security Deposit\n",
            "Deposit Category: No Security Deposit\n",
            "Average Availability: 1.0\n",
            "\n",
            "Deposit Category: With Security Deposit\n",
            "Average Availability: 1.0\n",
            "\n"
          ]
        }
      ]
    },
    {
      "cell_type": "markdown",
      "source": [
        "Based on this analysis, there does not appear to be a significant difference in availability between properties with and without security deposits. Both categories have an average availability of 1.0, indicating that they are equally available for booking."
      ],
      "metadata": {
        "id": "tdPpZ7s80stC"
      }
    },
    {
      "cell_type": "code",
      "source": [],
      "metadata": {
        "id": "iOX6zsJ20h3K"
      },
      "execution_count": null,
      "outputs": []
    },
    {
      "cell_type": "markdown",
      "source": [
        "Requires license: Do properties that require guests to show their IDs tend to have more or less availability than properties that do not have that requirement?"
      ],
      "metadata": {
        "id": "H6huqn370tir"
      }
    },
    {
      "cell_type": "code",
      "source": [
        "query = \"\"\"\n",
        "    SELECT\n",
        "        CASE WHEN requires_license = 't' THEN 'Requires License' ELSE 'No License Requirement' END AS license_category,\n",
        "        AVG(has_availability) AS average_availability\n",
        "    FROM\n",
        "        listing\n",
        "    GROUP BY\n",
        "        license_category\n",
        "\"\"\"\n",
        "\n",
        "cursor.execute(query)\n",
        "results = cursor.fetchall()"
      ],
      "metadata": {
        "id": "5PuDdoXP0h6T"
      },
      "execution_count": null,
      "outputs": []
    },
    {
      "cell_type": "code",
      "source": [
        "print(\"Availability: Properties with License Requirement vs. Properties without License Requirement\")\n",
        "for row in results:\n",
        "    license_category = row[0]\n",
        "    average_availability = row[1]\n",
        "    print(f\"License Category: {license_category}\")\n",
        "    print(f\"Average Availability: {average_availability}\")\n",
        "    print()"
      ],
      "metadata": {
        "colab": {
          "base_uri": "https://localhost:8080/"
        },
        "id": "-GzDTeTo0h-U",
        "outputId": "65550e00-3684-401f-fbb0-fd3217bcd647"
      },
      "execution_count": null,
      "outputs": [
        {
          "output_type": "stream",
          "name": "stdout",
          "text": [
            "Availability: Properties with License Requirement vs. Properties without License Requirement\n",
            "License Category: No License Requirement\n",
            "Average Availability: 1.0\n",
            "\n"
          ]
        }
      ]
    },
    {
      "cell_type": "markdown",
      "source": [
        "Based on this analysis, it appears that properties without a license requirement have an average availability of 1.0, indicating that they are consistently available for booking. This suggests that requiring guests to show their IDs does not have a noticeable impact on the availability of properties."
      ],
      "metadata": {
        "id": "ahE5NNRv1CJa"
      }
    },
    {
      "cell_type": "code",
      "source": [],
      "metadata": {
        "id": "PmN3fdeE0iAy"
      },
      "execution_count": null,
      "outputs": []
    },
    {
      "cell_type": "markdown",
      "source": [
        "Number of reviews: Is having a lot of reviews associated with properties that tend to not have much availability? Or with properties that have a lot of availability?"
      ],
      "metadata": {
        "id": "hcq55AOj1DQG"
      }
    },
    {
      "cell_type": "code",
      "source": [
        "query = \"\"\"\n",
        "    SELECT\n",
        "        CASE\n",
        "            WHEN number_of_reviews > 0 THEN 'Has Reviews'\n",
        "            ELSE 'No Reviews'\n",
        "        END AS review_category,\n",
        "        AVG(has_availability) AS average_availability\n",
        "    FROM\n",
        "        listing\n",
        "    GROUP BY\n",
        "        review_category\n",
        "\"\"\"\n",
        "\n",
        "cursor.execute(query)\n",
        "results = cursor.fetchall()\n"
      ],
      "metadata": {
        "id": "zsaUlsL20iDi"
      },
      "execution_count": null,
      "outputs": []
    },
    {
      "cell_type": "code",
      "source": [
        "print(\"Availability: Properties with Reviews vs. Properties without Reviews\")\n",
        "for row in results:\n",
        "    review_category = row[0]\n",
        "    average_availability = row[1]\n",
        "    print(f\"Review Category: {review_category}\")\n",
        "    print(f\"Average Availability: {average_availability}\")\n",
        "    print()"
      ],
      "metadata": {
        "colab": {
          "base_uri": "https://localhost:8080/"
        },
        "id": "2xvIyaUM1GQa",
        "outputId": "1086e7f9-8628-4682-d033-6c3a9fb20535"
      },
      "execution_count": null,
      "outputs": [
        {
          "output_type": "stream",
          "name": "stdout",
          "text": [
            "Availability: Properties with Reviews vs. Properties without Reviews\n",
            "Review Category: Has Reviews\n",
            "Average Availability: 1.0\n",
            "\n",
            "Review Category: No Reviews\n",
            "Average Availability: 1.0\n",
            "\n"
          ]
        }
      ]
    },
    {
      "cell_type": "markdown",
      "source": [
        "Both categories, properties with reviews and properties without reviews, have an average availability of 1.0. This indicates that, on average, both types of properties are consistently available for booking throughout the specified time period.\n",
        "\n",
        "Based on this analysis, there does not appear to be a significant association between the number of reviews a property has and its availability. Properties with and without reviews have similar average availability, suggesting that the number of reviews does not have a noticeable impact on the availability of properties."
      ],
      "metadata": {
        "id": "fczw83-C1dBd"
      }
    },
    {
      "cell_type": "code",
      "source": [],
      "metadata": {
        "id": "tEgBa1Bd1GTW"
      },
      "execution_count": null,
      "outputs": []
    },
    {
      "cell_type": "markdown",
      "source": [
        "Price: Do cheaper properties tend to have more or less availability than more expensive properties?"
      ],
      "metadata": {
        "id": "oTiJTM-T1eEb"
      }
    },
    {
      "cell_type": "code",
      "source": [
        "query = \"\"\"\n",
        "SELECT\n",
        "    CASE\n",
        "        WHEN price < 100 THEN 'Cheap'\n",
        "        WHEN price >= 100 AND price <= 200 THEN 'Moderate'\n",
        "        WHEN price > 200 THEN 'Expensive'\n",
        "    END AS Price_Category,\n",
        "    AVG(has_availability) AS Average_Availability\n",
        "FROM listing\n",
        "GROUP BY Price_Category;\n",
        "\"\"\"\n",
        "cursor.execute(query)\n",
        "results = cursor.fetchall()"
      ],
      "metadata": {
        "id": "IPgOkRM11GWH"
      },
      "execution_count": null,
      "outputs": []
    },
    {
      "cell_type": "code",
      "source": [
        "for row in results:\n",
        "    price_category, average_availability = row\n",
        "    print(f\"Price Category: {price_category}\\nAverage Availability: {average_availability}\\n\")"
      ],
      "metadata": {
        "colab": {
          "base_uri": "https://localhost:8080/"
        },
        "id": "an-rOBmI1GZQ",
        "outputId": "94a67b6f-c7ad-4dde-e8c2-9d0639edbea4"
      },
      "execution_count": null,
      "outputs": [
        {
          "output_type": "stream",
          "name": "stdout",
          "text": [
            "Price Category: Cheap\n",
            "Average Availability: 1.0\n",
            "\n",
            "Price Category: Expensive\n",
            "Average Availability: 1.0\n",
            "\n",
            "Price Category: Moderate\n",
            "Average Availability: 1.0\n",
            "\n"
          ]
        }
      ]
    },
    {
      "cell_type": "markdown",
      "source": [
        "there doesn't seem to be a significant difference in availability based on price categories. All price categories, including cheap, moderate, and expensive, have an average availability of 1.0, indicating that properties across different price ranges are equally available for booking.\n",
        "\n",
        "\n",
        "\n",
        "\n",
        "\n"
      ],
      "metadata": {
        "id": "oF7QVC6Q2C-w"
      }
    },
    {
      "cell_type": "code",
      "source": [],
      "metadata": {
        "id": "WDNLzbED1Gcj"
      },
      "execution_count": null,
      "outputs": []
    },
    {
      "cell_type": "markdown",
      "source": [
        "Property Location: Are properties located in certain neighborhoods or areas more likely to have higher availability compared to properties in other locations?"
      ],
      "metadata": {
        "id": "X7HG1l1L2bIo"
      }
    },
    {
      "cell_type": "code",
      "source": [
        "query = '''\n",
        "SELECT\n",
        "    neighbourhood_cleansed,\n",
        "    AVG(has_availability ) AS average_availability\n",
        "FROM listing\n",
        "GROUP BY neighbourhood_cleansed\n",
        "ORDER BY average_availability DESC;\n",
        "'''\n",
        "cursor.execute(query)\n",
        "results = cursor.fetchall()"
      ],
      "metadata": {
        "id": "8U5DExOT1Gjc"
      },
      "execution_count": null,
      "outputs": []
    },
    {
      "cell_type": "code",
      "source": [
        "for row in results:\n",
        "    neighborhood, average_availability = row\n",
        "    print(f\"Neighborhood: {neighborhood}\")\n",
        "    print(f\"Average Availability: {average_availability}\\n\")"
      ],
      "metadata": {
        "colab": {
          "base_uri": "https://localhost:8080/"
        },
        "id": "FFtjCp2T1GoJ",
        "outputId": "1cc45545-1aa6-4c99-9067-c004f06704fd"
      },
      "execution_count": null,
      "outputs": [
        {
          "output_type": "stream",
          "name": "stdout",
          "text": [
            "Neighborhood: Yesler Terrace\n",
            "Average Availability: 1.0\n",
            "\n",
            "Neighborhood: Windermere\n",
            "Average Availability: 1.0\n",
            "\n",
            "Neighborhood: Whittier Heights\n",
            "Average Availability: 1.0\n",
            "\n",
            "Neighborhood: Westlake\n",
            "Average Availability: 1.0\n",
            "\n",
            "Neighborhood: West Woodland\n",
            "Average Availability: 1.0\n",
            "\n",
            "Neighborhood: West Queen Anne\n",
            "Average Availability: 1.0\n",
            "\n",
            "Neighborhood: Wedgwood\n",
            "Average Availability: 1.0\n",
            "\n",
            "Neighborhood: Wallingford\n",
            "Average Availability: 1.0\n",
            "\n",
            "Neighborhood: View Ridge\n",
            "Average Availability: 1.0\n",
            "\n",
            "Neighborhood: Victory Heights\n",
            "Average Availability: 1.0\n",
            "\n",
            "Neighborhood: University District\n",
            "Average Availability: 1.0\n",
            "\n",
            "Neighborhood: Sunset Hill\n",
            "Average Availability: 1.0\n",
            "\n",
            "Neighborhood: Stevens\n",
            "Average Availability: 1.0\n",
            "\n",
            "Neighborhood: Southeast Magnolia\n",
            "Average Availability: 1.0\n",
            "\n",
            "Neighborhood: South Park\n",
            "Average Availability: 1.0\n",
            "\n",
            "Neighborhood: South Lake Union\n",
            "Average Availability: 1.0\n",
            "\n",
            "Neighborhood: South Delridge\n",
            "Average Availability: 1.0\n",
            "\n",
            "Neighborhood: South Beacon Hill\n",
            "Average Availability: 1.0\n",
            "\n",
            "Neighborhood: Seward Park\n",
            "Average Availability: 1.0\n",
            "\n",
            "Neighborhood: Seaview\n",
            "Average Availability: 1.0\n",
            "\n",
            "Neighborhood: Roxhill\n",
            "Average Availability: 1.0\n",
            "\n",
            "Neighborhood: Roosevelt\n",
            "Average Availability: 1.0\n",
            "\n",
            "Neighborhood: Riverview\n",
            "Average Availability: 1.0\n",
            "\n",
            "Neighborhood: Ravenna\n",
            "Average Availability: 1.0\n",
            "\n",
            "Neighborhood: Rainier Beach\n",
            "Average Availability: 1.0\n",
            "\n",
            "Neighborhood: Portage Bay\n",
            "Average Availability: 1.0\n",
            "\n",
            "Neighborhood: Pioneer Square\n",
            "Average Availability: 1.0\n",
            "\n",
            "Neighborhood: Pinehurst\n",
            "Average Availability: 1.0\n",
            "\n",
            "Neighborhood: Pike-Market\n",
            "Average Availability: 1.0\n",
            "\n",
            "Neighborhood: Phinney Ridge\n",
            "Average Availability: 1.0\n",
            "\n",
            "Neighborhood: Olympic Hills\n",
            "Average Availability: 1.0\n",
            "\n",
            "Neighborhood: North Queen Anne\n",
            "Average Availability: 1.0\n",
            "\n",
            "Neighborhood: North Delridge\n",
            "Average Availability: 1.0\n",
            "\n",
            "Neighborhood: North College Park\n",
            "Average Availability: 1.0\n",
            "\n",
            "Neighborhood: North Beacon Hill\n",
            "Average Availability: 1.0\n",
            "\n",
            "Neighborhood: North Beach/Blue Ridge\n",
            "Average Availability: 1.0\n",
            "\n",
            "Neighborhood: North Admiral\n",
            "Average Availability: 1.0\n",
            "\n",
            "Neighborhood: Mount Baker\n",
            "Average Availability: 1.0\n",
            "\n",
            "Neighborhood: Montlake\n",
            "Average Availability: 1.0\n",
            "\n",
            "Neighborhood: Minor\n",
            "Average Availability: 1.0\n",
            "\n",
            "Neighborhood: Mid-Beacon Hill\n",
            "Average Availability: 1.0\n",
            "\n",
            "Neighborhood: Meadowbrook\n",
            "Average Availability: 1.0\n",
            "\n",
            "Neighborhood: Matthews Beach\n",
            "Average Availability: 1.0\n",
            "\n",
            "Neighborhood: Maple Leaf\n",
            "Average Availability: 1.0\n",
            "\n",
            "Neighborhood: Mann\n",
            "Average Availability: 1.0\n",
            "\n",
            "Neighborhood: Madrona\n",
            "Average Availability: 1.0\n",
            "\n",
            "Neighborhood: Madison Park\n",
            "Average Availability: 1.0\n",
            "\n",
            "Neighborhood: Loyal Heights\n",
            "Average Availability: 1.0\n",
            "\n",
            "Neighborhood: Lower Queen Anne\n",
            "Average Availability: 1.0\n",
            "\n",
            "Neighborhood: Leschi\n",
            "Average Availability: 1.0\n",
            "\n",
            "Neighborhood: Lawton Park\n",
            "Average Availability: 1.0\n",
            "\n",
            "Neighborhood: Laurelhurst\n",
            "Average Availability: 1.0\n",
            "\n",
            "Neighborhood: International District\n",
            "Average Availability: 1.0\n",
            "\n",
            "Neighborhood: Interbay\n",
            "Average Availability: 1.0\n",
            "\n",
            "Neighborhood: Industrial District\n",
            "Average Availability: 1.0\n",
            "\n",
            "Neighborhood: Holly Park\n",
            "Average Availability: 1.0\n",
            "\n",
            "Neighborhood: Highland Park\n",
            "Average Availability: 1.0\n",
            "\n",
            "Neighborhood: High Point\n",
            "Average Availability: 1.0\n",
            "\n",
            "Neighborhood: Harrison/Denny-Blaine\n",
            "Average Availability: 1.0\n",
            "\n",
            "Neighborhood: Haller Lake\n",
            "Average Availability: 1.0\n",
            "\n",
            "Neighborhood: Greenwood\n",
            "Average Availability: 1.0\n",
            "\n",
            "Neighborhood: Green Lake\n",
            "Average Availability: 1.0\n",
            "\n",
            "Neighborhood: Georgetown\n",
            "Average Availability: 1.0\n",
            "\n",
            "Neighborhood: Genesee\n",
            "Average Availability: 1.0\n",
            "\n",
            "Neighborhood: Gatewood\n",
            "Average Availability: 1.0\n",
            "\n",
            "Neighborhood: Fremont\n",
            "Average Availability: 1.0\n",
            "\n",
            "Neighborhood: First Hill\n",
            "Average Availability: 1.0\n",
            "\n",
            "Neighborhood: Fauntleroy\n",
            "Average Availability: 1.0\n",
            "\n",
            "Neighborhood: Fairmount Park\n",
            "Average Availability: 1.0\n",
            "\n",
            "Neighborhood: Eastlake\n",
            "Average Availability: 1.0\n",
            "\n",
            "Neighborhood: East Queen Anne\n",
            "Average Availability: 1.0\n",
            "\n",
            "Neighborhood: Dunlap\n",
            "Average Availability: 1.0\n",
            "\n",
            "Neighborhood: Crown Hill\n",
            "Average Availability: 1.0\n",
            "\n",
            "Neighborhood: Columbia City\n",
            "Average Availability: 1.0\n",
            "\n",
            "Neighborhood: Central Business District\n",
            "Average Availability: 1.0\n",
            "\n",
            "Neighborhood: Cedar Park\n",
            "Average Availability: 1.0\n",
            "\n",
            "Neighborhood: Bryant\n",
            "Average Availability: 1.0\n",
            "\n",
            "Neighborhood: Broadway\n",
            "Average Availability: 1.0\n",
            "\n",
            "Neighborhood: Broadview\n",
            "Average Availability: 1.0\n",
            "\n",
            "Neighborhood: Brighton\n",
            "Average Availability: 1.0\n",
            "\n",
            "Neighborhood: Briarcliff\n",
            "Average Availability: 1.0\n",
            "\n",
            "Neighborhood: Bitter Lake\n",
            "Average Availability: 1.0\n",
            "\n",
            "Neighborhood: Belltown\n",
            "Average Availability: 1.0\n",
            "\n",
            "Neighborhood: Atlantic\n",
            "Average Availability: 1.0\n",
            "\n",
            "Neighborhood: Arbor Heights\n",
            "Average Availability: 1.0\n",
            "\n",
            "Neighborhood: Alki\n",
            "Average Availability: 1.0\n",
            "\n",
            "Neighborhood: Adams\n",
            "Average Availability: 1.0\n",
            "\n"
          ]
        }
      ]
    },
    {
      "cell_type": "code",
      "source": [],
      "metadata": {
        "id": "AVpHflk21Gqr"
      },
      "execution_count": null,
      "outputs": []
    },
    {
      "cell_type": "markdown",
      "source": [
        "Minimum and Maximum Nights: Do properties with shorter or longer minimum and maximum night stays tend to have higher or lower availability?"
      ],
      "metadata": {
        "id": "2uCnGGOQ3yux"
      }
    },
    {
      "cell_type": "code",
      "source": [
        "# query = '''\n",
        "# SELECT\n",
        "#     minimum_nights,\n",
        "#     maximum_nights,\n",
        "#     AVG(has_availability) AS average_availability\n",
        "# FROM listing\n",
        "# GROUP BY minimum_nights, maximum_nights\n",
        "# ORDER BY average_availability DESC;\n",
        "# '''\n",
        "# cursor.execute(query)\n",
        "# results = cursor.fetchall()\n"
      ],
      "metadata": {
        "id": "E95xPMkK1Gtg"
      },
      "execution_count": null,
      "outputs": []
    },
    {
      "cell_type": "code",
      "source": [
        "# for row in results:\n",
        "#     minimum_nights, maximum_nights, average_availability = row\n",
        "#     print(f\"Minimum Nights: {minimum_nights}\")\n",
        "#     print(f\"Maximum Nights: {maximum_nights}\")\n",
        "#     print(f\"Average Availability: {average_availability}\\n\")"
      ],
      "metadata": {
        "colab": {
          "base_uri": "https://localhost:8080/"
        },
        "id": "Rs5vLA121GwV",
        "outputId": "e58089be-b90d-48d3-e0f7-0517a196182c"
      },
      "execution_count": null,
      "outputs": [
        {
          "output_type": "stream",
          "name": "stdout",
          "text": [
            "Minimum Nights: 1\n",
            "Maximum Nights: 1\n",
            "Average Availability: 1.0\n",
            "\n",
            "Minimum Nights: 1\n",
            "Maximum Nights: 2\n",
            "Average Availability: 1.0\n",
            "\n",
            "Minimum Nights: 1\n",
            "Maximum Nights: 3\n",
            "Average Availability: 1.0\n",
            "\n",
            "Minimum Nights: 1\n",
            "Maximum Nights: 4\n",
            "Average Availability: 1.0\n",
            "\n",
            "Minimum Nights: 1\n",
            "Maximum Nights: 5\n",
            "Average Availability: 1.0\n",
            "\n",
            "Minimum Nights: 1\n",
            "Maximum Nights: 6\n",
            "Average Availability: 1.0\n",
            "\n",
            "Minimum Nights: 1\n",
            "Maximum Nights: 7\n",
            "Average Availability: 1.0\n",
            "\n",
            "Minimum Nights: 1\n",
            "Maximum Nights: 8\n",
            "Average Availability: 1.0\n",
            "\n",
            "Minimum Nights: 1\n",
            "Maximum Nights: 9\n",
            "Average Availability: 1.0\n",
            "\n",
            "Minimum Nights: 1\n",
            "Maximum Nights: 10\n",
            "Average Availability: 1.0\n",
            "\n",
            "Minimum Nights: 1\n",
            "Maximum Nights: 12\n",
            "Average Availability: 1.0\n",
            "\n",
            "Minimum Nights: 1\n",
            "Maximum Nights: 13\n",
            "Average Availability: 1.0\n",
            "\n",
            "Minimum Nights: 1\n",
            "Maximum Nights: 14\n",
            "Average Availability: 1.0\n",
            "\n",
            "Minimum Nights: 1\n",
            "Maximum Nights: 15\n",
            "Average Availability: 1.0\n",
            "\n",
            "Minimum Nights: 1\n",
            "Maximum Nights: 16\n",
            "Average Availability: 1.0\n",
            "\n",
            "Minimum Nights: 1\n",
            "Maximum Nights: 20\n",
            "Average Availability: 1.0\n",
            "\n",
            "Minimum Nights: 1\n",
            "Maximum Nights: 21\n",
            "Average Availability: 1.0\n",
            "\n",
            "Minimum Nights: 1\n",
            "Maximum Nights: 22\n",
            "Average Availability: 1.0\n",
            "\n",
            "Minimum Nights: 1\n",
            "Maximum Nights: 24\n",
            "Average Availability: 1.0\n",
            "\n",
            "Minimum Nights: 1\n",
            "Maximum Nights: 25\n",
            "Average Availability: 1.0\n",
            "\n",
            "Minimum Nights: 1\n",
            "Maximum Nights: 26\n",
            "Average Availability: 1.0\n",
            "\n",
            "Minimum Nights: 1\n",
            "Maximum Nights: 27\n",
            "Average Availability: 1.0\n",
            "\n",
            "Minimum Nights: 1\n",
            "Maximum Nights: 28\n",
            "Average Availability: 1.0\n",
            "\n",
            "Minimum Nights: 1\n",
            "Maximum Nights: 29\n",
            "Average Availability: 1.0\n",
            "\n",
            "Minimum Nights: 1\n",
            "Maximum Nights: 30\n",
            "Average Availability: 1.0\n",
            "\n",
            "Minimum Nights: 1\n",
            "Maximum Nights: 31\n",
            "Average Availability: 1.0\n",
            "\n",
            "Minimum Nights: 1\n",
            "Maximum Nights: 32\n",
            "Average Availability: 1.0\n",
            "\n",
            "Minimum Nights: 1\n",
            "Maximum Nights: 33\n",
            "Average Availability: 1.0\n",
            "\n",
            "Minimum Nights: 1\n",
            "Maximum Nights: 35\n",
            "Average Availability: 1.0\n",
            "\n",
            "Minimum Nights: 1\n",
            "Maximum Nights: 40\n",
            "Average Availability: 1.0\n",
            "\n",
            "Minimum Nights: 1\n",
            "Maximum Nights: 50\n",
            "Average Availability: 1.0\n",
            "\n",
            "Minimum Nights: 1\n",
            "Maximum Nights: 60\n",
            "Average Availability: 1.0\n",
            "\n",
            "Minimum Nights: 1\n",
            "Maximum Nights: 65\n",
            "Average Availability: 1.0\n",
            "\n",
            "Minimum Nights: 1\n",
            "Maximum Nights: 70\n",
            "Average Availability: 1.0\n",
            "\n",
            "Minimum Nights: 1\n",
            "Maximum Nights: 90\n",
            "Average Availability: 1.0\n",
            "\n",
            "Minimum Nights: 1\n",
            "Maximum Nights: 95\n",
            "Average Availability: 1.0\n",
            "\n",
            "Minimum Nights: 1\n",
            "Maximum Nights: 99\n",
            "Average Availability: 1.0\n",
            "\n",
            "Minimum Nights: 1\n",
            "Maximum Nights: 100\n",
            "Average Availability: 1.0\n",
            "\n",
            "Minimum Nights: 1\n",
            "Maximum Nights: 120\n",
            "Average Availability: 1.0\n",
            "\n",
            "Minimum Nights: 1\n",
            "Maximum Nights: 150\n",
            "Average Availability: 1.0\n",
            "\n",
            "Minimum Nights: 1\n",
            "Maximum Nights: 180\n",
            "Average Availability: 1.0\n",
            "\n",
            "Minimum Nights: 1\n",
            "Maximum Nights: 200\n",
            "Average Availability: 1.0\n",
            "\n",
            "Minimum Nights: 1\n",
            "Maximum Nights: 360\n",
            "Average Availability: 1.0\n",
            "\n",
            "Minimum Nights: 1\n",
            "Maximum Nights: 365\n",
            "Average Availability: 1.0\n",
            "\n",
            "Minimum Nights: 1\n",
            "Maximum Nights: 500\n",
            "Average Availability: 1.0\n",
            "\n",
            "Minimum Nights: 1\n",
            "Maximum Nights: 730\n",
            "Average Availability: 1.0\n",
            "\n",
            "Minimum Nights: 1\n",
            "Maximum Nights: 1000\n",
            "Average Availability: 1.0\n",
            "\n",
            "Minimum Nights: 1\n",
            "Maximum Nights: 1125\n",
            "Average Availability: 1.0\n",
            "\n",
            "Minimum Nights: 2\n",
            "Maximum Nights: 2\n",
            "Average Availability: 1.0\n",
            "\n",
            "Minimum Nights: 2\n",
            "Maximum Nights: 3\n",
            "Average Availability: 1.0\n",
            "\n",
            "Minimum Nights: 2\n",
            "Maximum Nights: 4\n",
            "Average Availability: 1.0\n",
            "\n",
            "Minimum Nights: 2\n",
            "Maximum Nights: 5\n",
            "Average Availability: 1.0\n",
            "\n",
            "Minimum Nights: 2\n",
            "Maximum Nights: 6\n",
            "Average Availability: 1.0\n",
            "\n",
            "Minimum Nights: 2\n",
            "Maximum Nights: 7\n",
            "Average Availability: 1.0\n",
            "\n",
            "Minimum Nights: 2\n",
            "Maximum Nights: 8\n",
            "Average Availability: 1.0\n",
            "\n",
            "Minimum Nights: 2\n",
            "Maximum Nights: 9\n",
            "Average Availability: 1.0\n",
            "\n",
            "Minimum Nights: 2\n",
            "Maximum Nights: 10\n",
            "Average Availability: 1.0\n",
            "\n",
            "Minimum Nights: 2\n",
            "Maximum Nights: 11\n",
            "Average Availability: 1.0\n",
            "\n",
            "Minimum Nights: 2\n",
            "Maximum Nights: 13\n",
            "Average Availability: 1.0\n",
            "\n",
            "Minimum Nights: 2\n",
            "Maximum Nights: 14\n",
            "Average Availability: 1.0\n",
            "\n",
            "Minimum Nights: 2\n",
            "Maximum Nights: 15\n",
            "Average Availability: 1.0\n",
            "\n",
            "Minimum Nights: 2\n",
            "Maximum Nights: 16\n",
            "Average Availability: 1.0\n",
            "\n",
            "Minimum Nights: 2\n",
            "Maximum Nights: 18\n",
            "Average Availability: 1.0\n",
            "\n",
            "Minimum Nights: 2\n",
            "Maximum Nights: 19\n",
            "Average Availability: 1.0\n",
            "\n",
            "Minimum Nights: 2\n",
            "Maximum Nights: 20\n",
            "Average Availability: 1.0\n",
            "\n",
            "Minimum Nights: 2\n",
            "Maximum Nights: 21\n",
            "Average Availability: 1.0\n",
            "\n",
            "Minimum Nights: 2\n",
            "Maximum Nights: 22\n",
            "Average Availability: 1.0\n",
            "\n",
            "Minimum Nights: 2\n",
            "Maximum Nights: 23\n",
            "Average Availability: 1.0\n",
            "\n",
            "Minimum Nights: 2\n",
            "Maximum Nights: 25\n",
            "Average Availability: 1.0\n",
            "\n",
            "Minimum Nights: 2\n",
            "Maximum Nights: 26\n",
            "Average Availability: 1.0\n",
            "\n",
            "Minimum Nights: 2\n",
            "Maximum Nights: 27\n",
            "Average Availability: 1.0\n",
            "\n",
            "Minimum Nights: 2\n",
            "Maximum Nights: 28\n",
            "Average Availability: 1.0\n",
            "\n",
            "Minimum Nights: 2\n",
            "Maximum Nights: 29\n",
            "Average Availability: 1.0\n",
            "\n",
            "Minimum Nights: 2\n",
            "Maximum Nights: 30\n",
            "Average Availability: 1.0\n",
            "\n",
            "Minimum Nights: 2\n",
            "Maximum Nights: 31\n",
            "Average Availability: 1.0\n",
            "\n",
            "Minimum Nights: 2\n",
            "Maximum Nights: 32\n",
            "Average Availability: 1.0\n",
            "\n",
            "Minimum Nights: 2\n",
            "Maximum Nights: 33\n",
            "Average Availability: 1.0\n",
            "\n",
            "Minimum Nights: 2\n",
            "Maximum Nights: 35\n",
            "Average Availability: 1.0\n",
            "\n",
            "Minimum Nights: 2\n",
            "Maximum Nights: 40\n",
            "Average Availability: 1.0\n",
            "\n",
            "Minimum Nights: 2\n",
            "Maximum Nights: 45\n",
            "Average Availability: 1.0\n",
            "\n",
            "Minimum Nights: 2\n",
            "Maximum Nights: 60\n",
            "Average Availability: 1.0\n",
            "\n",
            "Minimum Nights: 2\n",
            "Maximum Nights: 90\n",
            "Average Availability: 1.0\n",
            "\n",
            "Minimum Nights: 2\n",
            "Maximum Nights: 99\n",
            "Average Availability: 1.0\n",
            "\n",
            "Minimum Nights: 2\n",
            "Maximum Nights: 100\n",
            "Average Availability: 1.0\n",
            "\n",
            "Minimum Nights: 2\n",
            "Maximum Nights: 120\n",
            "Average Availability: 1.0\n",
            "\n",
            "Minimum Nights: 2\n",
            "Maximum Nights: 125\n",
            "Average Availability: 1.0\n",
            "\n",
            "Minimum Nights: 2\n",
            "Maximum Nights: 150\n",
            "Average Availability: 1.0\n",
            "\n",
            "Minimum Nights: 2\n",
            "Maximum Nights: 180\n",
            "Average Availability: 1.0\n",
            "\n",
            "Minimum Nights: 2\n",
            "Maximum Nights: 200\n",
            "Average Availability: 1.0\n",
            "\n",
            "Minimum Nights: 2\n",
            "Maximum Nights: 234\n",
            "Average Availability: 1.0\n",
            "\n",
            "Minimum Nights: 2\n",
            "Maximum Nights: 260\n",
            "Average Availability: 1.0\n",
            "\n",
            "Minimum Nights: 2\n",
            "Maximum Nights: 352\n",
            "Average Availability: 1.0\n",
            "\n",
            "Minimum Nights: 2\n",
            "Maximum Nights: 360\n",
            "Average Availability: 1.0\n",
            "\n",
            "Minimum Nights: 2\n",
            "Maximum Nights: 365\n",
            "Average Availability: 1.0\n",
            "\n",
            "Minimum Nights: 2\n",
            "Maximum Nights: 730\n",
            "Average Availability: 1.0\n",
            "\n",
            "Minimum Nights: 2\n",
            "Maximum Nights: 1000\n",
            "Average Availability: 1.0\n",
            "\n",
            "Minimum Nights: 2\n",
            "Maximum Nights: 1125\n",
            "Average Availability: 1.0\n",
            "\n",
            "Minimum Nights: 2\n",
            "Maximum Nights: 1825\n",
            "Average Availability: 1.0\n",
            "\n",
            "Minimum Nights: 3\n",
            "Maximum Nights: 3\n",
            "Average Availability: 1.0\n",
            "\n",
            "Minimum Nights: 3\n",
            "Maximum Nights: 4\n",
            "Average Availability: 1.0\n",
            "\n",
            "Minimum Nights: 3\n",
            "Maximum Nights: 5\n",
            "Average Availability: 1.0\n",
            "\n",
            "Minimum Nights: 3\n",
            "Maximum Nights: 6\n",
            "Average Availability: 1.0\n",
            "\n",
            "Minimum Nights: 3\n",
            "Maximum Nights: 7\n",
            "Average Availability: 1.0\n",
            "\n",
            "Minimum Nights: 3\n",
            "Maximum Nights: 8\n",
            "Average Availability: 1.0\n",
            "\n",
            "Minimum Nights: 3\n",
            "Maximum Nights: 9\n",
            "Average Availability: 1.0\n",
            "\n",
            "Minimum Nights: 3\n",
            "Maximum Nights: 10\n",
            "Average Availability: 1.0\n",
            "\n",
            "Minimum Nights: 3\n",
            "Maximum Nights: 12\n",
            "Average Availability: 1.0\n",
            "\n",
            "Minimum Nights: 3\n",
            "Maximum Nights: 13\n",
            "Average Availability: 1.0\n",
            "\n",
            "Minimum Nights: 3\n",
            "Maximum Nights: 14\n",
            "Average Availability: 1.0\n",
            "\n",
            "Minimum Nights: 3\n",
            "Maximum Nights: 15\n",
            "Average Availability: 1.0\n",
            "\n",
            "Minimum Nights: 3\n",
            "Maximum Nights: 16\n",
            "Average Availability: 1.0\n",
            "\n",
            "Minimum Nights: 3\n",
            "Maximum Nights: 20\n",
            "Average Availability: 1.0\n",
            "\n",
            "Minimum Nights: 3\n",
            "Maximum Nights: 21\n",
            "Average Availability: 1.0\n",
            "\n",
            "Minimum Nights: 3\n",
            "Maximum Nights: 24\n",
            "Average Availability: 1.0\n",
            "\n",
            "Minimum Nights: 3\n",
            "Maximum Nights: 25\n",
            "Average Availability: 1.0\n",
            "\n",
            "Minimum Nights: 3\n",
            "Maximum Nights: 28\n",
            "Average Availability: 1.0\n",
            "\n",
            "Minimum Nights: 3\n",
            "Maximum Nights: 29\n",
            "Average Availability: 1.0\n",
            "\n",
            "Minimum Nights: 3\n",
            "Maximum Nights: 30\n",
            "Average Availability: 1.0\n",
            "\n",
            "Minimum Nights: 3\n",
            "Maximum Nights: 31\n",
            "Average Availability: 1.0\n",
            "\n",
            "Minimum Nights: 3\n",
            "Maximum Nights: 32\n",
            "Average Availability: 1.0\n",
            "\n",
            "Minimum Nights: 3\n",
            "Maximum Nights: 45\n",
            "Average Availability: 1.0\n",
            "\n",
            "Minimum Nights: 3\n",
            "Maximum Nights: 60\n",
            "Average Availability: 1.0\n",
            "\n",
            "Minimum Nights: 3\n",
            "Maximum Nights: 65\n",
            "Average Availability: 1.0\n",
            "\n",
            "Minimum Nights: 3\n",
            "Maximum Nights: 90\n",
            "Average Availability: 1.0\n",
            "\n",
            "Minimum Nights: 3\n",
            "Maximum Nights: 93\n",
            "Average Availability: 1.0\n",
            "\n",
            "Minimum Nights: 3\n",
            "Maximum Nights: 120\n",
            "Average Availability: 1.0\n",
            "\n",
            "Minimum Nights: 3\n",
            "Maximum Nights: 160\n",
            "Average Availability: 1.0\n",
            "\n",
            "Minimum Nights: 3\n",
            "Maximum Nights: 180\n",
            "Average Availability: 1.0\n",
            "\n",
            "Minimum Nights: 3\n",
            "Maximum Nights: 330\n",
            "Average Availability: 1.0\n",
            "\n",
            "Minimum Nights: 3\n",
            "Maximum Nights: 360\n",
            "Average Availability: 1.0\n",
            "\n",
            "Minimum Nights: 3\n",
            "Maximum Nights: 365\n",
            "Average Availability: 1.0\n",
            "\n",
            "Minimum Nights: 3\n",
            "Maximum Nights: 730\n",
            "Average Availability: 1.0\n",
            "\n",
            "Minimum Nights: 3\n",
            "Maximum Nights: 1125\n",
            "Average Availability: 1.0\n",
            "\n",
            "Minimum Nights: 4\n",
            "Maximum Nights: 7\n",
            "Average Availability: 1.0\n",
            "\n",
            "Minimum Nights: 4\n",
            "Maximum Nights: 14\n",
            "Average Availability: 1.0\n",
            "\n",
            "Minimum Nights: 4\n",
            "Maximum Nights: 15\n",
            "Average Availability: 1.0\n",
            "\n",
            "Minimum Nights: 4\n",
            "Maximum Nights: 16\n",
            "Average Availability: 1.0\n",
            "\n",
            "Minimum Nights: 4\n",
            "Maximum Nights: 21\n",
            "Average Availability: 1.0\n",
            "\n",
            "Minimum Nights: 4\n",
            "Maximum Nights: 28\n",
            "Average Availability: 1.0\n",
            "\n",
            "Minimum Nights: 4\n",
            "Maximum Nights: 29\n",
            "Average Availability: 1.0\n",
            "\n",
            "Minimum Nights: 4\n",
            "Maximum Nights: 30\n",
            "Average Availability: 1.0\n",
            "\n",
            "Minimum Nights: 4\n",
            "Maximum Nights: 31\n",
            "Average Availability: 1.0\n",
            "\n",
            "Minimum Nights: 4\n",
            "Maximum Nights: 60\n",
            "Average Availability: 1.0\n",
            "\n",
            "Minimum Nights: 4\n",
            "Maximum Nights: 90\n",
            "Average Availability: 1.0\n",
            "\n",
            "Minimum Nights: 4\n",
            "Maximum Nights: 120\n",
            "Average Availability: 1.0\n",
            "\n",
            "Minimum Nights: 4\n",
            "Maximum Nights: 180\n",
            "Average Availability: 1.0\n",
            "\n",
            "Minimum Nights: 4\n",
            "Maximum Nights: 183\n",
            "Average Availability: 1.0\n",
            "\n",
            "Minimum Nights: 4\n",
            "Maximum Nights: 270\n",
            "Average Availability: 1.0\n",
            "\n",
            "Minimum Nights: 4\n",
            "Maximum Nights: 365\n",
            "Average Availability: 1.0\n",
            "\n",
            "Minimum Nights: 4\n",
            "Maximum Nights: 1125\n",
            "Average Availability: 1.0\n",
            "\n",
            "Minimum Nights: 5\n",
            "Maximum Nights: 6\n",
            "Average Availability: 1.0\n",
            "\n",
            "Minimum Nights: 5\n",
            "Maximum Nights: 7\n",
            "Average Availability: 1.0\n",
            "\n",
            "Minimum Nights: 5\n",
            "Maximum Nights: 10\n",
            "Average Availability: 1.0\n",
            "\n",
            "Minimum Nights: 5\n",
            "Maximum Nights: 11\n",
            "Average Availability: 1.0\n",
            "\n",
            "Minimum Nights: 5\n",
            "Maximum Nights: 12\n",
            "Average Availability: 1.0\n",
            "\n",
            "Minimum Nights: 5\n",
            "Maximum Nights: 14\n",
            "Average Availability: 1.0\n",
            "\n",
            "Minimum Nights: 5\n",
            "Maximum Nights: 15\n",
            "Average Availability: 1.0\n",
            "\n",
            "Minimum Nights: 5\n",
            "Maximum Nights: 21\n",
            "Average Availability: 1.0\n",
            "\n",
            "Minimum Nights: 5\n",
            "Maximum Nights: 22\n",
            "Average Availability: 1.0\n",
            "\n",
            "Minimum Nights: 5\n",
            "Maximum Nights: 28\n",
            "Average Availability: 1.0\n",
            "\n",
            "Minimum Nights: 5\n",
            "Maximum Nights: 29\n",
            "Average Availability: 1.0\n",
            "\n",
            "Minimum Nights: 5\n",
            "Maximum Nights: 30\n",
            "Average Availability: 1.0\n",
            "\n",
            "Minimum Nights: 5\n",
            "Maximum Nights: 60\n",
            "Average Availability: 1.0\n",
            "\n",
            "Minimum Nights: 5\n",
            "Maximum Nights: 65\n",
            "Average Availability: 1.0\n",
            "\n",
            "Minimum Nights: 5\n",
            "Maximum Nights: 90\n",
            "Average Availability: 1.0\n",
            "\n",
            "Minimum Nights: 5\n",
            "Maximum Nights: 125\n",
            "Average Availability: 1.0\n",
            "\n",
            "Minimum Nights: 5\n",
            "Maximum Nights: 180\n",
            "Average Availability: 1.0\n",
            "\n",
            "Minimum Nights: 5\n",
            "Maximum Nights: 365\n",
            "Average Availability: 1.0\n",
            "\n",
            "Minimum Nights: 5\n",
            "Maximum Nights: 999\n",
            "Average Availability: 1.0\n",
            "\n",
            "Minimum Nights: 5\n",
            "Maximum Nights: 1125\n",
            "Average Availability: 1.0\n",
            "\n",
            "Minimum Nights: 6\n",
            "Maximum Nights: 15\n",
            "Average Availability: 1.0\n",
            "\n",
            "Minimum Nights: 6\n",
            "Maximum Nights: 23\n",
            "Average Availability: 1.0\n",
            "\n",
            "Minimum Nights: 6\n",
            "Maximum Nights: 28\n",
            "Average Availability: 1.0\n",
            "\n",
            "Minimum Nights: 6\n",
            "Maximum Nights: 31\n",
            "Average Availability: 1.0\n",
            "\n",
            "Minimum Nights: 6\n",
            "Maximum Nights: 32\n",
            "Average Availability: 1.0\n",
            "\n",
            "Minimum Nights: 6\n",
            "Maximum Nights: 90\n",
            "Average Availability: 1.0\n",
            "\n",
            "Minimum Nights: 6\n",
            "Maximum Nights: 120\n",
            "Average Availability: 1.0\n",
            "\n",
            "Minimum Nights: 6\n",
            "Maximum Nights: 180\n",
            "Average Availability: 1.0\n",
            "\n",
            "Minimum Nights: 6\n",
            "Maximum Nights: 1125\n",
            "Average Availability: 1.0\n",
            "\n",
            "Minimum Nights: 6\n",
            "Maximum Nights: 100000\n",
            "Average Availability: 1.0\n",
            "\n",
            "Minimum Nights: 7\n",
            "Maximum Nights: 10\n",
            "Average Availability: 1.0\n",
            "\n",
            "Minimum Nights: 7\n",
            "Maximum Nights: 14\n",
            "Average Availability: 1.0\n",
            "\n",
            "Minimum Nights: 7\n",
            "Maximum Nights: 20\n",
            "Average Availability: 1.0\n",
            "\n",
            "Minimum Nights: 7\n",
            "Maximum Nights: 29\n",
            "Average Availability: 1.0\n",
            "\n",
            "Minimum Nights: 7\n",
            "Maximum Nights: 30\n",
            "Average Availability: 1.0\n",
            "\n",
            "Minimum Nights: 7\n",
            "Maximum Nights: 31\n",
            "Average Availability: 1.0\n",
            "\n",
            "Minimum Nights: 7\n",
            "Maximum Nights: 60\n",
            "Average Availability: 1.0\n",
            "\n",
            "Minimum Nights: 7\n",
            "Maximum Nights: 90\n",
            "Average Availability: 1.0\n",
            "\n",
            "Minimum Nights: 7\n",
            "Maximum Nights: 100\n",
            "Average Availability: 1.0\n",
            "\n",
            "Minimum Nights: 7\n",
            "Maximum Nights: 120\n",
            "Average Availability: 1.0\n",
            "\n",
            "Minimum Nights: 7\n",
            "Maximum Nights: 150\n",
            "Average Availability: 1.0\n",
            "\n",
            "Minimum Nights: 7\n",
            "Maximum Nights: 180\n",
            "Average Availability: 1.0\n",
            "\n",
            "Minimum Nights: 7\n",
            "Maximum Nights: 270\n",
            "Average Availability: 1.0\n",
            "\n",
            "Minimum Nights: 7\n",
            "Maximum Nights: 360\n",
            "Average Availability: 1.0\n",
            "\n",
            "Minimum Nights: 7\n",
            "Maximum Nights: 365\n",
            "Average Availability: 1.0\n",
            "\n",
            "Minimum Nights: 7\n",
            "Maximum Nights: 730\n",
            "Average Availability: 1.0\n",
            "\n",
            "Minimum Nights: 7\n",
            "Maximum Nights: 1125\n",
            "Average Availability: 1.0\n",
            "\n",
            "Minimum Nights: 8\n",
            "Maximum Nights: 1125\n",
            "Average Availability: 1.0\n",
            "\n",
            "Minimum Nights: 10\n",
            "Maximum Nights: 30\n",
            "Average Availability: 1.0\n",
            "\n",
            "Minimum Nights: 10\n",
            "Maximum Nights: 45\n",
            "Average Availability: 1.0\n",
            "\n",
            "Minimum Nights: 10\n",
            "Maximum Nights: 365\n",
            "Average Availability: 1.0\n",
            "\n",
            "Minimum Nights: 10\n",
            "Maximum Nights: 1125\n",
            "Average Availability: 1.0\n",
            "\n",
            "Minimum Nights: 11\n",
            "Maximum Nights: 11\n",
            "Average Availability: 1.0\n",
            "\n",
            "Minimum Nights: 12\n",
            "Maximum Nights: 1125\n",
            "Average Availability: 1.0\n",
            "\n",
            "Minimum Nights: 13\n",
            "Maximum Nights: 183\n",
            "Average Availability: 1.0\n",
            "\n",
            "Minimum Nights: 13\n",
            "Maximum Nights: 1125\n",
            "Average Availability: 1.0\n",
            "\n",
            "Minimum Nights: 14\n",
            "Maximum Nights: 40\n",
            "Average Availability: 1.0\n",
            "\n",
            "Minimum Nights: 14\n",
            "Maximum Nights: 60\n",
            "Average Availability: 1.0\n",
            "\n",
            "Minimum Nights: 14\n",
            "Maximum Nights: 90\n",
            "Average Availability: 1.0\n",
            "\n",
            "Minimum Nights: 14\n",
            "Maximum Nights: 91\n",
            "Average Availability: 1.0\n",
            "\n",
            "Minimum Nights: 14\n",
            "Maximum Nights: 120\n",
            "Average Availability: 1.0\n",
            "\n",
            "Minimum Nights: 14\n",
            "Maximum Nights: 180\n",
            "Average Availability: 1.0\n",
            "\n",
            "Minimum Nights: 14\n",
            "Maximum Nights: 1125\n",
            "Average Availability: 1.0\n",
            "\n",
            "Minimum Nights: 15\n",
            "Maximum Nights: 1125\n",
            "Average Availability: 1.0\n",
            "\n",
            "Minimum Nights: 20\n",
            "Maximum Nights: 31\n",
            "Average Availability: 1.0\n",
            "\n",
            "Minimum Nights: 20\n",
            "Maximum Nights: 44\n",
            "Average Availability: 1.0\n",
            "\n",
            "Minimum Nights: 20\n",
            "Maximum Nights: 65\n",
            "Average Availability: 1.0\n",
            "\n",
            "Minimum Nights: 20\n",
            "Maximum Nights: 120\n",
            "Average Availability: 1.0\n",
            "\n",
            "Minimum Nights: 20\n",
            "Maximum Nights: 1125\n",
            "Average Availability: 1.0\n",
            "\n",
            "Minimum Nights: 21\n",
            "Maximum Nights: 1125\n",
            "Average Availability: 1.0\n",
            "\n",
            "Minimum Nights: 26\n",
            "Maximum Nights: 30\n",
            "Average Availability: 1.0\n",
            "\n",
            "Minimum Nights: 28\n",
            "Maximum Nights: 1125\n",
            "Average Availability: 1.0\n",
            "\n",
            "Minimum Nights: 29\n",
            "Maximum Nights: 400\n",
            "Average Availability: 1.0\n",
            "\n",
            "Minimum Nights: 30\n",
            "Maximum Nights: 90\n",
            "Average Availability: 1.0\n",
            "\n",
            "Minimum Nights: 30\n",
            "Maximum Nights: 93\n",
            "Average Availability: 1.0\n",
            "\n",
            "Minimum Nights: 30\n",
            "Maximum Nights: 180\n",
            "Average Availability: 1.0\n",
            "\n",
            "Minimum Nights: 30\n",
            "Maximum Nights: 365\n",
            "Average Availability: 1.0\n",
            "\n",
            "Minimum Nights: 30\n",
            "Maximum Nights: 1125\n",
            "Average Availability: 1.0\n",
            "\n",
            "Minimum Nights: 31\n",
            "Maximum Nights: 365\n",
            "Average Availability: 1.0\n",
            "\n",
            "Minimum Nights: 1000\n",
            "Maximum Nights: 1125\n",
            "Average Availability: 1.0\n",
            "\n"
          ]
        }
      ]
    },
    {
      "cell_type": "code",
      "source": [],
      "metadata": {
        "id": "G5L9Fsl51Gyk"
      },
      "execution_count": null,
      "outputs": []
    },
    {
      "cell_type": "markdown",
      "source": [
        "Property Size: Do larger or smaller properties tend to have higher availability?"
      ],
      "metadata": {
        "id": "XitYHDER4UXu"
      }
    },
    {
      "cell_type": "code",
      "source": [
        "query = '''\n",
        "SELECT\n",
        "    size_category,\n",
        "    AVG(has_availability) AS average_availability\n",
        "FROM (\n",
        "    SELECT\n",
        "        CASE\n",
        "            WHEN bedrooms + bathrooms <= 2 THEN 'Small'\n",
        "            WHEN bedrooms + bathrooms > 2 AND bedrooms + bathrooms <= 4 THEN 'Medium'\n",
        "            WHEN bedrooms + bathrooms > 4 THEN 'Large'\n",
        "        END AS size_category,\n",
        "        has_availability\n",
        "    FROM listing\n",
        ") AS subquery\n",
        "GROUP BY size_category;\n",
        "'''\n",
        "cursor.execute(query)\n",
        "results = cursor.fetchall()"
      ],
      "metadata": {
        "id": "3EZ6g5xz4JDm"
      },
      "execution_count": null,
      "outputs": []
    },
    {
      "cell_type": "code",
      "source": [
        "for row in results:\n",
        "    size_category, average_availability = row\n",
        "    print(f\"Size Category: {size_category}\")\n",
        "    print(f\"Average Availability: {average_availability}\\n\")\n"
      ],
      "metadata": {
        "colab": {
          "base_uri": "https://localhost:8080/"
        },
        "id": "M0g4lwzX4JGV",
        "outputId": "7e9fc200-b1f1-4024-d08f-9d7307ec8c10"
      },
      "execution_count": null,
      "outputs": [
        {
          "output_type": "stream",
          "name": "stdout",
          "text": [
            "Size Category: None\n",
            "Average Availability: 1.0\n",
            "\n",
            "Size Category: Large\n",
            "Average Availability: 1.0\n",
            "\n",
            "Size Category: Medium\n",
            "Average Availability: 1.0\n",
            "\n",
            "Size Category: Small\n",
            "Average Availability: 1.0\n",
            "\n"
          ]
        }
      ]
    },
    {
      "cell_type": "code",
      "source": [
        "conn.commit()\n",
        "conn.close()"
      ],
      "metadata": {
        "id": "NudKd2X64JJF"
      },
      "execution_count": null,
      "outputs": []
    }
  ]
}